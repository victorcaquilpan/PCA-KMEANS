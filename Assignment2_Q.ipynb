{
  "cells": [
    {
      "cell_type": "markdown",
      "metadata": {
        "id": "view-in-github",
        "colab_type": "text"
      },
      "source": [
        "<a href=\"https://colab.research.google.com/github/victorcaquilpan/PCA-KMEANS/blob/main/Assignment2_Q.ipynb\" target=\"_parent\"><img src=\"https://colab.research.google.com/assets/colab-badge.svg\" alt=\"Open In Colab\"/></a>"
      ]
    },
    {
      "cell_type": "markdown",
      "id": "578d2f82-6326-41ee-8ddd-c532ae17b4af",
      "metadata": {
        "id": "578d2f82-6326-41ee-8ddd-c532ae17b4af"
      },
      "source": [
        "# In this assignment, you will implement the PCA and the k-means algorithm\n",
        "### 100 points total"
      ]
    },
    {
      "cell_type": "code",
      "execution_count": 1,
      "id": "82a25f74-f946-4fe1-8265-26e8865a009e",
      "metadata": {
        "id": "82a25f74-f946-4fe1-8265-26e8865a009e"
      },
      "outputs": [],
      "source": [
        "# clear all variables\n",
        "%reset_selective -f a\n",
        "#import \n",
        "import numpy as np\n",
        "import random\n",
        "import matplotlib.pyplot as plt\n",
        "from numpy import loadtxt\n",
        "import time\n",
        "from scipy.linalg import eigh"
      ]
    },
    {
      "cell_type": "code",
      "source": [
        "# As we are going to use random values, we need to set a seed\n",
        "random.seed(200)"
      ],
      "metadata": {
        "id": "1SBGTxaCMP4V"
      },
      "id": "1SBGTxaCMP4V",
      "execution_count": 2,
      "outputs": []
    },
    {
      "cell_type": "markdown",
      "id": "42be9c7a-1177-44d7-a549-791670eb72ee",
      "metadata": {
        "tags": [],
        "id": "42be9c7a-1177-44d7-a549-791670eb72ee"
      },
      "source": [
        "## Load data from data.csv file (5 Points)\n"
      ]
    },
    {
      "cell_type": "code",
      "execution_count": 3,
      "id": "444dbce1-071a-4c41-9977-a7be65d47b9e",
      "metadata": {
        "tags": [],
        "id": "444dbce1-071a-4c41-9977-a7be65d47b9e"
      },
      "outputs": [],
      "source": [
        "# Complete the function below to load the data from data.csv. \n",
        "# Return X where X is a 1000 by 500 (m=1000 and d=500. d is the number of features)\n",
        "def load_data(file_name):\n",
        "    # write your code here\n",
        "    X = np.loadtxt(file_name, delimiter=',', unpack=True)\n",
        "    # We know that matrix is transpose, so we need to consider an additional step to get the original values\n",
        "    X = X.T\n",
        "    return X"
      ]
    },
    {
      "cell_type": "code",
      "execution_count": 4,
      "id": "f587d3e4-7d80-4012-81e5-498dbbdc6228",
      "metadata": {
        "tags": [],
        "id": "f587d3e4-7d80-4012-81e5-498dbbdc6228"
      },
      "outputs": [],
      "source": [
        "# We can load data\n",
        "X = load_data(\"data-1.csv\")"
      ]
    },
    {
      "cell_type": "code",
      "source": [
        "# We can check dimensions\n",
        "X.shape"
      ],
      "metadata": {
        "colab": {
          "base_uri": "https://localhost:8080/"
        },
        "id": "aKdZn4hNdDg4",
        "outputId": "e9a545f0-9dd8-4500-f49d-da5ad8fa97e9"
      },
      "id": "aKdZn4hNdDg4",
      "execution_count": 5,
      "outputs": [
        {
          "output_type": "execute_result",
          "data": {
            "text/plain": [
              "(1000, 500)"
            ]
          },
          "metadata": {},
          "execution_count": 5
        }
      ]
    },
    {
      "cell_type": "markdown",
      "id": "59ebe14f-6dbb-45aa-a92f-4f89ba6b8d02",
      "metadata": {
        "tags": [],
        "id": "59ebe14f-6dbb-45aa-a92f-4f89ba6b8d02"
      },
      "source": [
        "# Before clustering the data, implement PCA to reduce the dimensionality from 500 to 2."
      ]
    },
    {
      "cell_type": "markdown",
      "id": "999cb2fd-5795-4857-a7b6-3dfdd2b9dd6d",
      "metadata": {
        "tags": [],
        "id": "999cb2fd-5795-4857-a7b6-3dfdd2b9dd6d"
      },
      "source": [
        "## Preprocess the data (5 Points)"
      ]
    },
    {
      "cell_type": "code",
      "execution_count": 6,
      "id": "e9bef6bb-6d49-4fc9-9dda-223c9dcc85c2",
      "metadata": {
        "tags": [],
        "id": "e9bef6bb-6d49-4fc9-9dda-223c9dcc85c2"
      },
      "outputs": [],
      "source": [
        "# perform any preprocessing steps in the function below.\n",
        "def pre_process(X):\n",
        "    # write your code here. Implementation of z-mean normalization\n",
        "    for feature in range(X.shape[1]):\n",
        "      X[:,feature] =  (X[:,feature] - X[:,feature].mean())/X[:,feature].std()\n",
        "    return X"
      ]
    },
    {
      "cell_type": "markdown",
      "id": "3adba28f-2bc6-49a8-a03f-72d963860f45",
      "metadata": {
        "tags": [],
        "id": "3adba28f-2bc6-49a8-a03f-72d963860f45"
      },
      "source": [
        "## Implement PCA to reduce the dimensionality to 2 (30 points if from scratch, 10 points if using a PCA function from a library)"
      ]
    },
    {
      "cell_type": "code",
      "execution_count": 7,
      "id": "820bca5c-d00a-47bc-adbe-63b6673f3fcd",
      "metadata": {
        "tags": [],
        "id": "820bca5c-d00a-47bc-adbe-63b6673f3fcd"
      },
      "outputs": [],
      "source": [
        "# the below function takes X as (m by 500) and return it as (m by 2) after performing PCA. \n",
        "# If implementing from scratch, you can use functions from numpy and numpy.linalg etc\n",
        "def my_PCA(X):\n",
        "\n",
        "  # Getting covariance matrix\n",
        "  cov_mat = np.cov(X, rowvar = False)\n",
        "  # Getting eigenvalues and eigenvectors\n",
        "  eigen_values , eigen_vectors = np.linalg.eigh(cov_mat)\n",
        "  # Now, we need to sort the eigenvalues and eigenvalues in descending order as\n",
        "  # each one is one principal component\n",
        "  sorted_index = np.argsort(eigen_values)[::-1]\n",
        "  # Sort eigenvalues and eigenvectors from the most important and go on\n",
        "  sorted_eigenvalue = eigen_values[sorted_index]\n",
        "  sorted_eigenvectors = eigen_vectors[:,sorted_index]\n",
        "  # select the first 2 eigenvectors\n",
        "  eigenvector_subset = sorted_eigenvectors[:,:2]\n",
        "  #Transform the data \n",
        "  X_2d = np.dot(eigenvector_subset.transpose(),X.transpose()).transpose()\n",
        "  return X_2d"
      ]
    },
    {
      "cell_type": "code",
      "execution_count": 8,
      "id": "4e65de13-1d9d-4810-b187-ccf3f108312a",
      "metadata": {
        "tags": [],
        "colab": {
          "base_uri": "https://localhost:8080/",
          "height": 313
        },
        "id": "4e65de13-1d9d-4810-b187-ccf3f108312a",
        "outputId": "475a4bc2-c1a0-48bd-b45f-d46a21d2fddd"
      },
      "outputs": [
        {
          "output_type": "stream",
          "name": "stdout",
          "text": [
            "(1000, 2)\n"
          ]
        },
        {
          "output_type": "display_data",
          "data": {
            "text/plain": [
              "<Figure size 432x288 with 1 Axes>"
            ],
            "image/png": "[encoded data removed]"
          },
          "metadata": {
            "needs_background": "light"
          }
        }
      ],
      "source": [
        "X = pre_process(X)\n",
        "X_2d = my_PCA(X)\n",
        "# check out the shape and scatter plot the points\n",
        "print(X_2d.shape)\n",
        "plt.scatter(X_2d[:,0],X_2d[:,1]);\n",
        "plt.title('Result from PCA (scratch)');\n",
        "plt.xlabel('Feature 1');\n",
        "plt.ylabel('Feature 2');"
      ]
    },
    {
      "cell_type": "markdown",
      "source": [
        "# **Comparing with Sklearn PCA algorithm**"
      ],
      "metadata": {
        "id": "K2e7B3K9N0bg"
      },
      "id": "K2e7B3K9N0bg"
    },
    {
      "cell_type": "code",
      "source": [
        "# Checking sklearn\n",
        "\n",
        "# We load data\n",
        "X_sklearn = load_data(\"data-1.csv\")\n",
        "# Do the preprocessing\n",
        "X_sklearn = pre_process(X_sklearn)\n",
        "\n",
        "# Load the library for PCA\n",
        "from sklearn.decomposition import PCA\n",
        "# Create PCA algorithm. We use svd_solver = full to avoid that sklearn uses only \n",
        "# a subset of data to create PCA.\n",
        "pca = PCA(n_components=2,svd_solver ='full')\n",
        "# Apply PCA\n",
        "principalComponents = pca.fit_transform(X_sklearn)\n",
        "# Show result\n",
        "plt.scatter(principalComponents[:,0],principalComponents[:,1]);\n",
        "plt.title('Result from PCA (sklearn)');\n",
        "plt.xlabel('Feature 1');\n",
        "plt.ylabel('Feature 2');"
      ],
      "metadata": {
        "colab": {
          "base_uri": "https://localhost:8080/",
          "height": 295
        },
        "id": "DDSLu0CVKdjS",
        "outputId": "370b5ca9-3dd6-499a-d1f6-585f6b3da0f6"
      },
      "id": "DDSLu0CVKdjS",
      "execution_count": 9,
      "outputs": [
        {
          "output_type": "display_data",
          "data": {
            "text/plain": [
              "<Figure size 432x288 with 1 Axes>"
            ],
            "image/png": "[encoded data removed]"
          },
          "metadata": {
            "needs_background": "light"
          }
        }
      ]
    },
    {
      "cell_type": "markdown",
      "source": [
        "Comparing with the PCA algorithm from sklearn, we can see that our PCA model gives us the same solution to sklearn."
      ],
      "metadata": {
        "id": "tTMtCAMkHOCA"
      },
      "id": "tTMtCAMkHOCA"
    },
    {
      "cell_type": "markdown",
      "id": "b8ab5ee7-586f-47e8-a2ce-17ee8dcfc299",
      "metadata": {
        "tags": [],
        "id": "b8ab5ee7-586f-47e8-a2ce-17ee8dcfc299"
      },
      "source": [
        "# K-means"
      ]
    },
    {
      "cell_type": "markdown",
      "id": "d646b13d-e0d9-422a-a637-618d86032677",
      "metadata": {
        "tags": [],
        "id": "d646b13d-e0d9-422a-a637-618d86032677"
      },
      "source": [
        "## Start by implementing a function that randomly initialises centroids (5 points)."
      ]
    },
    {
      "cell_type": "code",
      "execution_count": 10,
      "id": "770e8b56-9191-4be6-9138-cc721f0116ff",
      "metadata": {
        "tags": [],
        "id": "770e8b56-9191-4be6-9138-cc721f0116ff"
      },
      "outputs": [],
      "source": [
        "#input:\n",
        "#k: number of centers\n",
        "#X: the data\n",
        "# return\n",
        "# centroids is a k by 2 \n",
        "def initialise_centroids(X,k):\n",
        "  # First, we can check which are the boundaries of our data\n",
        "  min_boundaries, max_boundaries = np.min(X, axis=0), np.max(X, axis=0)\n",
        "  # Create random centroids\n",
        "  centroids = [(random.uniform(min_boundaries[0], max_boundaries[0]),random.uniform(min_boundaries[1], max_boundaries[1])) for _ in range(0,k)]\n",
        "  return centroids"
      ]
    },
    {
      "cell_type": "code",
      "execution_count": 11,
      "id": "f94a717d-1c0e-406c-beae-43e0cbd4f74b",
      "metadata": {
        "tags": [],
        "id": "f94a717d-1c0e-406c-beae-43e0cbd4f74b",
        "colab": {
          "base_uri": "https://localhost:8080/",
          "height": 295
        },
        "outputId": "630d6ac9-048f-4d29-f8f9-b57e37c34788"
      },
      "outputs": [
        {
          "output_type": "display_data",
          "data": {
            "text/plain": [
              "<Figure size 432x288 with 1 Axes>"
            ],
            "image/png": "[encoded data removed]"
          },
          "metadata": {
            "needs_background": "light"
          }
        }
      ],
      "source": [
        "centroids = initialise_centroids(X_2d,10)\n",
        "\n",
        "# the code below will plot the centroids\n",
        "colors = iter(plt.cm.rainbow(np.linspace(0, 1, len(centroids))))\n",
        "for c in centroids:\n",
        "    plt.scatter(c[0], c[1], color=next(colors))\n",
        "    plt.title('Initialization of centroids');\n",
        "    plt.xlabel('Feature 1');\n",
        "    plt.ylabel('Feature 2');"
      ]
    },
    {
      "cell_type": "markdown",
      "id": "bdb754b0-0611-4a81-929a-a9035160bee1",
      "metadata": {
        "tags": [],
        "id": "bdb754b0-0611-4a81-929a-a9035160bee1"
      },
      "source": [
        "## Implement a function that takes the matrix X and a set of centroids and assigns each point in X to a cluster (5 points)"
      ]
    },
    {
      "cell_type": "code",
      "execution_count": 12,
      "id": "eea9fc0a-b793-44cf-8d35-7de14b375b29",
      "metadata": {
        "tags": [],
        "id": "eea9fc0a-b793-44cf-8d35-7de14b375b29"
      },
      "outputs": [],
      "source": [
        "from scipy.spatial.distance import cdist\n",
        "#input\n",
        "# X is a m by 2 point \n",
        "# centroids is a k by 2 , the center of k clusters.\n",
        "#return cluster_assignments is an m by 1 vector. the id of the cluster for each point in X\n",
        "def assign(X,centroids):\n",
        "  # First we need to check the distance between each point and our centroids\n",
        "  distances = cdist(X, centroids ,'euclidean')\n",
        "  # Centroid with the minimum Distance\n",
        "  cluster_assignments = np.array([np.argmin(i) for i in distances])   \n",
        "  # Return points with their centroid values\n",
        "  return cluster_assignments"
      ]
    },
    {
      "cell_type": "code",
      "execution_count": 13,
      "id": "972c2ee8-d3a6-4207-a885-063251857609",
      "metadata": {
        "tags": [],
        "id": "972c2ee8-d3a6-4207-a885-063251857609",
        "colab": {
          "base_uri": "https://localhost:8080/",
          "height": 295
        },
        "outputId": "6be02392-8b5a-4606-8622-84a42432ecde"
      },
      "outputs": [
        {
          "output_type": "display_data",
          "data": {
            "text/plain": [
              "<Figure size 432x288 with 1 Axes>"
            ],
            "image/png": "[encoded data removed]"
          },
          "metadata": {
            "needs_background": "light"
          }
        }
      ],
      "source": [
        "cluster_assignments = assign(X_2d,centroids)\n",
        "\n",
        "# the code below will plot the points color-coded according to their cluster\n",
        "colors = iter(plt.cm.rainbow(np.linspace(0, 1, len(centroids))))\n",
        "for k in np.unique(cluster_assignments):\n",
        "    plt.scatter(X_2d[cluster_assignments==k,0], X_2d[cluster_assignments==k,1], color=next(colors))\n",
        "    plt.title('Assignation in first iteration - random initialization');\n",
        "    plt.xlabel('Feature 1');\n",
        "    plt.ylabel('Feature 2');"
      ]
    },
    {
      "cell_type": "markdown",
      "id": "26be3b91-9b0e-44d7-8d88-18545d25d1ac",
      "metadata": {
        "tags": [],
        "id": "26be3b91-9b0e-44d7-8d88-18545d25d1ac"
      },
      "source": [
        "## Next, implement a function to compute the value of a cost function given a set of centroids and assignments (10 points)"
      ]
    },
    {
      "cell_type": "code",
      "execution_count": 14,
      "id": "55981b60-b5aa-4fe9-aa0d-9aa1a3abb4bd",
      "metadata": {
        "tags": [],
        "id": "55981b60-b5aa-4fe9-aa0d-9aa1a3abb4bd"
      },
      "outputs": [],
      "source": [
        "def cost(X,cluster_assignments,centroids):\n",
        "  cost_function = 0\n",
        "  for point in range(0,X.shape[0]):\n",
        "    cost_function += np.linalg.norm(X[point]-centroids[cluster_assignments[point]])\n",
        "  cost_function = cost_function/X.shape[0] \n",
        "  return cost_function"
      ]
    },
    {
      "cell_type": "code",
      "execution_count": 15,
      "id": "6a45e8a2-2db5-46a5-8174-5c597c0c446a",
      "metadata": {
        "tags": [],
        "id": "6a45e8a2-2db5-46a5-8174-5c597c0c446a",
        "colab": {
          "base_uri": "https://localhost:8080/"
        },
        "outputId": "cd85ac29-b8b1-47b0-f841-55e1a2eb2b2a"
      },
      "outputs": [
        {
          "output_type": "stream",
          "name": "stdout",
          "text": [
            "3.123464591648131\n"
          ]
        }
      ],
      "source": [
        "# the code below tests your functions\n",
        "k=10\n",
        "centroids = initialise_centroids(X_2d,k)\n",
        "cluster_assignments = assign(X_2d,centroids)\n",
        "c = cost(X_2d,cluster_assignments,centroids)\n",
        "print(c)"
      ]
    },
    {
      "cell_type": "markdown",
      "id": "71d92b62-ef0e-474b-8b2a-718faadbbefe",
      "metadata": {
        "tags": [],
        "id": "71d92b62-ef0e-474b-8b2a-718faadbbefe"
      },
      "source": [
        "## Implement a function to perform the k-means algorithm using the functions you implemented above (40 points, 10 if you use a kmean function from a library)"
      ]
    },
    {
      "cell_type": "code",
      "source": [
        "def My_Kmeans(X,k,num_of_iterations):\n",
        " # As random state can have a high influence in our result, an approach is use \n",
        " # a set of random values and check which gives us the min cost\n",
        " final_centroids,final_cluster_assignments, cost_function = [],[],[]\n",
        " # We try 25 different trials of Kmeans using different initialization\n",
        " for trial in range(25):\n",
        "  check_points_clusters = False\n",
        "  for iteration in range(num_of_iterations-1):\n",
        "    # In first iteration, we create random centroids\n",
        "    while iteration == 0 and check_points_clusters == False:\n",
        "      # Create random centroids\n",
        "      centroids = initialise_centroids(X,k)\n",
        "      # Assign datapoints to centroids\n",
        "      cluster_assignments = assign(X,centroids)\n",
        "      # If in assignation a cluster does not have any point, try to \n",
        "      # initialize points again\n",
        "      if len(np.unique(cluster_assignments)) == k:\n",
        "        check_points_clusters = True\n",
        "    # calculate the mean of centroids\n",
        "    for cluster in range(k):\n",
        "      centroids[cluster] = tuple(np.mean(X[np.where(cluster_assignments == cluster)],axis = 0))\n",
        "    # Reassign points\n",
        "    cluster_assignments = assign(X,centroids)\n",
        "  # Add values of centroids and assignments\n",
        "  final_centroids.append(centroids.copy())\n",
        "  final_cluster_assignments.append(cluster_assignments.copy())\n",
        "  # Add cost function of each trial\n",
        "  cost_trial = cost(X,cluster_assignments,centroids)\n",
        "  cost_function.append(cost_trial)\n",
        " # Select best values\n",
        " cluster_assignments = final_cluster_assignments[cost_function.index(min(cost_function))]\n",
        " centroids = final_centroids[cost_function.index(min(cost_function))]\n",
        " return cluster_assignments , centroids"
      ],
      "metadata": {
        "id": "QWdp5FTRknhT"
      },
      "id": "QWdp5FTRknhT",
      "execution_count": 16,
      "outputs": []
    },
    {
      "cell_type": "code",
      "execution_count": 17,
      "id": "373ccd19-39b9-4f4a-95dd-e1dfb3e0020e",
      "metadata": {
        "id": "373ccd19-39b9-4f4a-95dd-e1dfb3e0020e",
        "colab": {
          "base_uri": "https://localhost:8080/",
          "height": 295
        },
        "outputId": "a9f20fa5-bc41-4101-d663-d921df219e0b"
      },
      "outputs": [
        {
          "output_type": "display_data",
          "data": {
            "text/plain": [
              "<Figure size 432x288 with 1 Axes>"
            ],
            "image/png": "[encoded data removed]"
          },
          "metadata": {
            "needs_background": "light"
          }
        }
      ],
      "source": [
        "k = 10\n",
        "centroids = []\n",
        "cluster_assignments , centroids = My_Kmeans(X_2d,k,1000)\n",
        "\n",
        "# the code below will plot the points color-coded according to their cluster\n",
        "colors = iter(plt.cm.rainbow(np.linspace(0, 1, k)))\n",
        "for k in np.unique(cluster_assignments):\n",
        "    plt.scatter(X_2d[cluster_assignments==k,0], X_2d[cluster_assignments==k,1], color=next(colors))\n",
        "    plt.scatter(centroids[k][0],centroids[k][1],marker=\"x\",s=100,c='k')\n",
        "    plt.title('Clustering using own Kmeans model');\n",
        "    plt.xlabel('Feature 1');\n",
        "    plt.ylabel('Feature 2');"
      ]
    },
    {
      "cell_type": "markdown",
      "source": [
        "# **Comparing with Sklearn Kmeans algorithm**"
      ],
      "metadata": {
        "id": "wNYuLWPONrbH"
      },
      "id": "wNYuLWPONrbH"
    },
    {
      "cell_type": "code",
      "source": [
        "# We can check this process using kmeans from sklearn\n",
        "from sklearn.cluster import KMeans\n",
        "kmeans = KMeans(n_clusters=10, random_state=1).fit(X_2d)\n",
        "centroids_sklearn = kmeans.cluster_centers_\n",
        "\n",
        "# Create the same plot\n",
        "colors = iter(plt.cm.rainbow(np.linspace(0, 1, 10)))\n",
        "for k in np.unique(kmeans.labels_):\n",
        "    plt.scatter(X_2d[kmeans.labels_==k,0], X_2d[kmeans.labels_==k,1], color=next(colors))\n",
        "    plt.scatter(centroids_sklearn[k][0],centroids_sklearn[k][1],marker=\"x\",s=100,c='k')\n",
        "    plt.title('Clustering using Sklearn');\n",
        "    plt.xlabel('Feature 1');\n",
        "    plt.ylabel('Feature 2');"
      ],
      "metadata": {
        "colab": {
          "base_uri": "https://localhost:8080/",
          "height": 295
        },
        "id": "XJ0VQHx1YG-H",
        "outputId": "776100d4-a763-45c9-da5a-9aa17916a141"
      },
      "id": "XJ0VQHx1YG-H",
      "execution_count": 18,
      "outputs": [
        {
          "output_type": "display_data",
          "data": {
            "text/plain": [
              "<Figure size 432x288 with 1 Axes>"
            ],
            "image/png": "[encoded data removed]"
          },
          "metadata": {
            "needs_background": "light"
          }
        }
      ]
    },
    {
      "cell_type": "code",
      "execution_count": 19,
      "id": "7ab4be29-795a-41c4-959c-25301def089f",
      "metadata": {
        "id": "7ab4be29-795a-41c4-959c-25301def089f",
        "colab": {
          "base_uri": "https://localhost:8080/",
          "height": 295
        },
        "outputId": "ce5a75b7-4caa-4d52-a3f2-5747fdbbd8bf"
      },
      "outputs": [
        {
          "output_type": "display_data",
          "data": {
            "text/plain": [
              "<Figure size 432x288 with 1 Axes>"
            ],
            "image/png": "[encoded data removed]"
          },
          "metadata": {
            "needs_background": "light"
          }
        }
      ],
      "source": [
        "k = 10\n",
        "cluster_assignments = load_data(\"True_clusters_IDs.csv\")\n",
        "centroids = []\n",
        "for idx in range(k):            \n",
        "    temp_cent = X_2d[cluster_assignments==idx].mean(axis=0)             \n",
        "    centroids.append(temp_cent)\n",
        "            \n",
        "# the code below will plot the points color-coded according to their cluster\n",
        "colors = iter(plt.cm.rainbow(np.linspace(0, 1, k)))\n",
        "for k in range(k):\n",
        "    plt.scatter(X_2d[cluster_assignments==k,0], X_2d[cluster_assignments==k,1], color=next(colors))\n",
        "    plt.scatter(centroids[k][0],centroids[k][1],marker=\"x\",s=100,c='k')\n",
        "    plt.title('True_clusters_ID');\n",
        "    plt.xlabel('Feature 1');\n",
        "    plt.ylabel('Feature 2');"
      ]
    },
    {
      "cell_type": "markdown",
      "source": [
        "Checking true clusters, we can see that we get a similar result. We can more ensure about this reviewing centroids values."
      ],
      "metadata": {
        "id": "HxF8tSGW0sdD"
      },
      "id": "HxF8tSGW0sdD"
    },
    {
      "cell_type": "code",
      "source": [
        "# True clusters\n",
        "centroids_sklearn = [tuple(c) for c in centroids]\n",
        "\n",
        "# Centroids created by my model\n",
        "cluster_assignments , centroids_my_model = My_Kmeans(X_2d,k,1000)\n",
        "\n",
        "# Sort values\n",
        "centroids_sklearn.sort()\n",
        "centroids_my_model.sort()\n"
      ],
      "metadata": {
        "id": "gQ4IGxUa1OdJ"
      },
      "id": "gQ4IGxUa1OdJ",
      "execution_count": 20,
      "outputs": []
    },
    {
      "cell_type": "code",
      "source": [
        "# Print centroids created by our own model\n",
        "centroids_my_model"
      ],
      "metadata": {
        "colab": {
          "base_uri": "https://localhost:8080/"
        },
        "id": "OD-587vd6fy4",
        "outputId": "6f21d0aa-6339-4924-fed7-1bd064f7a593"
      },
      "id": "OD-587vd6fy4",
      "execution_count": 21,
      "outputs": [
        {
          "output_type": "execute_result",
          "data": {
            "text/plain": [
              "[(-20.421041763761036, -0.014982233138187416),\n",
              " (-15.873210401232297, 0.02883528930496895),\n",
              " (-9.036750302300996, -0.012385514727754307),\n",
              " (-2.4850156355312927, 0.011812052400784456),\n",
              " (2.279084708911006, 0.05914859803573159),\n",
              " (6.751237451777634, -0.09589256455535707),\n",
              " (11.41654849733252, 0.09307322800194404),\n",
              " (16.005911731085746, -0.05715347939881409),\n",
              " (20.50587503108333, -0.0008884717515785621)]"
            ]
          },
          "metadata": {},
          "execution_count": 21
        }
      ]
    },
    {
      "cell_type": "code",
      "source": [
        "# Print centroids given by sklearn\n",
        "centroids_sklearn"
      ],
      "metadata": {
        "colab": {
          "base_uri": "https://localhost:8080/"
        },
        "id": "GGJ9yYuH6d_5",
        "outputId": "de179a2f-8ffe-49ca-bed5-c6b290e8eb5b"
      },
      "id": "GGJ9yYuH6d_5",
      "execution_count": 22,
      "outputs": [
        {
          "output_type": "execute_result",
          "data": {
            "text/plain": [
              "[(-20.4153246777019, -0.0031297608526022523),\n",
              " (-16.028031570092892, 0.010132251365782696),\n",
              " (-11.169104931587492, -0.012457923435086735),\n",
              " (-6.9173922685923, 0.005531807107750076),\n",
              " (-2.337151228760108, 0.004088623484276683),\n",
              " (2.279084708911006, 0.05914859803573159),\n",
              " (6.731024059776709, -0.08994390332752168),\n",
              " (11.390108778877895, 0.08523490884853563),\n",
              " (15.985274098669528, -0.059917106980817605),\n",
              " (20.481513030499574, 0.0013125057539526174)]"
            ]
          },
          "metadata": {},
          "execution_count": 22
        }
      ]
    },
    {
      "cell_type": "markdown",
      "source": [
        "We can see that there are minimal differences between our model and the model created by Sklearn. This may be due that Sklearn algorithm uses a special condition to find centroids."
      ],
      "metadata": {
        "id": "p_mEe90R8CLK"
      },
      "id": "p_mEe90R8CLK"
    },
    {
      "cell_type": "markdown",
      "source": [
        "# **Kmeans dynamic plot**"
      ],
      "metadata": {
        "id": "RAGcjfLkO1E_"
      },
      "id": "RAGcjfLkO1E_"
    },
    {
      "cell_type": "code",
      "source": [
        "# Create a new function, but in this case output includes an history of centroids\n",
        "def My_Kmeans_history(X,k,num_of_iterations):\n",
        " # As random state can have a high influence in our result, an approach is use \n",
        " # a set of random values and check which gives us the min cost\n",
        " final_centroids,final_cluster_assignments, history_centroids,cost_function = [],[],[],[]\n",
        " # We try 25 different trials of Kmeans using different initialization\n",
        " for trial in range(25):\n",
        "  history_centroids_trial = []\n",
        "  check_points_clusters = False\n",
        "  for iteration in range(num_of_iterations-1):\n",
        "    # In first iteration, we create random centroids\n",
        "    while iteration == 0 and check_points_clusters == False:\n",
        "      # Create random centroids\n",
        "      centroids = initialise_centroids(X,k)\n",
        "      # Assign datapoints to centroids\n",
        "      cluster_assignments = assign(X,centroids)\n",
        "      # If in assignation a cluster does not have any point, try to \n",
        "      # initialize points again\n",
        "      if len(np.unique(cluster_assignments)) == k:\n",
        "        check_points_clusters = True\n",
        "    history_centroids_trial.append(centroids.copy())\n",
        "    # calculate the mean of centroids\n",
        "    for cluster in range(k):\n",
        "      centroids[cluster] = tuple(np.mean(X[np.where(cluster_assignments == cluster)],axis = 0))\n",
        "    # Reassign points\n",
        "    cluster_assignments = assign(X,centroids)\n",
        "  # Add final centroid point\n",
        "  history_centroids_trial.append(centroids.copy())\n",
        "  # Add values of centroids and assignments\n",
        "  final_centroids.append(centroids.copy())\n",
        "  final_cluster_assignments.append(cluster_assignments.copy())\n",
        "  history_centroids.append(history_centroids_trial)\n",
        "  # Add cost function of each trial\n",
        "  cost_trial = cost(X,cluster_assignments,centroids)\n",
        "  cost_function.append(cost_trial)\n",
        " # Select best values\n",
        " cluster_assignments = final_cluster_assignments[cost_function.index(min(cost_function))]\n",
        " centroids = final_centroids[cost_function.index(min(cost_function))]\n",
        " history_best_model = history_centroids[cost_function.index(min(cost_function))]\n",
        " return cluster_assignments , centroids, history_best_model\n",
        "\n",
        "# Run model\n",
        "k = 10\n",
        "centroids = []\n",
        "cluster_assignments , centroids, history_best_model = My_Kmeans_history(X_2d,k,1000)"
      ],
      "metadata": {
        "id": "jQbpYLreRaxm"
      },
      "id": "jQbpYLreRaxm",
      "execution_count": 23,
      "outputs": []
    },
    {
      "cell_type": "code",
      "source": [
        "# Include some special libraries to create animation\n",
        "from matplotlib import animation, rc\n",
        "from matplotlib.colors import ListedColormap"
      ],
      "metadata": {
        "id": "iiYua3p0QU51"
      },
      "id": "iiYua3p0QU51",
      "execution_count": 24,
      "outputs": []
    },
    {
      "cell_type": "code",
      "source": [
        "# Create animation\n",
        "custom_cmap = ListedColormap(['#9898ff', '#fafab0'])\n",
        "rc('animation', html='html5')\n",
        "\n",
        "fig = plt.figure(figsize=(8, 5))\n",
        "ax = fig.add_subplot(111, autoscale_on=False)\n",
        "\n",
        "def plot(i, axes = [-25, 25, -5, 5]):\n",
        "    ax.clear()\n",
        "    ax.scatter(X_2d[:,0], X_2d[:,1], color = 'lightblue')     \n",
        "    for k in range(10):\n",
        "      ax.scatter(history_best_model[i][k][0],history_best_model[i][k][1],marker=\"x\",s=100,c='k')\n",
        "    tit = ax.set_title(f\"Iteration {i+1} - Kmeans clustering process\", fontsize=14)\n",
        "    ax.set_xlabel(\"Feature 1\", fontsize=14)\n",
        "    ax.set_ylabel(\"Feature 2\", fontsize=14)\n",
        "    ax.axis(axes)\n",
        "    return ax\n",
        "\n",
        "anim = animation.FuncAnimation(fig, plot, frames=30, interval=500)\n",
        "plt.close()\n",
        "anim"
      ],
      "metadata": {
        "colab": {
          "base_uri": "https://localhost:8080/",
          "height": 381
        },
        "id": "RlZVejS9O8wu",
        "outputId": "21ee183d-0fa7-46c6-ab28-4df550a95f0c"
      },
      "id": "RlZVejS9O8wu",
      "execution_count": 25,
      "outputs": [
        {
          "output_type": "execute_result",
          "data": {
            "text/plain": [
              "<matplotlib.animation.FuncAnimation at 0x7f8b9f7adf50>"
            ],
            "text/html": [
              "<video width=\"576\" height=\"360\" controls autoplay loop>\n",
              "  <source type=\"video/mp4\" src=\"data:video/mp4;base64,AAAAHGZ0eXBNNFYgAAACAGlzb21pc28yYXZjMQAAAAhmcmVlAADXZW1kYXQAAAKtBgX//6ncRem9\n",
              "5tlIt5Ys2CDZI+7veDI2NCAtIGNvcmUgMTUyIHIyODU0IGU5YTU5MDMgLSBILjI2NC9NUEVHLTQg\n",
              "QVZDIGNvZGVjIC0gQ29weWxlZnQgMjAwMy0yMDE3IC0gaHR0cDovL3d3dy52aWRlb2xhbi5vcmcv\n",
              "eDI2NC5odG1sIC0gb3B0aW9uczogY2FiYWM9MSByZWY9MyBkZWJsb2NrPTE6MDowIGFuYWx5c2U9\n",
              "MHgzOjB4MTEzIG1lPWhleCBzdWJtZT03IHBzeT0xIHBzeV9yZD0xLjAwOjAuMDAgbWl4ZWRfcmVm\n",
              "PTEgbWVfcmFuZ2U9MTYgY2hyb21hX21lPTEgdHJlbGxpcz0xIDh4OGRjdD0xIGNxbT0wIGRlYWR6\n",
              "b25lPTIxLDExIGZhc3RfcHNraXA9MSBjaHJvbWFfcXBfb2Zmc2V0PS0yIHRocmVhZHM9MyBsb29r\n",
              "YWhlYWRfdGhyZWFkcz0xIHNsaWNlZF90aHJlYWRzPTAgbnI9MCBkZWNpbWF0ZT0xIGludGVybGFj\n",
              "ZWQ9MCBibHVyYXlfY29tcGF0PTAgY29uc3RyYWluZWRfaW50cmE9MCBiZnJhbWVzPTMgYl9weXJh\n",
              "bWlkPTIgYl9hZGFwdD0xIGJfYmlhcz0wIGRpcmVjdD0xIHdlaWdodGI9MSBvcGVuX2dvcD0wIHdl\n",
              "aWdodHA9MiBrZXlpbnQ9MjUwIGtleWludF9taW49MiBzY2VuZWN1dD00MCBpbnRyYV9yZWZyZXNo\n",
              "PTAgcmNfbG9va2FoZWFkPTQwIHJjPWNyZiBtYnRyZWU9MSBjcmY9MjMuMCBxY29tcD0wLjYwIHFw\n",
              "bWluPTAgcXBtYXg9NjkgcXBzdGVwPTQgaXBfcmF0aW89MS40MCBhcT0xOjEuMDAAgAAAhgBliIQA\n",
              "F//+99S3zLLtU2+2C6j3op4mX0N1JQGblsTtOoAAAAMAAAMABBemSeywS4C//hSmv4AEwkPfLN45\n",
              "6GjNU+O4CIGxcwfB+2y9BEdSo5Lh03Qzr9xlvXWs5QtMG+L9KF69bJOC5a9oKEEPNI/gfigO5XD7\n",
              "Fh1Xvq4IqJlxXZ8zWyxK6NFNNJWOGge8e9NI+URSHBAXMhMDAllN8zFhy24pSxV78sKUJco00k01\n",
              "nJ8AjgQVyDcHzdA6HoW/bWOBrCB3hd+Kqxre/gWEbbmY12+BhtqErpvWtrnzeAb6Nhg4J/HCscYR\n",
              "KPy1LtQBCOcZdDR0ubzRR6mfXe8gI7NQYAAmUsX9nSI5vvaRLoTqCmGAadiveXJjhVORnhIC6fkX\n",
              "6NAWVBOASWqx1NPWrRWk/WLQ9zdCXpSj52b/X3ORcFL5HivK6o2XtjYxOLUl3jpy6+hNMe9uPFuF\n",
              "ZMIU7mxUO1EoFehZ1bsPXKNPH7ihAVwOVvNYEMFFLbvs2XN63qeyrORIYLYfTrtnw/T6n9+0erQ2\n",
              "g3wdfgmIUBB2LSLguMq3HsUHfT+/ghU4L6s2RktFBlkg119KHW1kA1oNXyGLPXC1zWKsmUqBzsJH\n",
              "j0osm2z5vWaLYeRZWw8esijaOtKrWnx7upurGTMksBjwTjYd7AGOL6zMRow7MNLJMuVC8wgM6Ptb\n",
              "iLvDJ7WSrEWNyr2AvJXMx73YQKPchvwYwn6Bp/InBfF1xltOZ2lW51ifkbBxMl6eEQ1u8ceuXQIC\n",
              "dg3Gb+FTH58OYEv+fM/QViX8w9zV5yym+TxAbdVjqApLO6Gt9m2xKXR7sf1CYvxN9vNQTwG5aOVT\n",
              "3grOx6b6rEqE8KBYYxIwGWb/+l+8iooOnluTZcWCRJuVGiQjilrf9R4xss7ydSf4JhzI04JUarPD\n",
              "QQdGemy1FRJ1b+7+m4i/PHbhHFbw5j5TTW6Sa40tNLym8pHBNSkafZdj46kr2Ry5cHLBD19H3xiq\n",
              "guOsSr6cD4teUi+i0YqJWZFj+47BN2LngaX/6jGx7tXRHaZzKCXP4VrSycq8pIZ7hnfjkRRL+d9F\n",
              "ew5ib+jpVGv4tMz82Vuj8kl1oVQOlU/xTfHjf6311KYYA7nI5hdhhk7OkOOUxNraX49CO2j5B9Fn\n",
              "rhEWcqQXHsEvWgS2fx9MFcR/VLDuqQKpVWUqVhZyDmb5n3Mx38fiMaLe9ka4mRjdWbdNbne2ANHx\n",
              "Gat+lz6FUBTHluumGWSa/xRqvpnFiaO3Ub7McOkCllhTpnWCJo5bCD7vcOMwdh+N1Un/8bsqrp+l\n",
              "o1cMPuUhjA1IZUU6DlVtE+YOUEzyOZ6NQp5X8dDNRJSJBSejB2V2F0UBT0TbXlbTsYhtemTQ4pGC\n",
              "XtBZWqW+d2NK/Zlh3LgfBWYX12ijRjgJn22hiloZuftNYeAOUs6MZG/ESvuHKN56sac306sb1yJY\n",
              "7I5/2zbA7Dky+9bUpY3dzIA17MMSbJlxDAgvehXb5bMCwcWkcEhYJyD7y4Ojj/HQHXGszfiI/mMW\n",
              "uS29WgYqGItJJxSS8mw16pd4as7hsw3EYvOUR2Xz44rbEdiXvWomIodZmg51f+w+0/dVAT9S9yNM\n",
              "zCR9LR0rrsAIKDtVaSkz08OFiy99h79cuDR2ZCOh4S5eNWLLiO7fZkMjSkbj4PP87gOXr9+7L2Kq\n",
              "yB0QC61RBkazMRHSXR4Sebg9AfxUbM74/KowjErZOBIh1OygwIyvMuzp0bBEBcGxghRl7C7vWKbt\n",
              "My181ZKACgi/5nrDn6y/d5D/ANkR+6nb+bLnQaXdd0xbEeav9ZzhNx0wdbpd1L/SK4O/irHhEzS5\n",
              "t4/87wNqC+Lg355FhpjX0qhKI8z8FjO5geE0hB8czegJO8ri+Rx84XiqaRc0cCc1EufeqCQP6R1B\n",
              "ArlIX+puVDGrhspAXOyIaF2ep19Dthfn41ARBIcX3hqZLrLpfpljJnUgl0d2z366HZDsSaCcN5nF\n",
              "a7JhWeAaip2GKTU0Oo2IXwL9LNIz6NzFnaIt1zViRiVhiIXhigEpqH7hGRlYwtM+4U4jAFteUpoH\n",
              "hNOp5tXkc4MzUoxlRujr2N+Cg5/BrBgd0fn4pTr5BcYYBWGYq0dmb4gGPzD/Wg/7WGxjtBfpDITi\n",
              "vCBDFB7QjvAt91OA8NQ0a+N+Kd3tgxMgfMSAcQnI5EK8zZkRVrXlEdsb85j7uCTOxiYnSdT4Mdef\n",
              "iYFlGAvM/Igsj/TIwWMGHiZQCgfAlWV5HDTEcQH/wGBHXThpda9EgNeMaKmSmkOr9miWj77dzpNq\n",
              "26J3cBa5WGuBAUxWrRPVTs31XfYcEgdWTcmPbVHkoDsR5ZbQTSxjbE5z6e9DEdW2WAou7COTcNgy\n",
              "jQKrNeXwcvdrRUmVIfpU/Vj8qZjnU4gRjbIqhb7GUoITDoJczyHPCV53zErezQY/kMYpbUD3iRnM\n",
              "MJC6DO3sw74bG7VNwP8KrKwaB3PDEU6xoer91Q7x68Imgrkj2AZsf2jZe8b7UFeRRDzbS5QoXM0x\n",
              "Yk8j3kTj4DQ6SM8xUGljZyH3Nzzj1mfzmuZu9HZaXoJfEdQDVnefAMAvivJWWedZXRurdkToISrV\n",
              "8B4zE7DPExP2a/e5KsHngNx3Rj1eQxYHj08PqA95cwj2nah0ylLmijAtd7few7LrAAfOkZvf0W7z\n",
              "+G2x3lLk1/PqxCQEuySL2wDvJWNA/h4U7RuzrAer6axFiOy8EwbHKGBwlHdKWOR8XHLKOICuI8UY\n",
              "egHDnpVZ8TaXe/RZHmhUVPnKW6SKkpXCFxQ9QMKGhhtLEYe5g0r40WMwqj5eDezMpq9MiRFxAWIJ\n",
              "8tON3wJmpFLnCj4yI2wd879D+XAPNxc7O0miutF6m74n8OqNPwGZ+3fcxnPZuYFaIytUIwzGG4qN\n",
              "VfdIXzvlEa9tv136o8XFga8wM6ypwZa/qtlkJ+g4r6kK1tafTPrh2+k0vGbQVsHwn3miOwhMXkgN\n",
              "2sovW1Zwf4pJNbWyjV9cs1ncgIzmIMKajAAjxN68/BqViZMhpM17fGRTAQNizlNlI1YxEuFgzcMX\n",
              "ga7nw7Uqll+L8+YqWbniAqQOI98iVF2UV8uZspT660r1yRoYq2CPdzkQg1y4rxBqoqfv5Vc6SOeV\n",
              "nmVqFNl6YuUj/jQ1obtczQRABjUEfG2YbAewfMuWoqinNFxytg4aAKsg10YZUcJxV2QbkcE7iVkP\n",
              "SLNGRfbd02FT+hb/vGk292sbYgG7gNB4NDJnDYIAsSBH+bAzPttGBId3UIBAHw+4lUto7xvy26k7\n",
              "3S3LTB/e8zAiuimsdTbX7EnDBoEeiR3L2z1TVTM0iJEQNqjeeQKLywADeY5lMYF0paUvU7jakS52\n",
              "6JgM06nwWp3pBYzj5wdv5vsUTnrFPC8LjP83l3LN6FRPxCT/BBw12lwRCA2W2bar3aqvGdoCJx4e\n",
              "Vi9o5HJ/1qO4vIn3GxxpZaYOs1jenE1OtXo90+kzJApKbtLQ4xwSv6XPeivzbeDE/bWt+oadCG0P\n",
              "YUKxVyo1dDvjemvpWsU97U6WLLBUKvgAMQnXnkUYbxXjw6NTLit/xGOoFG44yAW78JADgC+5RMuZ\n",
              "TRsIF4cM6CNyxmlrypgsHJDSNdIc9KfnJMAiXq3eLsboCeLgJub7sGVcrWt+Q7wojnKRU4ZVay7P\n",
              "XrqycT+wsGmxixGHt1n8MoLy2Ngwe6VWYL71u0uHs9gOtfnRaqcSjRCXtWxDxP8diUt4lsECOSyl\n",
              "CqvC8khvg4+43QQJ2JQxA/NeiuW3gPqRuO48mVAu6KUUapFQlKTeOkeBeF+9O0VoD9B3gNkRpBUq\n",
              "TQ8/PM8yoh/2/nPM953zWFLz+FRooPgAAAMAAHSDIM1b2ZdT/sX/hMi9M07wTj//4T/AyqdWroXM\n",
              "lmV2PPcKh8Lcknvy707Hmm3dwZoT7Dm3bHTKlaQh7sjwEdc9zts4IHOrlW0dQcD2vID61eADNKpd\n",
              "OjsS7EcYQy6EP5unZyTMx5UblnZQTAqctbTiQPWw0gdQJQ5oG3434E4/CwtJjoProGUNjkTynUYd\n",
              "tjJGH3UxI6Ed5whdrQgaEMv5IvFJc8kRI1cgtaTfPu6NqWWAsUZpQ1ZqZa8lOSGxIDUm+Gsgm/5L\n",
              "TF9J8BYSbFLBeQMxQgFj1TEx3w2X9cUufvumTm3OmdlKsoGTdCC2FPZE81mnSujxJJCKrY3ArrAd\n",
              "4f+yX5BxLW8xogugmYmhxeGThYFv0nIrbJ7Ia9sd8RLnZQpr/tluXL+hRICRse9T2l/9KPZMIQKR\n",
              "NSpRdlDAWn+zqKPj327HSKNOUXqSB+MXxK+bf2aa3pjbN/GRjWCr4IZJkQUZssAQdJK+rE+EEKLd\n",
              "c7cCOjZQ/oUQznoBnuuZF70OJR+QOqUoTXpESvnCtGrG1MaDJES6CCASOF4B7tLwGEzt6SrPK3wF\n",
              "ofSxE60wWW7VwEVEkrDGUwnv9VowiVlZ1yzLDhdGNn4MjiWertT+Jya/CYY5urJtIqwbejMO6ao3\n",
              "7qIpPbk8m+FSewsv3Rx0N6rW44md1P+XGXJGOHUKg9MsxaISAavhRu6C6WQAyAz+hx3L6DUNY4Je\n",
              "c3/mkY/X2MlyRTU9hDTlQngtYkPq71WxHqHBz//z6bpljlbYxeEIkqK5Jvhh87kiy0D+W0IEVs1Q\n",
              "T0SmWmaDdeqVE6jP9BRZ3FSPugwKV9FayYyMvufSEn/k8fEEnROM6k123rui2ygUVkEFDOv9nP+h\n",
              "5LIRMOV8EsiSjea3Q3HWH1QmbY3liLu38wQI59UApDYoSkVGSykU/jEc4O/rB/6CcStgvWr4vCf/\n",
              "5HVwNGLgJt4g6ySN3OrjZINfZm/TJWodp3DzdvS5pf10K7QzWWKYdjeYGVrvd4EF4bZnOysKgdUT\n",
              "Kgf6M6cXOyLn/GKIl/Fiarbtz44Q3Ba/AA9Pyko9XgBhxArNAM4pD9v3Or4UD0p1iWq1ADB9qhDH\n",
              "n/6w2mhkjW6oPDoMItXILR8yLTvyTnGslexocxV/tigpZx0+djsgfuGXNyS2RIRDj34qIaKfd9p7\n",
              "wzpw6D+wyEe6i3LusnA8MlGHnZoMF2qjm5R2+g0jlfw0e05H+Dba/5mbQWGfh2BZY2tmUd3k8WG0\n",
              "YksxLiAyRXbqHuSKuNdl3HQY5lNgKQWSGXrBODcK//slD2Mp5iCR6TYGrYzeWTtzdOuASHFcEAJ0\n",
              "4Nz+k9tLbH8MHQ0+pncVstqNMXB88hjVOw21w8l5kSzKC2Y3dXvznQ2Ab1DF3ZE8bmsznDPnRreF\n",
              "wzIwJDoA0HdLNlZPx6g+UcwXt8bIcjOKF3Yea50a/tWBwH8ssOLVdtaJhhPLm/iPjqJQwGR56diz\n",
              "vdyODgC+eiirNeTRHq/hZhd1Uxnc31SK7alcbBOXkCsojhd2l3OSFG6MTEFvQpVzu67pVN8pEEZW\n",
              "4OSXJ0m+bK9tGZhHuJWktzMfKdylb+Lulx6BI8ghYchYj+/ZhI48d8Q9wzmCbt3D5PpP0YAL5C1d\n",
              "L5lJha7MUWS3FuqtTGJ1XdhntlRX//1Y3RiYsoVFG869iKBXo2K6oy80nPK0eqa9J1BGxqxrAuOw\n",
              "eJkzQu31CMkkBeGQAFyag+IDzfUBwz618b9wztWMZ6iKlTTbQQlKwNgKbMRtvV80DDKRFFsiGpO6\n",
              "BDdFR/YUI1DIpBtZvXK7n21jftGaLLMcY+yJhQp5oxOOd+yX9o41YLOvXZ9Eo5olhTliao6tabZA\n",
              "D45sRbL/tff2qrjDatbsuqy8BkciWvXdEyRJgvEwrsgrZGCLK5li8uErGqHS5CnVhnnfHfQW5WJT\n",
              "I5eROObpGvZc+tmYyOZ02edlbVDwgFChYQ7jyujRFXqIPIgzMqQzWloPQeYkfg0/fd/X4TFR5Pcg\n",
              "6ooEFI5rYAhg6011P8BXzei6YPNTamLLVw2uNIinzudBbgbcI1wM/6AXK3/wvzdONPTCyzRGQwGX\n",
              "PbO6nwqlabZPeXqpOUfAt0iO2SvmJAEz16w4roRCokeLXwywoU/kM+N/Di/AbDx3Bxc3yxumx3Gm\n",
              "uXqjj3qqVmi6OthOA19MMhxAN2jyet6JVZ/mrXUTUz5Cw+RlmK5OzO8QPBLv7ucMFsw0A71cECyv\n",
              "sD14E/VcnjwAyyDzbaQxhNXn089dLhGBC3Z4wL5FrL92QQcBONDrozhAjyBPrKBDRNb0cIJWkgcb\n",
              "RQSXGjXi2Eq7CVxm/cH0b6rjXSAYLFVEG0GWudZbZw9rNcjybMJVnv+wPE3LNrXCsIIwtbbKUMpw\n",
              "Gk2t6H/XHf0ICxa+8NP+Ab9A/KYIqeByldkygXLqoMNl+z4xuYGoWI6dOU/18UNXabLlK1jiaWNh\n",
              "xOF38Flf2PDzFtDq7wntEGdF2QweHPe1DwLF2+TL2YvIsYtehJEU9pwuFjPwyf9MT0oLHJPFs2ef\n",
              "JSXyTIRbL3q+FguK/eyH1HvyxmY+ielNZuFOQ79lhxHLsQHJFVLQCz2xszMZ7jeK4EZ585Hbhr1y\n",
              "B4Oc3GCSodkbd/be6c7T+3WERrS9P/3YBTeykXwhpPzvMET9iXqWCtABhtdzbbt4NG8RCvoavjFi\n",
              "rKv/qCBGLYTtB2ECzaNxkKtCtGrIhKfCNpN9qNXur9+HbEiqCiNPBQ/z9Z9LNAAi5bvF1j/L4BKL\n",
              "uJhbvAJj60Dw2KX32hHQk3QUOwxgIaXaGxlqcAJ7siSG6ha/8WpyM8ngg1ypxmudQh/H9bMNJlaf\n",
              "BZwcSecp+mjTngxpf18dhFjvCV4Kb1vOWv7lOBUklcJ+nGujrMjbPXGi7FEaejeTjwRhcVR9jzPe\n",
              "fJsgzcKKmTTmXked9VmUNGV5jJ5RXNpwWJOeH2Fqc8jYDVGZ9mUNHpLeAiOYc+jRcnVx2XYvJy+B\n",
              "35+kLJkZaRY5t+bz7pAtT66vmOFd86J3yraaIYyRP2gSSQpHDohicHSWGYjbZnI5aUiC5BEpomIw\n",
              "MXhQTou5kMR5N8gLoENuoBjvfmVgJoDZfwycuZc0fNF0aCohs/VKFyrrgrFNnOmZ9fJ/XMTwLYar\n",
              "COZAe6K3bm3oa+cSYNXd/RYuVhKc6HMO9lo7BPqKkYUBrhzcMI4hvC5Brz/ZYifEyxsi+K1SQpwd\n",
              "+sSI3LIq7XujonfkOKNoRRO4ngCC/CoJcOjlY8M9fLz2MnTmqmrw9R2iIEuwevNZ9vbZrk786IsG\n",
              "4LNYl9GMGhZ5l675P3tf1WPxE9QLp+YrKuCzVxccZPZc2kXco/MvhiXvU20QprBApWnoXRT+mfeS\n",
              "S4ZcNkDqkY+3QwfqdScLvS+GpsrMZDEz+l/z8x0SCFFrhgjx2IDOydAHlhSgRgYBUh71GYtNvonq\n",
              "DT9QY0BP7VN3mFlVOVcpB8hVZQlZDOpubX6zYbRGvM4//+D+HOyhGQOITRPbk7ARs5dPZjRw6u0g\n",
              "nfdqOH4zZ6E6CpgZ9zIqQokFmQeIfdviQ9W4kuwifo0kgCPyZS1TWIK02U/eb/wgCigjAAC7gRZC\n",
              "lFuYpwUcRaM4pLhd9dbNzNRiso/aC1CUREZwQ1atJKRVfUMltLYsWWxQ1ZCEu1Xd4OWcRVTY+sHz\n",
              "kcbKWzpYsl3OWRchk0+jgUBJVZLq5na/deGQkadraS80uyrV80VQEOFku8QOhL4q6SbLyzdkD8cM\n",
              "W74C+tU6F96Q6nBXOO3LkfunwOACbZzGhGrPjgQEiraMnNv12I7+lEpdZbb9bfgsmrztonqbc0LV\n",
              "KuiF55pt0GjMLrBchOpTLWrjtp7jXeB+FbJVu6urnry0OzAscDj1mvFUsbh10OZKiL4TP9AI+6ls\n",
              "amyOcV7IFpEbqDTQwxptT1DFT42W+9MsNdpF04sq43qrgx6NoBrhPjXMBNxYz1mAcfxGkkutoL6u\n",
              "PRgbJXgIGgLMhcXhMu64UJHsj/im8FWXvnKr20V9DYLbtNfgOUO8jnysi5DbEkda+rny8GJWwrdp\n",
              "mmyJmDL58eS56eUICh8xAJ+8TBbJ8BGLJta+MvjoMUi6jRsxLBvZD8xuYiJvaMW7umkaXnrb60OD\n",
              "7KOsC/gABqZYFd2EB5CQjMncQ+Y78mN2PqYDb5kzdet6hHnnyKe60+qzN6x9YK58xdDaCFfZj4RB\n",
              "64reUDrN3Qf7/+N/jsr8kJt0e8WQEANidNMGV6t/95K15sulpvtDslIOgY64bOyHtZUq7f7sWNZS\n",
              "HUwvXmfj/86HIUwS6E+V9HovixcXV3RjdHVBpjqXwEhMyeXo1u+r0GMT33aCR6F8FZOlq4Dx3jQ8\n",
              "N1ncymJz+UiMzm4xzyM0tZu+rSUbIl+ovbrAHHGY6xYcdXdkyBQ4muL/uI5ZyVkXBZ+qCItvaDwq\n",
              "M1jV8WnCKqpW421cauxEPdLWfYed1a/Tx+Ytngl8v6X23sHQaqwegYXg/1uU36AG5sfow/vnj2r/\n",
              "QBjjfN0Ryj7FAsKB54Tw3Zm81zHWQ4wZpWpo6UiUsvvhZolMVUsRmmPbs3hPsDAHLOAHGfdl23qF\n",
              "3KBf592okGgMy+ZRRUrOmysqdM1mlQ7pFXEnhDG9BeMoVd76KPQCjA0dhv+MKZ8rm+DdiaCkBoaU\n",
              "HieT83b58r2T5R2YCn1tJg1yZpFXqJRJpnzjADxvXMDjVIRyt1YBNBv3z879vnBlXhDj+w7KcWZP\n",
              "XTSDc7GnkLTbPLaEyxg0ehU8w1ahni/kdxgbnjEmygv6reFFt0cLVvRPX4FDWWrBvyl1n897+o/3\n",
              "fCesYTyba+DH9uxrfPAFUKon3DOQNwTSsmjVRPzSFn1hq/+cc0c3XEMVV6gATUsmZN7TrDbc9zRz\n",
              "ddeNtXFTStUTXa5YvfgVphT6AG65odZy1HuzupnYnLUn5QF8w3I9c2ymf2gLf8+7IS5gVV7H0J+T\n",
              "jEXgerh2lIIRLP9KUVn1zRSSOCqmSpzHUvt/wYBojQm9BQOSTt1EDJejXqZh400dvCI+e2LrRDjV\n",
              "oeNTGH/cJvOVXAL5/O67enDsYgnDTdYhm4bX6YK955ameOw7qpNCYiBHLhSbVyki3oP/TAGxz74h\n",
              "E+Ki1rX2dB0WoURzwt8BfNjBUZr6SJAWATt2TY5qxIg61aW61dzB7EAP8hV8XlccRlFyPIRdwluy\n",
              "S8Z84vQdfRzX3rfkMy1Rk6JymmFAaB3eim3+K6h1Up9tPrwFUxvRV4UUmdR0oOsitiCfpPo8qGzg\n",
              "71+aOzy66OPZ8PVZO3tCnhYeG7cYDCudsllkaxtwtp2G+x2uGhAxA8qW/EPJmm76P0HaYcUC1lFA\n",
              "ntYXKuu3DqRikg4DUb/47+f4Onj6aFlzu06mxX+6qVfBuHnp25+XGDBaAVAnwXe3cXYhgm2lZpOf\n",
              "ZDghwyrz5tpX7yLb6iHrAJH5QxGZH8viCP969GaLjEVXnaBjdGW9U2OO6MB/3st0cJGPF23IUmAv\n",
              "j0Nm2dPiZnoOTS2X0B////3cQnBbXHM8jOTT9g+dYwCoioUQV+z1smEfNoi/WfFfjdCzGxCJBcCE\n",
              "XyxXYMIMBBfQI/Bm7y/FH2oUZc1Cq7oI9MeqbUQuKMWsioNG3yPq6f54G5J0C2CRqxpQvU1t5PVJ\n",
              "vrT9KjNktOG6LwqRg4I4Q2/y2BwjrbP/oVI+IvdYBEtbtuO7HgBjzUNrAEEB/Emy0txx6IUjrdQj\n",
              "GxZ/DlSphEFjN0Sr0Ly5RgYG9eG1fR49SlQQWqeS/0p3ijYH8h+kPvjoUMWT5tlMqAW3/fDIb9Xx\n",
              "8d4GSOul/0na8nCocuhoPnPqS1xY5/SZTMVaA5Wi6AlrpP7ROqkAWsO48bi+Cygl71csp9o+htPm\n",
              "hd1vp8/N0HmTb9WU30poRQWG0utpXTlSeaQQTOY0WLq7ustTPvIwCeBQ4LUghiIp67cWRhYNPWbi\n",
              "dmj+LDBFoPFlLGEPt+J0s6CQBTAgIHbXt81P5I4Fdgph9O0DE8btVame2wckuh9Cr7q0MGR3NrD7\n",
              "J5x92JSVdtE9tul3PrOatdSCUT6z8vYn/rTCeQ4Cds1kCnJNMJBmgbZi8H+j1Yr7+2oFsgeGSzYi\n",
              "uFfQO0+PSM1FzZV2GbGI4hhv9BDz8KfdCqIrg/b/G/Q2U63PHr04aovoUHIGgIRYPsUV0hs0Seum\n",
              "0OPiO9ZVgh1IBtSeVUBMEKTibdPdH/UtpLsRk5bYEDNlCXc0i/q6yHnwMPC/8jA9rmlkQksj8Mnl\n",
              "lnTWXrnKzgWv3jpUGIvD8/2Rk4by5+KNdt+YbI+ENJOxBKzAAzudIN3hhVxjsRE07VV+KgtzUMje\n",
              "DY4XK8gV49m6UF3nxa4M2H3/Lrtaw/6ztSKBCnQNDwsUPK7MjNYCRSpvTDNJVKSWQtPNAB4oXfGx\n",
              "BNPkOieQGYKqi15E3YP31huzrHJVuWVVgno2dFSZxj/B/l/EoRFWlj5bF3j8Uf+QYb//dRUPfoi8\n",
              "fl5XiIuNKCdFkx9RnBR8P494hznnVWNH8wNOUqninld/BH4bejYbhsNiXu9bxOYbPwF7vxggUE8x\n",
              "6bJZNKthY5X5jALygbVvbUyfUGcYEtzwSIP/GR6MUCJVDzF6t1kTGTxGb7GzPynOBofyLVq2ASqC\n",
              "2E9GpuuxBLv7v+DeW2/qeSe9k8RGq/b24WbWfoIml/jntlIdaGS0Hdf6r6aFf89Fyqn71NbW4oQl\n",
              "AwvJG5hGeH5dK9L0J383HFdJNvbLNklVSzLsBTfL3fwhdmlKyWtPAcFEQ01Ij23yOaMxzO7BBM1n\n",
              "LZoqx204RHFE49pAeZB9UXd/eZQu1p8pCnNnEzLrGghjikop+73AR5rrkeYei4/SbQ6b8NXbKqbH\n",
              "KmzfYcB+mc98Ok5RsQyHmVZTqq8CDU2b/NvKk6Oxr9zrzPF6n5+ftydQGYQzEenZnevIPcPLH1ch\n",
              "Et9SWxyViEEkoY3oLTOXC5LftwKGRNWPhKFyehM2/IsNCzG2V7U/QTLufxHwSg9G5x6JZfTikJV9\n",
              "dM/fhOTDI78opJvGcPQMKdwIUeWaw43CbxlXDVvObdh/2mRVkVBw3pbjcjDO1FiJzuSNc/duRjsw\n",
              "gze+6yIjf8Fyc5zHU7qN8gPOAptp9D9lfbfl929jnFysPQpN6JwkeZ+MuFQO2Hzw8F/NViFEihnn\n",
              "H43q3yUi7iOPdNwRZmDjpJRVgf1gPgaXuU/GyMuD9uI8JV3f/0eukRdh/1QqIZRjBf5mTeroi+7c\n",
              "vMItGjvK1sdHX+Z7zjPVILmJVk4rv5VRFr/x/ERABWevuj+2uUIH1Kw6MGbef5eMLL0tf/GlRZlK\n",
              "awmCUw7+FsN8aCIo3VqGIH7u+QhscvE/eIvpSjsbVV7yqg5dYM54bKv5EVXEqq+uT6kxzXgRvC7g\n",
              "CAl/+N7I3qNdirs6lK3MAgWGLUcTtFUhyKiwy/zPsOOiXrMsmA7JAOkEpJOSX1q3wsGn8A4MJIqv\n",
              "a5Mx4woVR0ITL2ebVdTDF5D0/By96CAwfSovcpbFb8GsdQxe5ntWOwhYJ0cqy59yOYtkvXrew4g9\n",
              "W5pYqMl2U15BJYEk3DbY1TDu+kcrzkXGGDEtmSyDyG65MVJ6DpjFf2KfPrtg0gID87zSUpmKd56j\n",
              "gyao+PiDTnoJTsq4fRGzb7bZ/7dQPI+wpbska/R0bNIyF0rVqcj5b3Y7ZHaNnhAHvKudkri9Pj6m\n",
              "q4osqs3nrTR37pAOyOyHVwLAQHx7XkoNg4KM04TQpSoJVPoSIBxlcguwULsf0PBa5TFlOv60wBR1\n",
              "ixHT2ShygwO2QKDp8STHNFE5TjDmTiR4ZAI53qOJq6JUFuSaFsceMJmYDLwnUA6H7wFc3kUVKgs6\n",
              "1NxuCM5rbL1USKqhzVaEXQeszSVCSo5vyjbaJwTgGyhKxUg5lsW8DqrnmdZ9PLUABvs9EB2lCZuV\n",
              "q4fizTX0s+aNJ4nJaY3D3m/MfKgwU1XH2Fv3aEUJxjcY+KWZ/Uvs4Kef9YPVdOQQCZ8k9s25it7s\n",
              "FgsZGjmo3p4mR50iPdj+ILgy9e6oUPIdJsQ0o11+ERKT6rQyBItqyk0sf8/GhsXuTBNjyzqWvNS6\n",
              "ogmya2PhF76VVulEKImilHW1KbcRfhk2x5YPcTclndbdzG6S3uwSe6zk0djLxKcWTg1rx5198Zox\n",
              "GVctbHbY1i7Y3oXpvigqezad9Wp8KjptKqoeK7j1N6rwNoBx3n4VDo4zFPkfndY+ei2tyUpXOb0O\n",
              "Nnz9sshENjVS0a+aaJCCLszip9R6vh2UC0K87tDVerx8soG0NtoqnNQc3e620SAUXmmPu/GBTMNm\n",
              "QzaPWeWpFmd5sm6bMg5u0eOBNVm+D7otsmpVm1udkM9j0TDAXKIvuo20Pv5Abz/0Og7NjzpRfswy\n",
              "qGYEhK80lZTbh3/9ahW3JoiXXkWXbw7G7jZBwpHFa8BPNviTD2msQqtBOw28IQ9bxiHkxPhX2XcL\n",
              "X7yJUzSqGYAgkSQcGAhZ7aoMW0L0Q6gtJZBTcjie1hYWySd1w+TWSm8WQDm0Rc8K77u9Vy7BY33b\n",
              "bA6MCiO/p7C7pJ1Qq2UVUxqtVdGH8QM0YtgOfi9eqy+yMDyhpsMo/UOJpjq/yZ0XPyl+OOcYUIhL\n",
              "MU02aB8+v83NNdiVKX5ovFYUhYB6D+oMTk0hKQRzLAyM8rQ7WTM6uKb3jPXsu72cL0cxT3QHG/p7\n",
              "C/E1YITe4Ru0qTQ/ZOlmzm4j+Dz/JF5WfMwilaOuy0qBeJnwmiKFrH/zAbN3lNnqHm+V4fI4vIeP\n",
              "Y0WwP5Dlfs/eCo32g7wRdiqaevTNKoWMU1aiRAStcfHQs/zKdxTHgQxhXEA4zrr+zSSudNXVrY1t\n",
              "Z7Yyt6qxjvpHD2Wh2NmnLgSkSFzaEh1QIYqH0fUdq4j4c2T94PqqV0ovThSKN8PjYwthbvlrN3lP\n",
              "wSRR/cm+QDdZWlAvlu8wMjVzkawc6pmPtTAgtRjOccrcs1lx81WixEoUehttxM5I5lH0F6B0Uez4\n",
              "nLxNg66lgo/6OAVKbMAw9utUIu/HS2jaemfKzWX/We44Prvvi+Q3M+dO2+hbnQDe14pOTzQ3AlFt\n",
              "1hZANYgZdTlDNmahIDPYw9pM/WWRBgLW7+TZVyWGr9COdiN8gKtClVRAxFK/jOoikP+kElHmouvy\n",
              "B+vHkMqmJPBdpNC7q0I4sI6jPQ0RZI6Ch7STSc33mdUnMXWV/2BrfbATOonaMNDYH64AX7By5tJF\n",
              "1ElYSXhbeZ6WaRaqdbOrpliuXQcffhdEE1uEjTdiGuA0S1+4KJiG9wsgF1HuG6NGZoCI7qGsujmU\n",
              "LCQjJd2fDq2c+j6QoOs+OMGuPtPZJqat3V9JhevcxyvNcYgrVDAZPCMlIUkWK6pQGU6znhxsNbCN\n",
              "BkWpdIk11zZCEb93s2UoRy4HanGjpdnRxIUegKQO7k8MbJxQKI0xGrdtdWZWCwUPPRWXi62bTqvD\n",
              "hVkeAPnr8BZROvBEuUSm+/SwXjFhKsSlgng59T3wHrzNUKu9IRcj++dOvot+CQmqZgm/gi87b4NN\n",
              "+JTVTwEJ/WSHMTWbUn+tdzwVY+dTwmmA6QJbvAvxSDhU2vTVJE3BU9thHYW+sMA2IXGIzvC4Ledn\n",
              "HBoobyT0Cf0vTQMtkH5k0qVNfv35c3IJgmYt+CKu3sOhXk9Wy7XoDTQZCr686QA5CxF8ri0z0w5e\n",
              "KgPR+PWGDFuEBX50UlaBqNzHHbxRdlG5310lS4/vRFTxbhkoV4Kv0z7fNO/YQGvVQJ2PIc4GTEtW\n",
              "K9zqU7aHT+sbFhgFTHFb52bkjENLgL5oUc8UAhCDX0D7sSO/bYn0UhT5kOl2X6mI88gJfZnab7Mn\n",
              "3NvCmM2ttvGY6z3iE7iQD27dV0R2lAOyg544t3vUAwBzR8DcgKGV4oevoBuV29n4v4cFsVnZJL+U\n",
              "KHDU3DdT7fbkMTtWRNutEyhqCy13yq+xBf8Vtg0tr6VdGNgc4cpzEDBpDoahVDHyEyV5GyYQ19uQ\n",
              "xB5SI6ZehV4Whq4dnPNZIJPKfQCu7nWLZ0Ua2XmWdXIV/YOr11n5WuNnrgAkUqieVPbal1N8LZ2I\n",
              "jR3URVu8Vc8N+7yA35SGkTKpZ94uK7GrZ7ri5XjHFBUd5V69CwwJVXBgOLs98Qaqo7dgnVY3waOF\n",
              "sC46JRHYhlFXr0OivgG8H5tPmbmWulyyL1Xnocz9oi7fLH319zh7gII2uoG05l0GKZ6MUvs5C5fB\n",
              "yDTbZOipllZPmcjCLkTMZla6FtwXxGKl9fwTxH0UleSpEgxbN+k32b9f0NNj8VFEdnFMDcVSNkx2\n",
              "Wk7S6UgBWUEO66cUh2/fCoOf6zf9aspOTCg4plXayfp8Co8bz7dUnIpxH1DU46y6fmPXACKbze99\n",
              "yQSTVM8/Ij5xjHNtL3DTbEq/JOsOTPL7aTronG3QFRKAyRSWPfI8OfgWO2Xy54nQa2LyHqlzQnYx\n",
              "qe+GQXRQw4YQLNChYI9vu1MxTrqfYR3Y1lCN0NqAFDlzRBas6U9KX59aphbX/V+18R0H3Bbr8POI\n",
              "9lswoTEREu3u3MmZt7QECT58qwBscM7fGX0NGoyl7UXj5hzPmhoIO6Hzw8pXQ7H0VFMLrLsXx4Lj\n",
              "z0z4PoEFME1i/bq2tf8B+Qw8opxmKH7NHhzkHfApwJg+g3K8b3SF2qU5RdgHJCJdjhGYvg898pXN\n",
              "jnJUVW3/Dox0E9wdswl7pZ2tpt052hnAD7IEaSsEUdc0QJFnhAUa/E2BaBB0k6BUPJk7hoiuw7Pu\n",
              "0UH9Zjkv6Rzmbn0XGj2k2AyVXj5JzWp4a2RE77kb6xBlEcSzGTtbaqEssoUviprmaZ+3N/91b4L4\n",
              "gXgGi6b8caGgHRrNLuuvR7ECnlUclX4Jw5+qHTkB11HEpComDUco2WGclj8kIl+yT+QEJQjy+T/d\n",
              "WODMVrKM0a+GYN5YXoXmrDYedyLs7248wFAoKGqwwY18E7cw3frwWfSKmIWgOZ6fQ0GLTgemrUXA\n",
              "S8V389xIGBdvaVexcaW3iPgJhz4KfB2KBSQDzShVxkiAMqwfcFbY3GoBM0KvVjvnqYMOryMe6+aD\n",
              "V81O8ZEeJyYRwl4kV03svYGhljFUHKORCOiNsUe6/qbER853tEreoH7qoPFDRX1/XInBt+ycEARR\n",
              "hC+dRKKlYpq02T/4VBpubgjmd9WXvOprRHyi5pqU0dTBWBcjW66BKm4L/roi/wNQF5UTUYm67kFO\n",
              "yLh2ybSW9Id09ZWQbvYcf1rcacw8dpS26EGLCAfaiYm41VZ8pvMMJ7ym/j5XQdHB/urGBEAKq/PD\n",
              "ZthJNDg2zD6bBIBbqg+LoadCzO8922vbK79ctX93mIFHzbO0MLAhAYdRdAnsFOAPJEfEfSg2O0+r\n",
              "BqGbMDoO1pH1aFMTPOFkQ4nmQpMrUGtRbKgxp3IyyNMHMds1iElQv149Xiru+CPwbZTGFmIq+KvW\n",
              "9RF/8Vq17kA458rEiwH4GbZpEZ0bdCahpFOnvoSMonUolpsizkEqt06SJpMoQH+SWe3f41Fg9+8a\n",
              "Rjxd3MOza1M6pk+LGkYVR4FHK/2T7Y5x3lpuU5S7nCdbvFqoHFFZrLr3DzKsd3q6+y1D8KlYVuGi\n",
              "oEQJHuw55xX2VVSFJOqm/b4+yRL99APJvC+ZfM4j09zQfXMUx3eV+xPHBDK7rPT+/e5KSJexdtaD\n",
              "h+TaLS29VFAYg/2ybwD1I4rAiFBReO6whIXdN72vgO16CuUssmNrA7nTtJ1fN6h5jihsLQs8c6hn\n",
              "+46NQ34VdQ3x8S91zVO+6uPr7OFuwdWcfqXMjAnWX//+WDlYdtvGq8HZtPOwn4jwH4ex2AfBbRTt\n",
              "cNtaBu7ZTdNN6KtLOzC4F6te5CCPOSQSeGH21h1PPl99icK0iZmxCWQzd24lQwmNtEGCu67yCZXd\n",
              "X+07b4/RVSiazWLyl0fnPo8KaO9UpTNYqd+FEURAygR49aEFiznDNLmGhl2ufPfKEqR8UkW5xSiQ\n",
              "fzbW82QGKclLp/hvqHJ0xDba07NKHfd/6jVguduVTdo6cFU6b+iAEDS4fHVT+KQfw2ER0epFtR6L\n",
              "wJ11PTrx52Vn6S8tORMGoZgPGV0BL+7F2mW9ot63ad+yRK082rjNiE6d0/8gX3zC3QYIgPGakFk3\n",
              "igSNXevv286Z/MNQ/KnL+ylByVtr/SoYy8j6tEl1Ozo0A34+ytxKM9nOisrxlBgGwVNDhQuzn/49\n",
              "hbybb1Irtcha4F70lsKFfMYHaPtBHU6sUkuCZPJsvsnpM40iYuQlR7ALygWCudAF5G0w73gs3nYJ\n",
              "bzVu/6Y3ZTovmfG2nZR58bCLi4ijsV0vKrKjT0k0FASQtg+UJhdi4nJpxqM7c/BYafnFXXscPzyV\n",
              "JPDGnBe3MWR/j3gKP6/EoG2ILpKYDthEdJTSUNll2sAsgUAMp+uHHeyBN9l3b9evW7HxsA1Uw3P7\n",
              "wSlDX99ni4qGnS3+aRnAmjET6EffcCZGRQyxtZN6HLAxj8Y90q570C45dnZTHTDJPARDibzBgqm6\n",
              "AWQmNzKicDKu2BhnZC4UBhyZOeuP5ger3ghhHtNyv1ef9yN7JoYl8PymjXZpIaa0hGwFv2pbaDq2\n",
              "vfwBidc8Ug/sCOI8MISQEJhnPhjcx07s9tL4Ar+kXqY5cQcoooaM4iv9WtvgrxEPAPm/S8srzduU\n",
              "QYNwbXcvmWlQS/GPj+KpmlQXjZcn7ulWyDyiVZ08uNYycnpC9UL7zu3ZNYdJzbo8P2gicri7od0x\n",
              "mG8Q6x2ZTFQMtOpcygMCb3LMZ8V8HMDbhqinpVNgniUGqBZrs5DsXMLeVj+uqGhzDgrBm19gZJm0\n",
              "nTeXhjZdhUcaJkXjD9/BVaJYF/GxV5jp18xFiqXlbSQ3uuGm+5cUgZJA1LzCzne+AP8XH3oJyDWI\n",
              "tqHFDTtB6dR3M5MA+eprEDzWOpnmN/3iz4dJnV9FFtFHFU9mKCo8IXKxMhJCKPItK1CdtL2IT253\n",
              "+onPIctdTjvmRZDWRMFy8S699TBfFcl1pqQRP2D49H5jwql4H+BW7p/RfS7WjliKnmPiEyi5idF2\n",
              "QF6tpiK/B8vX6fV4RXT+ovjFVe+9IwKEFtEdJHlrPPATKBhunh45LwK4tz7m8lZ0bTi3ab4/iqfS\n",
              "4ZoDVTV+jk3ARiW+8Dg11mtgbcjqgTe5AMGGMWQVZRAwdfZeUvzrfgJr68REFT8bmUCtVPJgE9lk\n",
              "6vPzvIQdLTjvpFFjyLw4V5AJkISkODfFpPEv3ASv+221R5X93CK3gZu2ouGQjhumyJhrA+PAAmjK\n",
              "SufPNNOIhamDyvc1Ny5bVEr+6zZBFWeIbK5yXd3PK5eGdniEf7305qKWN93yyie8oOyQEuLB+5at\n",
              "FlIkr6k35HbkIgL9KDBlTaah3axT9ucX+jtCMZLytLESwai47Sz2zY8HjgFVVx9Nz6Y/8CooZq3O\n",
              "QL6BHLNi0F54i6kmdPdeD5mL7cuXY001vm+HkRxWEu9VQE9iFaqUd1e3AE4WYUgZk3uxzz9Ud8rn\n",
              "QxePTTcb8eZUgBP25H7howXDwr9anC9pGozhjqfQ+A2S6QZSIdVAsHxur8GHvMgMkIpvC/mY04An\n",
              "inYimcBneWdKMOT90MWZ+6+FFLSY7razdhFq0KW6MtokUDW2xjWV4CmbedlCNvLPKLGjlcLPcSNq\n",
              "0Z5bOQA42vsoLeM3kErKqapyb41X3Uo5/cnmciIkg7yvc4Hofh1bXDQeAmucAn5dvxuOv/KzvG+L\n",
              "KvGrXUkSepDqh9sp81NAbsYg576rM1A4m5p1IuJQMo61efliKrsKVf+Gy3qMHRdYxqxi7Q1yukFI\n",
              "2t0lBvhYLYW9tCwWViWFC6uyDDO+eK8G1oMGqxqUfHQQSXEGG3zYIWkng3Z/pm4C8uvkiNK4Sk5e\n",
              "zA6BQ1y+3IgDumsks6Cuol7KlC4fK6ltqYxIfm5W4oVPBY3UVW90zBjuHqVKY0whljTHvZ2+jvMP\n",
              "5OTt1aXunattO6eGqtHqEsMBRHQYYNQdA2vBZocP9bWm5iwH8sCuuoBIaAHNDgjwjiD7fupRr1D8\n",
              "bqW5UaCG5AwiJLi4Y3vYa0aMbe+bp8Bs4W9uf9mpnE+WwBTcfuGs1LR+X/1MRT4hkGfZv4Q7lmTN\n",
              "TdQzySRRKG/MxkHgTyIGOcrqhVYr2sxOYWXNuUZN3fislwGQj2HdwIAu9Kdhiyf3qTwgBoWj4xkT\n",
              "ThJSKuSH7mKL5T6r1f1sFfD/i9hguSY+LH0L38TmFFkd+LhPnnPy/XgL8Plen1o/wxhBnTIKH9Gm\n",
              "4UzabjM0X9QH3/j/q9Ofapih9LybRc0Bj3VNrum1YoYqPgXm0Mskb8ds2U/Aujl/TT56C55TP2Rj\n",
              "wbmeGk/XiVNs5LFjS3qA+hQkkx6Kl8LvtPxgGGGvgaGtb9fIzR3F+p6CW0Kr1XNlnBLI/vbFgHhd\n",
              "s++2eb0oEv3WQqiKTqFNBSRpyK+C56gGzYOit13CBvX2nFDTUluh+VzeeAMv+2M4gB53QJUSTePl\n",
              "iNo1EaFRewpX4Q86BipM/riyeE8Xmdns8x6ye2fVD8KOY5w9P34ucaxlgntYRoy10e0TgReMa233\n",
              "MGyXaVVbPwgCPDhFq7enhH3O0T03lCY4tXnPYazl59dLvDh3a2co8yvQYeP1ZmmoNv+pIF5vrgjs\n",
              "dS4H05p9jty+pJNl8fc89GmrqJ3KDv9e92O7IiQnZlMqo13XktytRjlYvoXjaNQ+/BDuynyYzgeB\n",
              "nRKZywWhGFa6K3IBq+M5mUGpaWRGVlZpbkI/E/5+3aECYvHPT94uQ0UZC43p0kjyhfmTaNmxSvka\n",
              "/6WkE3+U9XCqgrVJ13mpLQF5XqsEj+ty6Fj4copIOmsVuON4S1Wv1oS+nbUenKC9wxcg5ZTCI+kj\n",
              "y5KPsUO1pK8oErIPi7vWDBOZUS/n3be/F9FaI/QQ+SvDIRyM2a3dl6ojH/TqeP4vTTzcnIvEI1BG\n",
              "ac1GZgRfCVscqVsWrkrTSe754HebVFiFPoVTVTUOQuRauBziYkZgIx3mwWUIzJvb9CHqJnVbKG/P\n",
              "tco7ENRBwXx2M7t8qhwkDwfwiNMCGGVS5D4OMB4+hIBLlTDm4Co3FWnIWokq7BGlBM2GNxwPBeoe\n",
              "agqimeRw/Jt6En5dKR7vQxquyANxR4UKaZR4l3jX7XGY26dmiT3v4vhGc5ZTY2SX6ljoeUe+H350\n",
              "YjfG9ATSJEb15vT8xKXgHaiCKMaoYMwTSB9nqZRW5TnX1L0AoNgYAF3+po8mvqiRB4iYhEAEr3nQ\n",
              "OX45uXPGMMTvwdGUuUdbcz0yN2NQItw28mailN3aJ8Bk05+1FfRRQ8keYIAtlwniHyeIJUpf4awZ\n",
              "X89ITjPVZ4fTStY4nIIRpMB2E750UOrhchtzBofuinfkHue3prrCdPmWCd3gm1XTJuzbz/k1ldx6\n",
              "/5/ui39n/ajlg5VyDb8z9+gcsvQZWfItfRcVli0lL1VHGYcQNn+4fuTxQbYvWv9buwti/fPMDePt\n",
              "vboa+hdn7h53vyjf1I/t9JJTXGzqJnpJsupAUB/Ln96U/tKvoSlPkcw2MT39lWRfwkbr/GCmsIhX\n",
              "8X2EXNOsssT/kVHo3bEvfjh8ZFRoo1PrJnWzt8S0+lzc3AVhpKd8cDwTWo8bcskB/XQGQCoZLMZD\n",
              "CKLKzoyNL4HntIWIUUwsOSEm+NJN7aMZjGy7UyuwF5wfi5yhaBrzvKnS1XDuvNvXRy/nAvpj2CET\n",
              "XroLdumtcRyFOwNepY2ppGYu7z4bMGl/eaEsmTKL67SFGzgCscrgT50GnBy5oxQaW6RGoCSGT0Zo\n",
              "3GnuXmL6eR6esFn3BIirOit5gOyMduMG+oRQFxeZTeG0LwmT7Qo5BJ+AQrDwa1EB7a/nEZGHoiZJ\n",
              "VVF0Dod/iHYEHxYtJvrWlRcBqYzceObk6wn1zpPkeKbeiwxJvmLiUhn8fRvpWM/Q8MKSySl6/QaV\n",
              "xRXXKQ9kgD+PcudX/uA05lIdWVmUB31xYE0w1uQrh70aOrNL0fFQH4yJ1NZYVmIrxOwz4XSb/1sU\n",
              "kfAlTUp4yrTPhxZQi0E9HkTjcYvOiNvYAt1sScB0JbmwfEuEvp1GNCdwLisdukqKXjS1DmXdz9Op\n",
              "7t/39s2dhCq0pKUcmuUXp6BIj0or5bMCb1BCawyNSJmdv6YGJR6mb+nY/D6C7lKinkZ1UqMnvvjj\n",
              "ysC/mbtj6AWZEggwArNQJ3LIxiPCQAx59lZS70+V5t5MuZVRWojtEEosKigf1JnNqJKB9Sro5/UO\n",
              "YupOezhsU/8Q4uED1M69uq2GDeufOjJ43yIS/0PgqvlulxsdV3pPbrV0uowrXfgvHhwht+GP9T5w\n",
              "CGLq65dBXAM9MvlhZ8liXUkOd1IFrU9TnZ/pUh8ZblGAA9vk5dxWKKaPdrnEMRXcczGo1oXC5PV6\n",
              "E0Xk/gQKke1n0upgOveru5uML/Ra+miPYVRjoQMfYdZnhYtNPh12oupZlSEaGMxrZIwRmmjiBbGO\n",
              "vwZOutqIOi5OAriPzcvHtxtypYUvVOfJhuNw4r564HXiu9urvLReZAxQGWh9ALFUeOfutA9RPjH3\n",
              "CN4NBF3UFgQt0XfX2G6m36LBcOQqljLaLXbA/D+9j5U+8qxuGwRqFQ4RGUfZRGhfkZWPQEgLhWes\n",
              "54w1LFMRF7gAysrVroVgKydiPRkQaZsTWs/XDL///7PqwMFYI8sE/jJPy9dZjU0U6dv8vsHXLM5R\n",
              "UKHlrng+P28LwMhTmFfvqY6IW4Ug9DRw+AY/TDtEambDMS0gSRLfstT//TDrtO5HvuBKR6K02Auc\n",
              "Ve4doeuc7e2F9HYyu9zDvUvLgOrXUqQ8Gvrq6U63/C5QRkUbY9OC3NttOw3Okq8Gktgbivr1pntt\n",
              "PTbZdcllCRwz8uGqSZXyJDFoSpGsE7fC2/Xlqphzud5cZaJRuLdnYeWEn7CqVBfyepXBP0YiZuEm\n",
              "7U6Wh6P8dQ8Qrx/39R5tAFoh7nE/GN71OXR4clJ395V0azdpE+eFuYZgBL8CHR/NYLy8uG+82QxI\n",
              "pZS0ooj3nvVkH2aHHxkpnXn9rJD05GIhbyAGZ2LHPQcRAt/YJdKjc3LmxA0SAvW3hFnVDPUEQ5sl\n",
              "FaiDHROtjMq60nF5DdwzayJD0O5EgApp4QptteEvgDu2ac338UewcVpze0xCJDhPvdaRo9hDBEuF\n",
              "xFvCRt5fg2eIoLjHlhiFy8vjCWxJyn9cxq/cbIKwS6VHSsrjo2T/yEPH1hD8icmYhtzckn2q5Qh6\n",
              "23nzSXtJPK53pr567HS21S2ZTFPQuGO5r58lmQ4AWFhx60Qq7rApRKoDmq1xeNhh/WS81rLtBDGV\n",
              "zvNOIcDPWiGOnsOqli2ewHjd69YALwrXBTL0X2hUP6iCpgNdx+Git9a11fQbuDmGV25tYoG3yR09\n",
              "0wcZg0Dsj8MR85+76SEoTwLh3hWxKu7LcMTBIL0poEOSJzU2v7FxWo+HrGckZdUTCMN31EgKd+E3\n",
              "AtXv93QdWs7F4dEzkQAfuERD4b1MzYpnUZjlDAblH2SRAE1HScycQfJxp98w3jBClZTp5PzF5FWr\n",
              "AKrD70k7izzANpvxe1LCZ7ePIkx1jT4eFBfClw/+2NXEClCIx2piaT2qI+gun5A/7L5jqNZ9vZKm\n",
              "51nufZV5xaCUqjaF+2v/oO+wrsaJTlFRFqqwzyHr71oQZ+9Cffb78fpQver5sDOG//VyTALpS3sN\n",
              "5o3tfM5ouJeeNQHxQEZYqtDntv6iq5fdccg+QHG/qX7Ah8wwX5wQrCB96X0or6KisgZNCl90jgp5\n",
              "D4dRFm3JDohNeKhbXAiYi33137/JeBl/AlkOwPj67fL+EUMDjNDl3IT8GZ/J+eq9RryYifHEPTUe\n",
              "MIK76uBbcwJ7Drgk7Be9R+xZQyuq7HfmXfA8Gw1xVsu3ZlL1UXJ18vOYIz+GIdPTHYKIihhQyScl\n",
              "ENTWzS71/4+91D8Bwqy9DZ9qTFnPw1xWeoJ89eRnHaiss/vLhJveyveXJv07i3RMBWt0+h40u/UQ\n",
              "tZeCgiHQN4Fdk9syEol812nRS1Z8vFw4/GdzGXojhlv+zBmcmOdVcm6dWTNRTffhvfq3eQDqHfov\n",
              "PqiBbm50wfXuGuLcNv1CHlTE74iZqlkpbCfBoO7wUXja3CRC/Vw1VTp3yj4EH8PFUOQt9ONKiv87\n",
              "JGRyckMOX7H93yCVq3J+ypIg5vD32JaBjXkpkbq9LAVBvfmnL9kdchmrKC/bEMTHFesoNrVi6epc\n",
              "NYB22cGAiFg3VeD/nrVsMIin21rg575idAAi4YOTcaK6dwDuNvGUjmGVw9VT+84M27OBhARUrdew\n",
              "QB3hmE0X2RCmbG+J4n26Gt0JvpvNuEw0SIkOf+A6OXJEOyaKVM3CkuXnQUAp+PcGblf6oSlleWJG\n",
              "ak74115K8x60y0exHr68p6Jax1g0XUILqtfTAjXKluwoDQ+GfYS/lH2LsBVvjJNMK2HDqzaJO4w2\n",
              "1Sc7vUWNluC58s38A+BbnkqO4ar3m274ciq/Sy4/0Fz6bs+pgu4f/spP4v2hK+Knp0ZLnG3Rg38w\n",
              "UHwr6Uey19454RqIvwduAmqYtimDapnnd5/ILjZZaXDrAFV7UoaWI0C5lkr3ZRVbK0+pcifpmTzc\n",
              "ZjBenp2UNTmbw5ToVaSE5IMyUE1BILSyS8nD2lZYeyzoppuYw3eheRHi8tkL30cKnsiMAoCvF5hC\n",
              "/VHlPhomkLZoz8bk3QAWk1RxxHf289BBYZOzWq8XiAU/yLKBUjetsd49Yhk7/XD5UOnjAmJxewrm\n",
              "2193/Acdm8YFktc6fT6PbKMANeDyBrpuJd68SPaX/YEzNmGOiKK6L+nGH8JPiasT7FgwPCljXFCE\n",
              "Mc6IFhas+IduIFEHrwX1HuCl++sL8yvmyWovKnRnAhGAXwsJbhi4cF2rVCTQOH6Cp1/3aBQQ0SwR\n",
              "hWeEeOCtYlDT0VQuTuO5yInAjCyzK8N1ft1/7EZZG1c8E4xwIFeJFtZu/uj05SlSEIML7L5j5Alt\n",
              "WNCbro4nKPjZ82L+0oAX28u2FIpUUCHWx+MA1pPacqWZKjdc61+RXvsKDXOSZin+Wlq3wveTtXnl\n",
              "rgS5Iho19oaqfwMyuQrw+E3+IbKw9Uh4oo5gY1Ro1EkO7jdV5F4yrRgRMiYcGNCq0zp8zbbe+a1e\n",
              "CxaWGyo88wIFfX8ritLK+ZraXEIqYGh8P/VshBjfMKJ2prb0RhjIw+QWpwmkYoxdMdepdodCYyRr\n",
              "t1Ahdr4ooyEO276U3hWDmU1bsaCZtcsoajKyrYFooup7RWkL4EEzey1jnP/xKXzL7zWnP2Ck8YGV\n",
              "CQcwCJR8XOJAQYO7XfM3Wgznm9TWYfvOCSZUxG4qsFbnGkiVd5JGUF+XmH++clODWiqvCfhz/QoZ\n",
              "xNDKwQ/6gr4zQRcxT5ZqdCN55F5OrJDgPDf4r6srsD+9S5OK6TJgUahY0YJNZx2pSUFXgdmyH5xY\n",
              "lVLSWqgKmq0SmjCX+y1tA5ZDzlTvvPuj1M4Mhs2QjjpMJxwnJAuJgXPhdXPPLqnj0neru0Op3lIN\n",
              "ZfS7fZt7ckNpwQ5zErd1JKlkp16ZI2Ix18J05ZAtEQpP4WrCeCWRRDz1f7YEerfdTJCjTRcoWHDf\n",
              "FvrNXXFciX3Xs3Me0eov3Y7TTv+tMiR28NwaIW+aVJLsA9yRfPEH+YUuCY7mHS+LT0YmTTQQB0B7\n",
              "pM3x93cJn4l7UJNx4iWSHqVnHtrwwleQopxOpT9JB0tiB26C3MSRSaRpi0R0QkzDm5kUdfe85Pjd\n",
              "RxjZ9ZpMNsejH3UkrXq0XAJ1oKlwVF7yJdY58uBJKSK2058bwuUH/MmcO8RJw9QX1XWAOZ8tPMTM\n",
              "4HwbpWKQMNDFKWWi15K0VmTXmtlheNb3/koDdtfeWWhdqX8+wILRvGprjO+Xnq6rmuxUtMgV1pye\n",
              "bpYkl7MBWG9khmd02B4rbHFOgbmaW7KcLJxrHsu/wYShtfQ2i0XW2vTSS+ApMNRcXsgdtG/TmyxU\n",
              "lU2NPPn8IEi0QBxznhf2aNLvxR8J5wFWUH8tU8Gvq7XDkqqxy11T/sC8fmQGRjOU2cmhRy9mThd1\n",
              "4viYhBllEpZZZAZNXEE2QPL/LBAi20Xlr+UcBLeNLLySedd7ELGC0dwkHbZGmctM6ihurbPjr0b/\n",
              "m1KPRB8u44iezQDLq9HZ1J9HkoFKmS9n1oh4hbYdgwy9s2ivy87SBp47KVorH4u8k0ioJu42n93w\n",
              "2QWrhOgmY13rk4HYDo06BcXJurw/qGAUDGlfnL6auGhwZAaRglSCg8JwWADLJYsHWQOKEoKbr4WN\n",
              "s0k/HHMGBbWWsFEJ+r4uqlktrNdjTSZq9noLdgONCrVBxEpqmIVd8fJd/PmLT17OENPyS+1u/Uzu\n",
              "VxtAf6Z3I75+cYZyfhnrutHnCNC3EarHTQvGVoYaSIHFtKTTpOl1kFknBkvQPQhvy5hkr/3pMXL9\n",
              "WU0cLezUJA2Xs+SXHFlPN47kNrK5HOJ3qxDmIcV1I2CJFLNiAl1TTgeViekX5TILN2+KhfqULnSI\n",
              "MPQ2lZYGHJO5DT8tWh1EbMCh6Tyv/53BKV7RP4URDGEd8fHrgstYCFTlGdSvb1btV7pzEMY52ZhK\n",
              "GjmveFgubt1g0kMrXqpd4eq15ZHcbGNK7Zfi/bPhBAOfE8lSb3lQynS45EIsBSgunO6y9eg2rqMq\n",
              "c3A1hIe7IlGIKozKkmNpbXxuHKrvP6rx/51m/DO0jVtMol7051bvhPjXEwNGkPGrV33Bwn+qux17\n",
              "w1J3x+2q48Sn88gu9JEoHzc8j2VavmASwPLVklHIkefXvodeUBXlLgrYYCAJ6fdsVGbu/sH56/xm\n",
              "+vLkjRQ/wAFn6LRF9KQWw0Z9oGs0429BbH8fGPFRM9BnBRMc6aMYWEo+w35wVS7N/wn332wQZpk5\n",
              "YRewyocxgwmDg3ogoeGrOKkX+jIr2AFWETG5eVNKAC540RDdPi5PyyXo2ZuVZ+TElppx+chMCWdM\n",
              "wCjxELYpqMBJbJTbiyjAKtSTeJe3Ztm8EiP7J9hs+Ujv4Nlu89EobYFxE+68/wzo2rbJTFhf895n\n",
              "/GMS+/npfrv3rM9Tw31uLURUvQ3pr95KNAzH6Heo/mb+kns5yMAttT4BXznfWkFzoMgrHzKhU+ep\n",
              "m/nOZilFhq/BZS56JA5qKPe50Y/x7I8ewWqah8zEIkWddWR7EexpG8rsD8xpxibu1Op9p5Yd3lkS\n",
              "KXF04QNPIOuHDsqDNrsbkePEC2FqzNdQy6Zu0WdButPyxTxwmu2kMkAABCyYP49kDCL1RCtc8uPA\n",
              "oHf3dEDDg1dptlwdGDvONT/GRtNjgEEkI5E4412cuw5CZMtgo4LoQbRn6Ns5fQizspzBHU6dpiHj\n",
              "myVqtSNXnVL+7ojZ3gsUsoFsfUcv4ChMxuIXL6NBA8q1BE68NJZsKQWoe3i8ISuKDBHd38kmxgZV\n",
              "3o69aDV9BKcgWhxsH4xqUpE7ho6BdypFOdUX01dGw/tQTnvmi8CrBctGgrtnigVNOX1o/2tWX/Z4\n",
              "ZeCqSl7r4V53/LJti8yXWnQSXB/WP9+CSzHqdgdMtVEHG0z/Dp9JTqC/VrK/ttpAsV1tA7uMelf+\n",
              "PhlENlBXMVDSuBBVrggNvbuiTbfBUdDFRwy0yIW37CgSAFWDducSG0edUSHp/Yj5pdJCITKrH1Oc\n",
              "SAOLfbCtdakM8oRjEtoWO8hu5vYdckD42m2qCg1tI9NoFYpjo1YDR0+KVFcenIHmZRwM/hkLEJKg\n",
              "WSNK4OqiPBCeVqFRW1cSynDTx7Lk+1zN+AcZcZpeEQSas53iDbUELBnph3ECE/nmHevyJLvLidUr\n",
              "Llg+u6WikK47jn/njqHcQn1j/PjNdBaZqOeX7H6ouq+9AttXMMZqwaiaVVKPdI37ELZpugCvKCe/\n",
              "BAsxiULtMDSNKuooalQRr026I1sOzF8NcxPQAgLH7HHt1r2g54v3NczJM4fcXig3eDbYoI3Ov6/y\n",
              "0mAlW6E8RhUPC1oZa0KM3tH6SrpzjXg2GphR0n/bb1HvFaOmvP8OfwggMfTUJIXX6jrLPM83qR0c\n",
              "PudWuLSH514nZ4IFFF4AZC+zewOFU64+NxNQGv36PyxLnnsGLr5LLAKSBrF9wYyla+SCF3vo/7Rx\n",
              "1LBIFNqFhq1h/qncK30T+8LjEtoFTg6UL3nBQSpZwUafuFR3T55F28iYjqGMyNeJBZJ7Qs4o9+N3\n",
              "aRAtrXpHfqGsV1wTAYzdlCqlaLn9z6GvBswrcKMtqlm++FRy96nkADscn5I3KsxVnUVCt+nWQKMB\n",
              "QBfxYLJHABKLUnLqokJDLQw43bRGOZlns1LzwKadmRaOgKI08ROiERWP3NnzI8uOTNp/Ctq5Pe67\n",
              "NcEXFM2niuVsTsYcT/BOmePXDAfo3AuptLqyijPhPTCKWv4owrdMhm+M6s6Tuqcg1ysd73VgEfI+\n",
              "RvB4ltGRKacF8EaUSlUmRIxa2gWw7RnrXDg4y9dbtYzjWxRCtoglMvt8fU8omIrL2X6VY+hl1o1I\n",
              "qvlZgSvgbpHk6nYp8R1u1LR/m6odbfTMZmZ+AZ99P1Fn8LkNc+uGcs55RcdmelgxffsAqC9+yb8v\n",
              "R70d9cLA7y4SaNlvEjwR1+4xUQE3Khd/cIRezrRJnP9X9ELEMB8f7NWcel8cBCT4EL/irE5PAMnt\n",
              "k9oVio06gebS6x+BASpAO891pz49lVa6WSuhcuv437o8E3//5SotNYHUEv7oEiKbLlfevkYA+Ub5\n",
              "quLkOExa2IcWMUx9eKG7kaW+jLS57RrfTTwwDfWzu0TF60IstGdBvDV+jZ0GWZ2bX0+szgpWKg1R\n",
              "IxctwhvxDbAhJnL0ekmNbQBFhm7GnOSQKEZhluaCiKjnarFpY54RO/QUh6Zo1Jl8i+oPJxpzvb+l\n",
              "OT4tz66xWhGANTquFH7NlcdWZv0wDv00+79eCkK4wVFRNWOjk5q/ivoDevmZodqA7ub4S6wpbM0c\n",
              "lK2RGJzsWVhb4ErTQNHQ5kIZOK7zb1fZ/OwJfdxOmOWWA4BJZAJn8SLt7xQpfb9YzkH8s/boyj/E\n",
              "k0ZT917lFFOdjr+kdHOkrNWducL0mlickDwfWIho3pDIpVgrqpO/mwRYhsrC5umapGaEzKv4hrB5\n",
              "zkEhqkvtLJa0vntwnbhRbIa+FwkHUayLOuIhOeC3Mf5rM2XuXgAnOHDQshEXYzaWjPcFRPltwYOU\n",
              "wzs+7t7CJnOaTcVIBgqZUqNqtJria29iImOjLqd3uUlOSeWbt7j9lPeZ91t2Jo6U9CrtjoOfipST\n",
              "BHi/QiWNrj/Bg0jbBT4esDWlYlklwuhxkcwuyA8iY/XhYuFEfMsY8K4IXbo8Y7j6lUFWWzhAoioO\n",
              "Utn4qS2B8t7dnOO+3ekDfsVFwu0npIBv47SQ1vtnJudTQYJCg2xMpPGgbzLlUX9SWEZSvLFru8m/\n",
              "jX2+edOsA70iqDQU0QIw7VfgZJ8y8DndR04H4H7tt7C4+yjD9rAoclEqQFUwCltjpSKRM8ZOI2rC\n",
              "gBTo4ILBKyHML5nKD9WzWlhC1fR3k3BWrD1E8lXiTJN/HcRn/hil2K1v437CUkdi1zDHwZFBSAkN\n",
              "ysOVR7q7MEIEk0jqcdo9gt185Q9TMUqN92W/1hpbMuKRb/l9+As2E0rhTVr9sYVgG41BEstmANJO\n",
              "c29N6p/HZVuEgFLwBJgQMXUGI7pokPC0Bag4kCVxuDRqhMN2hEkj8bq+WG9mjxXfHwir2jOGCkk7\n",
              "gJi/1TB+0CLrhYmgLVaEAHhZblurTjyICFKf+n69rGS4Yceq7rgILfIiEZx1Kd0C/7+z4d+oLXEs\n",
              "nb99Fa/zu4cnL/889ZsRbTqWTkt09B3Zoj2L9l91VN8XXQW1Nom3k5aPMPBZqxOi6qkr83ZewNyK\n",
              "voZnKW9fiNEKMfkpIa1/cBnqZ65JeDBfGXA2svRe63Jgxnirtcdn+MsvSXqkK09biW0L/GlJWHLP\n",
              "BpgaSeOqPrMnaLOT7zDb6lIk0+2XTwAEek8Fzklvmyb+d3k8UU8ra8jGRDs7QKAezf/BDbxQP9K+\n",
              "znzEVtSUnO/JpmJJlh+Ah5RM3aKNj0FRePEshLO5ooxykcMS5x46gjzsF72x/YKmRPFzTt1tusW4\n",
              "3ctj7rbeG5ZGSb6YLwwiqS/qHKnVFOTYm4BhpuyWd3KITFlRKNaX4eWYh5SlJDD1wl6rlkdWIlz2\n",
              "zHdvhpeqPJEPDdPiA6WaEe7xz0Ggb45PwsZlYZ0VezoCuJE1ebxdcD+xpJAqMgCrqjJKJQhzig3v\n",
              "b6WladZ0XWeuLh9pyhtD4CjnJcVUPKNqSgVnWbEeA+z4uf5tpAy3RXMfS5prxah+C/ORYrKY2qEK\n",
              "doFP9U6wLA24BksKArapip8jC8+GCWruX4lGKRwaIqeeXVJZ3Wnu4BnQkCCxM5/LooK50qIUVwdA\n",
              "eYqwDqyReTXXUvz6H+MptRLKMOkwQHtr8viBrmOcS/5MhMmwGeHR2r5jsCA+X0Lj6/kpiMxzMRvX\n",
              "uosFMS04AlITDQT7RWnf6Zo5X77gbN43g5Ncehb8kG+7IZZGRk8RUnS3Amv/JZ3K6TuvQxY/JpeM\n",
              "b6Ld+xNS8YM3MOZdbiHoaNXIisBtvG4iKToKX4EVP+qYmQLs9zQqHHJMHlbhQ/qQrneUeofShimV\n",
              "/CGGW3EV/AxGA2ufkjE7LNdN3FdoA8FadAdY1sRADOCAlEFPdOjSeF5kogk9o/Zm1T08COzjw/Xa\n",
              "CYti/DCgfssLkXFWFq5jhrz4cjN8Ydt7PBhJjCam7RK6nGhLgu5jo3azQcjIJwZMEciBqqw+dhsb\n",
              "1VLU56NAPUOej/Y7B2AyqTgdreaZnwpthF/Hh5wTQ+PT0c/MJnBO+zkaAxoBg1USRpwD7pmcgwhJ\n",
              "9UWsPsZGYCxxZqXhrmjC13+C6YioEmtnUKxvormlVcqruQP5Z71hRjc9FM1P3TZAU5+gZhsnuUhJ\n",
              "aO4x3xbnmSqspyaibxlpjQIvWObwpx6b5V9k8LavfboEhAfsJQdsIDEf8M0z/i0p4OPG/Us0n44j\n",
              "HLYnx6IxPT7LlCoBH0rp8j7NQCeFqZio1eXD5ek9GXLkn1+PMkGNhtAZPIfF2TQoMIBxMGSEHyoX\n",
              "DSM0zjl9Lt2jjq5h85aAlChTWpJQHjUrGpTd/IpRsPJwe+rBnjndtmAd7vZBnZcqHnVGoIUZ3h1d\n",
              "77D9YhgFPA1i5rsu77mDjl4E/pwL2TtU1MvLsIuhwhzVTeMwe4ceN2Fzg0EstU3EQsfEJojCBPzj\n",
              "b4nV0Z6rUSjBWAO1pICInCMFux9eBdn6LJ8vSSwl3MwzkbYC+zDoyDggRxBF6ssQRNC9HB4I1V6a\n",
              "erGtE/q/fm2QJ7a9rmKWPrc/+VV25OuHO5insmN+sVjDDtpiK9T9dVbd5XjYIS3YDtuX6cusej7/\n",
              "Z/b3cLpAJe/n7t5/jiY4X1MFaGc7sAiJNhhicJRC+kua4acxSw633dSBQmPpB10q37o9J3m+yc2z\n",
              "WyxxzTBV75c5o3ihO+xqlSVikP6JXKn45e2OWKZLZBvdQQhBYSyTlXAHmM8zSx4hVxuL/a2yAUIC\n",
              "3fuxpcqNZbTRCYdF6nX6+KSt+7EcfpWW1bWp0tif7cH/KCKuU5ehUSsfnhZCXtudSuvBGptkN28d\n",
              "OHzS9H4a+BNAF9FQ9qPuxfpOW1A/AIE2jA0OR44lgzTXzeFdbsX2UDlo+aVGGdxAdq5wZoXUReUW\n",
              "lw8+ZFD742J5L9nF6FJb6ilZFSTjr1UAr0lysSj8wTfTG3nmEVWHgxnUtI2p63y1Ci2mW2TlQprm\n",
              "KOwPNDfKiUcRVR7Bz3GBUCV3Ta9FPA3h15ArDt11X2POqAFvvvgsFku7Yup8wXgkOxDJjhr3Pl5p\n",
              "J61eeoTL0aL6Ff2rwTLoNHJRbsMoNWWicMuujG3iPPoH311hfoQt3IFVaR9axX1a7gaNOuZ+0h3c\n",
              "ILO8dtpj0Id5xbKHGRIDyHRG4N4eJwb7xaQGzL6LiQ75L8o6HTDCk3Xdep4whVFwBN0HpwcnFG0i\n",
              "RKAMxdKfm87/KzMkhITXIvAzQ+AVHSnqBsAtohvOkyLaD+AE7X7MuaD+XDzvy1ZQhzON06TxYWcl\n",
              "4Ng6uyvi1OC+bZr60zeLaZJiW1H878WQYGh6DskpohWzI4VjuxhPyOBJYjh6rkqfDQGycAynVPr4\n",
              "V/c05YjWh4K2N47oK02675golGoYAszyp1WxF1q7bElaOVdGTidTsGwkU3rYZRcJoWXu3HF+FwLm\n",
              "BziTao4th5VHELGFKxNmSOdaiZSgJSZEAACOceKpfAZ/wQNuP2CRTwqwunJ2+Ol1NklFeHmxJOLA\n",
              "xdIGHNRi2yYRG5FO/wDwtz4AcKUK8u14qQ17QNe4NsHRxR3fzkWNXHo+BFhzFomPS7wky7ySNkDg\n",
              "Bsk5twbSrDuFypmaWJiahlX/4m7Y1CgI2i65L0rIHDMZjlRpzSZ00f5Qz0VpixN19pWLjfXiuwzw\n",
              "2eIkQaXselokcVMaAqdSDOg8/YEY82nkEoXzw3QKrt+5n1F6Z9E/EvGsL55qq/TT0ThVpn3bxhhp\n",
              "Ru9DrNrThY5nsXklGx6gIShpqHA2cUZwzhsCFcoa+OfdUHSwPfQRudgBOkF9IwJwJ7ebc/Ci26Z7\n",
              "dbvz+htz4PDtGJg8NwRAJ5nQzdMWW6pvbtIY0B0M6oOvp642WsWdZh8IEyk6MQNYNpdV7qmR2MI9\n",
              "Hq2InZN8TwUkg3aTZpPMsfNUuxM0poJGs/CeLgWFUAR+yKWM7ZmgGuCLfnD0z9uuwvacMaz3UCUf\n",
              "NkA06DjEZhTDO4rPZDVUVjBRwkxqxjY4eIdAfx+vvnq1KdW2Eal+S2ylrclHMhEQvhxwdAv40wx4\n",
              "59S4pkUemVdc8eLSvV8aM/8wf+pEnENvPoi95mYsmh6dOO8q0PAjfuj4vfTNZmiIoMStBW3MEPbv\n",
              "ROAmu2ACSjILh4TZ680frfyuX4ze48EJvBfeYSvWE8nJm8cMEI0zMKEZAX4zfwmhy5XNzEaumQOW\n",
              "yiatZJABeXW2Y0CH8YNMJQm9AeHPq3wZRgcdGED440Sqj5wWlS/pXeeO+fPnOOOTPn/+RtAiE4ab\n",
              "gV9YKEWLSzAEWW4xTRFqBAGfmXP8fpeAdoTND41foHAHTkJXaY9vI4k/URaahIxXpsIIzNRMmQoq\n",
              "k/sl66TOKhoetcFy2WQBmn1nRR37yjFjgJ4k/aSjkmA0XimfVLMXvEBEqmhaz1MPy2VnHF+Iwdlz\n",
              "SY73lT/R3PtBA0AQGyyWQ8mArS8ChDDssc4WbYtHPjQkK+PnRuW4lpe5NAti/NVg0JgXJEk0nSi6\n",
              "xe1z55RF/GXfAR8lKeXq+DWzBI51Voe2vebncnLaLGqC/rwkKzdrJQEDtGfyh0q3CuolgSUa60HT\n",
              "/hj2srozbvLuS78r89hAh+WmW2aN6eZHrhMMq4I/C0Q6fPS88331MvmrRYY5Nt7+WIrxMqWVAZGc\n",
              "rlsjBmqNU4JFkUscVYo9fp8gzQ9go9KWyQdkIz9nR69L+KAiZdFrA9nS80OXsnPcpR0L6KoYTM5V\n",
              "G/e3Ag8ti5y6X85JtQ3vTQedykIbWLFYvv61EBTSEWsGqV7Wd944wWplc2qHglcj5lHTZpBTOdBL\n",
              "gXWeI4420759yxLsbjaRR5gkSeZAjyD/aLddPJPj7VyAaIr7+0WffP/GwbcVeFM4rhsTvn+xBRk3\n",
              "JBsBAt8AOfm3YFNwZHCvCKVJOOqAuD/kaFHZEVpFpyXqh25SMxrKi6xwpkefmgSX60COCszwtQ2k\n",
              "LlH2vcX4OkB62por125pa19p6nNonKiuoedyBirMq44IccGLNGzd2cUDt+M8Kb6h7REL2/ugwV83\n",
              "khaVWwdYwuXx8IRMvUFk3bDwEMTsjTX2jnt9jJ5iaRgS6qbnpUtKRp9seB7HepQoQbsfTnJEhApA\n",
              "EfA2jMEsb7AZveeCFWahbRRvphhGlIAeGUWckr54aYp7+SmV63FoSw8FHwCxpZN5Qw/yHZRrrrz/\n",
              "QQAcArh3k4q0G/TYnKET7i/DUQKJTkSD3DXEkLNxRe7MvO0wWgoT1Uhyakr2ypYfV7Kps5LR44T5\n",
              "vUPuXvUj1DrlgZPRmBV8HJZ/eGUPWijXyvMMR2HIJFV1/IzHsNLCy623hIOPBV987MviO5WrZChx\n",
              "vWGgicZnbGMm/vhmf/j3xRO86QHOAGQ+wQ+a4BI2jdkoyipkj/BZX4T7NDwuu3him1ttZRg9/64r\n",
              "Ajo5qmKz4teKdh8cg+HLP+Q2/ZE799LpAkpk8OGaCRzdfK63CFY4Kltg4FFjp7Y/dbIPeJgG7Mbi\n",
              "xaM1GTTIw8SB4LLlWNxEWngHMHQcUrZrB6h/O+kkFceZERYiKvrcK50WFipaUfhlUeMY/bkxRsI0\n",
              "5ablVKUH4Jx4IQsZwxSBvTTB/n0ECA94EYESzopEre2pyu5qjlwSClX4BBkOMigrYK+bQ/CQmQfG\n",
              "6BTC/yMKEg/oLaHZI82LmICXs5yrbSWkceoiTWpIffugg64h57Zr1sGMN+PfAPgl04K/Ar6qL6Fx\n",
              "pvNDdVYVOlVfU0j1hdxxltyKZJbcL4yinEfir4d0dGmijh5P9DQlvX7cumygkN8jRP0n/0ylzrhi\n",
              "tC5s2mEwiNQ6OK54h0aLGPbVQouUU8m+L6dpsb0tedeAhtTF6iWz2BificE/3jXnznCuSuRFnmIq\n",
              "nh2axWhuaQybMHHHC5Cv8BCTo0nxhnPpDt910C1X6ulDYmnFYOKRjy/TO32SwYHG0OkAxNK9KzOb\n",
              "vzSkc4D9f10RT4teVstMwcipvwGpddrRI5Uzo2QK+FScjK6PJXyvRc0bYrzbHUTSUOADgOueyVie\n",
              "13sLhRnZk7YofXnMSYmYmwEYX3BE15ygyOEqs/Kbk6MUsfSfEKEJ2MMnR9VlTSgxC0aC5t8sX6SC\n",
              "T62eOQYK1EdV7d3mIXd+8ELW8o7pc+QR7IDnwNrtaMYY+gC+wFxC4R444FcOBVExi2+G0z1g2fYj\n",
              "U/d2u90P17EPHsqsyof2hXirt+ff4kths9EXSQ7mI43OdFZYWYyhF5qM9STfxLb6MyzUN1OvvERo\n",
              "ad6bIHZY59I1+7dDCA+HLvahw1Vb+4COFRe+vPXbuSIXpgH5gaQzPNhNzuI5Y/g6Lz6q2UtsD3mg\n",
              "Si/R2zpLeRY6xKruRsRiHYoupiZJZADCHaLZI7GjZ8siasx7RKGVCwQa89RHn3mFs9SDq3119984\n",
              "EPdFGtnT1hxxoabqXEgmg6Ws9kQPZhpGJQCGblcfvIuauRyawIt5B3nYzufp7b0EFFlf583C3FiS\n",
              "UwIxzrUTSUB7L1BXGOorNbeg5l5v09JEA28yI+3S34unRjPXwt4Qr2XEgoubElpQ/6IsJThz9Rjz\n",
              "79IVaZzfQALoF6qsLVlkw7KbjgF05U/PMN6/x+JFQkHzZMJ1IYVP7n2bWRqVZwTvyZ3UoKu/WXEa\n",
              "7QJuPNV4N6iJCCGQe86wgOiC0Nskvk89YMuvWLXWY1EFgnGA3XbDtbV5rTwtF4h4/1X86TJs9E0/\n",
              "djhkzX+uPlsNNAKglOe7w6JS20xb6ERc+m9DE8dG+/HpenPbKlCEp/Z2OayEH3qcZu2gp6+e5BG7\n",
              "v4uzHAFOaEKkyIhNdtZr5N2KQvNJ+D2MzU+W6G3ZXC2kYVHIIwjNCXi64KtUmxM4MWPHCyBrTmTj\n",
              "3Gh/aNDw0e7FtamOZWI9Je1FlHPehSdIf4QdC3r9WoHdQmP8AWC/tXjPHFCOI00Jypzp3pHou1E2\n",
              "1nxbD0zMuc3Beree5CjgxoYsEgoRBSlstxBDrLhYdtSgCd3r+BYBCPDoMsMOEAXNumLezGJ84S1/\n",
              "HY74vdPWNDqwec+sUpuNxuY+SHa4wR/aDQK+pWJ2HwReK7AbrCiRB81Gn/bgF9orA52ogZz2g2XN\n",
              "GJLkdg5snNkplcRA3RvAw/zpudfijUw4DFGm9th0WTbOSAfgWV2iiiNpz9IxSYYbJWEogjBTdiDc\n",
              "NAOAuHRG8lLt0sFZKmETK+jQ7V6tut1tU2/yd+WRkdvzdfkB3hvy2BEAqYe6OkAIPoxH+8DxCeOz\n",
              "UIAPDcyfO6eD3NtBILNpANm0Sl3mRi0kHjO/wdGHa+5M9/na5axv72iYzs+uYGdRhLjL/Y9Xg+0O\n",
              "Ez1HwbcScTAXtBotw/nP014qNabTJds4qH48Q/aOFUjBL3YyRhXI8SSAgOcdTOPVh6iLSPdkmiAS\n",
              "0wEOOhOBBENMuKxx7AxqhEAUdAFHDHHFgFDXLHyR3Xml1rVmEtxJnX9EVxSouYdM1gdopLua2p5O\n",
              "gFUxQkmSdlK4zxeXRqlcgWmUPW5bWVvLPDEX0LZVOR4PpLQSj6dxMEY+6/ua4/QpME6x1kBC+Vpc\n",
              "mCKa0K0jtMin75hNxD7HtqKnhWIbRqNA2gLzUxQSSwvYkz06v7cu6RDQzUSX4aF9zVpB/7YvpSy3\n",
              "XU9oXsGF0hDOn7IrWnN4QC65BJvaY0YyUEXVqJzhBTPu/b7ncQXKmoF5WN372Vk/nmFkWu8RxEgh\n",
              "ki8ivQtLlydAPsHEhK+BIg69HloIwt1g4GevZw2B0AVc3DTTW5mTuIJJff73lDuSyOMJCYlFwOZa\n",
              "rKyKqOXuF/XmQZ4puMyC9/E7vGmNHXuZdQ2mc9ka1O9f3VMOEpAUnlB2AE1aXom+Gw9C4mOtVqUc\n",
              "j2Gsjw+77CkHsw5zEd0zAZQVXagkhU+MV72YXVh8fAuqkICbg3zz70G21oRaMOdY2z5AMvQm1nPX\n",
              "4W9Z4VBSiYvaUJYHBG6MoSYaDcJbSk8CTF+YtE8ID/S7yn9DJlfAooy2prYgLl8srAAE6CI7Tod6\n",
              "gUJyQHoJV8E0H5toEt7e7GDygr85iXV84gcbVQPJjsSsAasGgZYazy3IKAA0RmcxcrSyRjPvmF9A\n",
              "2pMKYk/aRhyKWwKO+ubbLjY+W6TiI/EUKp8NaNnstSi3peAfAri3lFCLeAY5NWsSDxRtOp88AAOA\n",
              "A1/7MYj17vf7L5oWGAPts61nTQl1W+P8Mdcf6uJsQ6lBR3JOP5b+2zJBdXOeNROSLiJxc6E0eB83\n",
              "hGu899MwVS2wvC/MONCWZ/DICM7wgkRdiC2FhzK8ExZut8CCYj1zNCiB/D5OLbPpVj09MRsEJio9\n",
              "DNKc6dXiuHP00sckPfuNOOYHb3riO5dbh8+ygNXFt2oOoVJwfjgZAa54hbCEvUwEQTfEY3IH5Jc6\n",
              "dv+Gp2bTRJ4voFptN9Ocvxe+UbMPVoa/XSy9dh/37LxUyYhVv3SVcN6wJ9kurpG+U5aBvByzk2K2\n",
              "aYO2HJIFdUB7PeIHH5x9bSyKuPMpuYJiZC1I2dC6SK7YSDyQBI6udwNbk7Jj8hEidHrLSmnl+Ai5\n",
              "sY7uWUsTyjCafmAqt9ZYxXNCslTMw5xgwGAyB0vpYb8uCr4ArW9p1P6dQrHVpZTLhh8KqVKEEieL\n",
              "7Ew6ep4m4cUJqiled1y6dujWM4L6Q154euMCZiYCzn+PPBQvXTVI97PJFXzpND7p6969KgzlvX4c\n",
              "RClRS4iEcckyi2NmekZ+FAr0IZdreNYxISibAPF/LGt4mNosZQugF6iUL4R6AskAob2c5pr/OG3t\n",
              "vWQkXeOFKxLh1EbZ/NTxxbo2KmhpsmWtHO4nn6pUL3sS8EEv5i6s4PFXl7G+jPulJhqzUCrDD+Es\n",
              "cV3Wz9e1Dja+/+l0qPKv5SOsYd936tvXClugqnKuZLzfVL/ewfuWGmpGZSrQ+qkPQ+3tLm811hye\n",
              "i4bopenqbj0GT8noh/RrJUEyt/zGy8UcGywxn7NdPtDA/LitE1/wDzzAI44IGdf/6vDdwk9G0z7Z\n",
              "hcGcI10QoTrPUOZbEcIg6/eCHKslRV49X+llbk0sQxepegCL3BMJ/vhCX9f0Wvrib8dUwkI750Na\n",
              "KmaadkZGIP675yCFfxrKs90rkw/TE5fge60N3tggwJe2D0VfAWMZ8HIwjXyvvwl2YNRWm4yEaCFP\n",
              "/VphH81dzZZpDeE48RBwb89PMYsSkBA3OXmKTNdXt42e2g+91lS0HoDdUjcQhNjev90FDEdZdaOw\n",
              "5++X0bDTTkpEAfkMRmzWlB5QWfhxZhVMNdC1DEWqxVeUA6hP1rtHTru8x+bDPEpiesGCRjlK9Has\n",
              "f5rSFXr6vhLhCNS0EblPHIrgU3nPHoQQalB8amBSL+m6995vNKo7dP127jyXEpRt9zLw6U0D37+W\n",
              "Br+7LFZ0uU/vvsGl9vootfTjCdRn8IjL2Sw2lo325nDU4tu58EA1m8hsLnS9ZLfh1BmLSQpwrTax\n",
              "1defN7t8YqNNM0IheA9Ug+Uhy00MqC+oCMaXgqKJKI1AK4p+YwzgTQQ7VSS/vOlNl4LW11o6/hkH\n",
              "fRFAyHcW6WTRGNXJXzHUlPsmLEv0l2BF7x4ZoYI90hmVeBBcHEa2rU1MfuKP4/zeFKO6IH5ZFaTB\n",
              "l17Vl7OyUJfIufTzAJxaf6bp/9+O1+fEH/8T/sZe0VvBDJJZLoU0xaPvI7VhVFpEuxm+Nd9SOu/N\n",
              "5joeKXcTIt2i/DXjO4eE68H7nR0c9FAabHt0w5SMa53+KgPRGY2N9rAAo+46dtoCSf1foLDZPvk2\n",
              "DI17lRGDKiEPOMdKF620OTU/EEd3vAK+yWzZpztd2w/3x5IWDCreEyeAMgE6gKxxG3cLuY/ADD6l\n",
              "d2xH5hWsRz3a1Mo8JOMYx0YZIcM/nXjnr2nSTHJcxP4s4hVlUlefzGNx/k87b6nO65DU2jQ40bTr\n",
              "XoEZmMR9TgmJqU2HLxKG+uULvGV8ky5HnQTRSeq9MVRHBlzJ+0+egxPxLWAaLMS4Awx7P3ViHY3W\n",
              "RkBhBrNxmKB+MgxjFp/rsjBJeFbIrupK/ZLt9QkhXCGmHKT+n1oFd/JVM3xIjcElOiB009dtO9bx\n",
              "n9vm6jn4w8Sq9T6srLQhF88PjPP+sVJicWUCv4K2VrFKYPJQ/DhM0sbeYfra0Et18ayprdcqJHO6\n",
              "j+OybqjihVRV679X3wKCyAe4TjZpPqjuc/AExmyiCZW+IWomtJJ/gb7rqi7Qz3BrmBf2dg6w0HvA\n",
              "3I1rygM3tCyR2oEidxyPAsClTnFnT4Jyt7kZoj0ZxDbTYgEwOri14EVntKaL+Icz3H7nNP14QWHV\n",
              "2Utp5Lo42kXG/R42uqnagmtVO15kuq0FojiMtlFp5CRBndbOHQlht+7uMxXcvDebEkqekJajqAw9\n",
              "HG6L30ANItO4sSv3QrQQyWvTIWy0Z2Jf4bUOTnNUh920J8LSX3UUxCx/pXkB+66t9trFHDakHMMm\n",
              "Bkvr/UI1Vw2q00Gzw1h3kwzgRo1W/ZsipfKklKhdUB/bdof3U6Q6ITUOZIo54PtqYpHfunQEMSbN\n",
              "0ehoe9ki0KG9orwDs3L/1HcYyJvPRwDG8Tn8morRVKiPhINQb/cYjY9vneRXMiLFShkgvW2euk2X\n",
              "ZHKXoabFa9B1xaRy6sepWJEg4/vMcfFEnuJrB9rOAA0xmAOQNqR8NClB0BiaAbPW4vjja+1UJFBZ\n",
              "ZkpIGAmBxb/dRKMW/BjdO9u61YTz0Dm82lAqiHbG5aQGEvru25rmJehwgP8HNV+v3GWOR3umo5pv\n",
              "rXAOfnU40U+03muTvuWWAokW3CUc8EWwf12yeF43zUVidUnNKGG2cm6svSMU1I0ZDHunjhACOmVi\n",
              "nNtWGezLVtBc01pRABWzfWwnKxezMbdgwomiE2RNIYvtLjhBW47OTEy93WvWG478A6V6SbrmE2cG\n",
              "2RYNNeZD1hpwV7EzEFSSCOocPpdmOvBO4Q0BHTx8ZFeUYCRM4Y+Tck/YVevl1qXgLqagPGF9F0FK\n",
              "Q4McPUD5BVolN46fTy16eTDbfvX1R3BKJRIiI1INSLNuRIK9kC5djjVx4D++pnseQ1xPdr8nwH4g\n",
              "85s+9ohD7TW5LUoFmNrLlsiYnDVdExQ9IUGZd3TE3wNnnfTO1HeXj0joj4Gxqi4gXSqVD8ucHC14\n",
              "8d/OCVG3F8tr5DdGB4dcWQGkAh8ebivyuf1q+/jXhgLqeB309qgbJq/39zPWlK6iclKGLlQHF6GJ\n",
              "9fgNfOASiFYJcOoKZXKNwbqtwkUZxK6Lc2Ur3dvklEsCUpAMOC8aylnt1VRJnzRF8U+kZnr436H+\n",
              "W1jVJjbqcEoaGOT0Ol62THtRTQRhmwqO9gZQyhAaeIM2UZxX6ajBmJi6147uhnPbvRCTb899BPX9\n",
              "o35lF3S7qeCZOKHa52HNDacHVWgSXB7ZsW5ks7/nI3Vz4GBtpcJf/tdmBAFzZnfRzEt+QFnJqlH6\n",
              "winkAp9yhb2o46vkz1QEMXs7iClJfqsH1emmtRxnjeiakrWuPD0qLWyix1+KU9Znjt1bQ1tjGB6f\n",
              "ApGu3yOvU6jPiTYIRJToOP3ds2MadUr9a15fTXIm+LsSaRUFPsVIIV70wtWAXm9ZuXaRD2fyfpCs\n",
              "64Z4AZc3xFx/mCm9WuVyjOLS2+GXCjdOWoLiYH+ji9C8lZHXATIsPWmPOrgyOkjsglZGoyuf2qtZ\n",
              "/A1ZppCkodq65ZRhjs98WV+SKyORDtQ5uQOQCdR8l5UbGDMp4+Gw3++BHXMPY8DkP/0tfEvp+VAI\n",
              "WxoIipqlq7Ss7VXXFKrmwNMBUZaTnP1Dh2ZoDik+39fHq470pZ/LVy0N7tBfm9mBzFHtITscuj/J\n",
              "c59U1dH+IpPU71ACTKQqxunjrI4cc5E2W6v651DjVY0Bylm8K3I1coyJTFZZy+9vlj6Vl/04sS7z\n",
              "uP03/a0/HhSmpUQz8hyTRHFIn7DvJ52IDZP57kiey3zArFNwLooc5Siikv3+rfgJ3o0WJK/cF34k\n",
              "wC7vIOrac07L+2eeaapsL4fSp9voiNtyX5jkcmlAnOYqVB7nRzTaMeMsKytjPHCOTlDymhRWgZGt\n",
              "AW3Jv8zMtItZnOqqgNJEyoxRhCbBFsSl7Gna+Wkk6A1YHTFF5ovjkl/8NMo+mACSfP+8ChVZKMCE\n",
              "AqMkhV+wbPo4gJYuTSKGtNYrXvx/XLPyUB160y7BO+RmPC0xQ62eUVz8srqGRa/WobWWbvBaX6RJ\n",
              "5qkcgGbEs7IIIBjJmvyKF1VLvpFUo2aUiJfk7PGbxoUdhezv2E3q9+EFG3/DnJGDJCaw4v3tAo0i\n",
              "xa2WuXw6JlmEa9YrkPrdeyd3J+dcOABgm6enp+Wu/yeCPWnsnH1wvFqi6X66hg3A6BJyoPZiTaYT\n",
              "Vznt9pWqI8QlaRm0DeYkkbP8EVBvAi2VhF3Zu8OFOdfS2Q1HzIeVlFc96ognqAa9gpjKNBkSeUUn\n",
              "kSOMxH3rzK0I6dnILnyGEyzV1+VXiX36GptNEU2rkNOYq5U4NPkmqVCdPKARql+DvwJKFyZk1rcy\n",
              "/57IQLR/2UbwMvqvuEKJhYkh3njPLd/m3EamaSFF3VquQL8ybxq3NvNC5Bh+3TGU8HCW75SgYdXo\n",
              "RQFJEEJu0HOLwUXHeV0zbS+pNsyy4oWPP8ocSNQoXcdkdcXF1gco1JWEETvTX8JFgKwIi/m3QvBk\n",
              "UnvYina/HpJB/QcECGwU8QB9uxNaqRBkeP9jKEuApH/UB/CPJGYRkFZMJE1Gb0ZQE1tBXeiD+7qp\n",
              "q9+RUxDLZPInUaVov/bZYuePAwWabrIDHi9rCdnD1uqk4sFcVig+lDWAyH15/ah9+VGDbUs5fGF+\n",
              "Q4P8eM51IJuj4oYQtYrbuOq+czEyj/7q2kH/G9RtuB72WsvpApkRVTLFOy02vloVJcocIQs6+8Xj\n",
              "mTyVtSXIfBL7/6DHQJlwYhInYuo/HtVA6XkQflpbO6x+atXoi+XSjaZMmiVbEk2WRcx+WGHHzMK/\n",
              "qKTen8JRQiaKUJUGBTC3sLXSsBKcYB4s3P7A5JUzXyBo4dJZFKldPsFWOXS3cv53Y/DtM9gAo0ga\n",
              "LZ33vxjz3oNMJNdbhlUiUecaSqb1rW88mXq0octQJ3EjShjBicHvaq88SY0PpG3ZI8GDVhAT4KbF\n",
              "73/Obh+jEvpY7jTJ4PRR3nAsAhSTT6NPMLA7SARoTC+6OJU7vg8tTR82X1Jdvb5su2Souhfl7vef\n",
              "Cnt/Jnx91PP8snTF1B/017Bsb/lDDG42ufyBKPu+YB/SnQD0BAoag8LKvmws2UUzrTjPd3qfK1G9\n",
              "QiV6kZEl5zXwj/5px0L76X/RfRMq4EZOBjynQ/9feDUKC9A9looRD8YPqNyxTOuDdCBk9MoYmR1P\n",
              "UmAdqc5y04g6Zq1u3LOThYTfkXT2ROhmMfKKYONjQ7Y/JrjdaGyRdQt/URkNDppUJ2wgU7GVdeYr\n",
              "wNcNDfWlFs+PjmU+R5NxDh/Knpd61uaqwEja8bcxMF1KZqHDJcMh2wFfHCk6SnFlH+e45jcPFRzj\n",
              "eFVNBaIT/yeqfUo+agdfIZh2QyJtltLm8XjxvXerTHbxCkmdJqJCb5VZ+wcMwvHPUQgQ8oCSPJ7n\n",
              "G+WDNsiV4kIR8cXpcPvxnCWCA3C3bQxyACBF9NmQm1Y7dvQ2fZL9Gj+MHl0rYgRimTbdh+grWPlK\n",
              "Iag2CbP+exSliZcj9xniQzyMW2emqerj3KTxwhngHop4rCbEE0cuqQ1M3QiltEqzDMnMEug7A3u0\n",
              "PuT7NHRs4Nph7eoODrUafZByBRoTjv5gpv4oU5P7LFB2nYNH1HyHa2oniKPfGrrq1pzpZosroUNy\n",
              "37mHahFhuuNhe+EbT/3uhLYC47v+HCQwgPiPN0C3SzC9VDXRhT0QF0vagJP0abXYJ3aNnExIQ2VZ\n",
              "hqPOLy0WcOVI2qDXqUnfhkNxwfOCawOBi8ftWXktq28Y7GmdUI9Poenbx9YDPdMsVQciNy5zp6j8\n",
              "f1Fqk0N2TH9auGAQFxnW/0zzFasAUdX3ecIAvRm1+b4kGbYht4eNnAQcN8hwq5GAQSSWhr5z0UTL\n",
              "NQBFeLiyBkAwFR8ekPLGOtWtC+2GQmW28YB8TR7k1Bk8EmtuNGiz/KECQpKrj9kJvIn2y+7nNL+A\n",
              "EbsTH0PdzKZ0d0ravKYom9LyRAzgvUje3OSHsjBHXYzPsUJe7UIDkrMqbH0RdoIw8u72IyCt00Yc\n",
              "Joxxi3/F2LMPVzWd1PxURjPKq3mbl/6b/KwclNH8IfmVIzdYoj3q33udlZFNiI8yayH5jsXjf8HY\n",
              "W8MYEG3qZsAaEMFvhpX+Y4V1LoW9u6EYO4JlML5uRyqMzz7GQsN4fdpTnM5mniN2dHvxPc7VMANE\n",
              "mHPH335/4CN3XFjKtg2IGARYMaiQ9CMlBW4GAyZS/CwyASvJEf3+YG7SqwCdE2CVNL27DFDbAG8n\n",
              "RK0nN0Ib1dEkf3qOYN5CHD+LNI6fGHZlMH9cZpb3qd1fRY2RTIzYef0x8+R1hiuv/kTyw6rPWmBW\n",
              "nsJzpnaesgvyEHBYSZ/wr+4P63XQN6/64P0kY1UMsD/RiXzoV8J8sUR9BWX+SK+huvO49w9F6TBy\n",
              "5zeCnjci2bwBwqbIgswj57RoihC4HPVQcm08OEBr8fBwXRtj5Tjbm2rvBuU8uKLOrtx2hT6UOSeJ\n",
              "dQzlf/w2fQrjARlPZXGjA6+oGzC9sUQW//sp14Rm4n7gRgqaK1mGkIOiPkhnE9ugLCNiGA6b2+V0\n",
              "Nd16FUV4aBkvqxzeyqcwXPy4NIqFKlnMO1o9KIKDDAZfICTC+npiS73hayTBEbUFi/F+cTTrU8dZ\n",
              "aKM2cJI3gSZiy0/btunJlOyC7WFyCM0phMg0ZlPaX3KrVwSfNdoCBUwIazHLexYu3Q+7mjGx1dV0\n",
              "KZdHkfG1aQuO8VyW3wrLu4KlkcdLW+30Fsi4JI7UrsY8Gh6EWJw/dxA12SrLSOJwgrTWeSsVOq+u\n",
              "IZ9Z5X49eD0FvGFbHMm765kIHhEJTRw+7wT0FQri+FdD24Hn5gEN0fLiCPnJrJ1czN1CmnHvQA+x\n",
              "MAnf4hIiZHLgzpWXngWMAGDyMOSyQZahqeZIP3mrZ0vOaIy5EBtMH1dEQa0xieC5OcF9MoGcrpbv\n",
              "MdEOF/wEklVqjGt6iKCzcyzmvBbJB7Ux6jU4bNHVtSjl+77ZAurWfwpMI6AwJoj5h274mOz2c0na\n",
              "c/bibnHUeWRtTojeikkrWckXZ0HDrd4ZUezLZuXCI7BSHWHXrZpKXtOjg6GXimN3UccObyJERBb1\n",
              "I9PobCrkVY+zKd3AA3T2FOhOypSkjpJjInorqMFzz2Gx2sO+lZ628fZ9ObZNtjxHjUul33NRlaYC\n",
              "ujXqGhQqTWCkUrrprhFQktij9Bg+GRonKINGtDYNkY/4Qhl1SaxvrLPb2/I6vmgH357r1WyJfO+0\n",
              "nVIJR9hb5qvEPfQshUQ1CSIG8qHiD8meLPq1y6v2AG38pW3GPdB8nEFEHVi3F7jQFgTw68X73CwP\n",
              "/8+37FTNoLh7NA16hIuPgnnF5zxJnH4wDkPllSxmd2IStbrTGKFHqf0PxlViKwURsboWR582Uj/C\n",
              "dWgxM7qi/nYGH6Bmz/0FGcO9IQR/oAIwTPXd5KEnti7mltL0/hV60hTNj8e6MU87SFk8IcXeirkI\n",
              "Qdoec1kZWTfWbA8qkNDmVmFgSMjSHHwZyCh1d2RPIlvQO2hhF50zA8722WSyGpO25NxneZLosQoX\n",
              "9nBNtRwHiv6OAKbpk/fGMdvuTDAgU05Ne57nNQ6mLC8crCXAn+RDjz1UZpGmz4h1gDEKfwJEIHBs\n",
              "njbEcEco9QtQ+gmFrJFYiwr+HHrGTqwS/M0UBNBBPBD3tM+Wjb42PN7oVLc7RfQZ4WGl13kiijCs\n",
              "WWfT9kcQbs1Odf0AMH03qN/q5t4jCscH8Ke0keCMbJtdbrXEMXmcNnqk/27Bbm0FoNrrH+7kPuvg\n",
              "ZT26cV3/1us+fQlBkPVh17EwHYJHL5gysNdSYaNpXx76r6M/5CmVU+oIGETPDDvur5Sf2KyUey5e\n",
              "XqI+7HquzYM07yQSK4FwIk2zAKjUC9gg6VU7tr3lLoQIZ2A0zfvNNKlSb1sC9NwXd3BxCF0y/6DV\n",
              "qdnIFbfk1dHjYLwlmhX3ZcsjJjxCUTTV5/KNmT8oYRr8Kgb8PC4xi/EWXANK0Z4vOi67TKa9dnUT\n",
              "OhueMdOM881SvT3aLJIOiACC5JzUBAljO1YLD9paQA61HJrJVi+QLs4njPpyXQ2lEf16ieNmlALu\n",
              "3koFJczNGehqc7lMxYKvXSyRy7eCsUxuaM+bMW+kWWDofAEQEKryPiz8ZRO+WZX1eMu0yn5dj3sB\n",
              "OBNgfFy8gu6IbPhjfL+tuU05qeote5CkW21Ia3LY9o8mJfnAdofOR0DQVIcz/0GOVwZ6+tAea5Wv\n",
              "R3MiyyL50GpbM+hNy9OcGgUA8a7cB8N611U+GcebxQSgPu+hSnr/fAKZxI6NFIBA3bp6PwSH8a3U\n",
              "Dh3mewBD6qNIc2F+w/wUCRLZt443j2ti5t0C9bcyZhT1Idpxz9IQZgczUBcPGht5176b9UuRCUKN\n",
              "bQnQ3cSMB3R5HbEHDr7RjcQ8S7N1TzvZtTQNyPGZyp3dhJvDFxmZFb3dpXMIF4aIFSjOwjB8RMLJ\n",
              "h35tce+SXHzt8TuTdnKRhAfHIEMFdOEXciPFN3kLQkwkOYi0WIAMHbtjEPGMkBIaj4LEQ4mDaOia\n",
              "kw2auOW0MOypGLREUkvlivrhT6bkPPhb3m8LgZqUGaGHqAx6wnnQy1e9p5xnSLJERgpQMxceBfSi\n",
              "0+NjHyw/lhtBTLiC81Iq048+OOEEfssEapwOBhsqxgDuYtwpqlnClVJGNbOGOafn+BphabGMDfd2\n",
              "B8vvGdB2JxoGsIQ6yO16pPV///6VxnQLGwtM4/shE99I3hFltU55SXLrz+Pw7gXdOgiBLplRbOKj\n",
              "QXcwm+E0E7P1J1EN9uGTmpFH+Mn2MSksemNAwTHDy7LK/h6np2dShKUzX5Fc9GeCpM3brKMZ/sUz\n",
              "wCBj0lExgyN9ZYn2vgO6V82FW3x+qFJIlewz3tpP/G5EmRdgvdF8qsM+kp1pd5m/AOpuP+iKOew0\n",
              "giQQP7OPTDFNhAJp62MpW7I5GL0bhJvEQrVsr3fT7ou44dcoZHfNDnYAVjIC5qmupcIlVpyn+l79\n",
              "b8OrXxDMBCt43iMnVr+Ep/MKZWKhqwlCnG4DrMjbNhexCw+rpOiF9qezsaYGLWfqgSxxeEaCWmJi\n",
              "XOSzigf2WX2EKUGXproSQCZqIhkVE2COzme/gg2UBEjEDLGa2GUT4gh28ELVDGcn344hZYO/u2jF\n",
              "kpPGRKjALscKWXJqEA8lkiyjLA42Jt7nFvCZkzloIg5eoVSd/nVjz75RiUmOFTWpsYoYIRbhZSIi\n",
              "kIQX2qseC7G0RLbg6l9FnMMHVqoeUUUh1nUP/ggfVDoe0f9ZYA7iGDXmHzC+Um2BwADxYmmCQWdq\n",
              "hAp0RfKvUgxffVFEhBgFiY6DRVkE3hMMAuQxa55ZdxLm97p0wKxuYKh0Mx4bQRv/60gp1CKLjv9O\n",
              "uqUj8fX6LSU7ATtssl1kIKE92JK8pBOYSaHzymM96K/5KPL7btQH70JgeZlZWB/myj4dUBwRIvaZ\n",
              "fFr1UtbluYAe2ogGynFmd+efX30TCui/veYfZIjHEan3m74L/ZaNL9NhqvhrXg5qRJu2Fp85ZOY3\n",
              "5IP8l56g6eeKHkZu9Ke5Gr1A3JG5u1Jy4B8FkblQD3umOnrzYVOnIEeW52AsJcBUB3a4UqMBWhMl\n",
              "mPa+PGWqMWd4E+wU1SXj7cAU3AuwElIE3kdKvDu0pSDbUHigRGJMf+fnZe073bb8cg0zjehyZfOZ\n",
              "e0BM3sokS5hivF7eDiXWEqaLxZnCZtk5wagAygPqLFDrb0zx2GcC+wZpfrbrI10K2g/v+sATU5W0\n",
              "cpS9UbibPyNELBIuhNwcEWApqBUBVbbbsTPmt3XQQqsxd6YbK9KYb4HvpBsoqlBiPnuhAiwgfonY\n",
              "YkUER6VyFKZwma7x27C30kp1dY2uli+VqcGYMp6RD4UkGRYjZ/2qYxmjzBvWePeL1rGB8BKjHWGJ\n",
              "calZzLVl0IE1IhUk7XlBYQvfNVOxxKOKXBywl6uth9TZGqw/OYQfHJQvgTmApDYwSBBwWVpzqois\n",
              "2QkteTlvO5dAn+chb3j7AZ7tAliP8OcOnKgfCV31zVQ+ksAUWuDIitGxpI8mQaE52cdeFT5wf/0n\n",
              "7SPXRj50XnFM26OtzdiM3bdLwWdNnfFVKtRLexnS3xYFROS+029S8hasVATd0RWBy8TFsKhGt95G\n",
              "asV8qfEqfY5gffarIcrqayz0VybsTee+emy84+ghSFUF3D7fyDBg5losC9JkBlSMGYovGmKbbK+X\n",
              "6A488FKjMWcn3pRlaWtaAACi91m16I0aACpsun01JraB3YMS9NUoYotobclu/Cy8J2w3eBWbm2mt\n",
              "qvkiNyyeQVU/cx79GuicefSkb4j5ZDIrSZCklEs/p7qU0K9BNIW+0D36NGwIWIzT89YZwM04FVIp\n",
              "qJlabCBTjs6jbhZyvpwBJA1gpzv8VSZekSUf3p02ksLG8oDQQRjUqKhTwqXRapPTax+tB+tdP3Kk\n",
              "kCjfht/pLVIimHurglENRSTXq+IRE+2Ne5BmCkhrKC0nmrzgKnTe3fpEIccRLcRvTdsWCtqBBBSb\n",
              "KL2bp5RHwWvaye6pLsHmOFA74JpbyD91I1TYx1ZFAotk/3IHkdD/GyIikgIp2DLqzuxmOlVb/Xxu\n",
              "JFwg2FK9mlO7h622ya6WBhxsoY4v3YuqQ8H4PTLcrBUIwxygnwpp09BTewsT8cNOOkakW5Rtou5i\n",
              "kF5aaC/q2CV/OrfJzM1ZoluDVDwWlyr6rPAl4ShiY7MkSpZE4567mGdgFXmFn0sLpcS30BXBQqh8\n",
              "NamOFWgHgHViBOtlaebVqAaYSqD8rih4on+W5lUKUghF1E/A1S/8Cc3zdP3gSd+MMz8aConQUD1P\n",
              "qnIURkFAQfi2hS9a6LtH9PkHj+DyDUdfmNRXdrJOlZWBZNi38mmrlYD2Z2rpYGCgij+TFTLQDXdB\n",
              "MmdeIFnuwO5M2nhjmOJGIcz+cSmOd4oORsJjR2evW0mMT35KywRPdh9EErsdoq9+AXf/+H9ViOxv\n",
              "Ix/BHvrEZHSEXTckfg17iWQXV6DLoM+qqxC39bfK45jTs2I9Jm0AAAMBOwAACcdBmiRsQX/+2qZY\n",
              "CJdHSkAc0U85qSA8Cl4h8NYyfON//4UfSvQ1a8aGjAub5nj17bb8++qZpg9/oHb+I7OLAjwNoHXR\n",
              "lHoc3NEP11Ov1/nPjiXsADzU0PZm9ViGLM4PTiS9kZJ+nTaRvTGV8P3QHRJoGpqUfKwpIYIvrfU/\n",
              "CPgVcCNBAW9AeV5Qse9sXqgtO7r+D7sUIA7Q2Nk165mmVj4C1BPvXaddM0ZbCm0VpsbCSFzXJYI7\n",
              "QrFoBHEIlNdTFa2VU9O34KzQO2nN1FotQm5nGLyeurkbwYv2XZGBCyxoud7agdYc2TlOaYW0DrAU\n",
              "4GJjPtOOK3OIjkhuXU3sCwXVDuddiF5hQsNaXCzeCKV15987Gve5yOgYMI0JUB46UmGvjUPXmukF\n",
              "cuv0I8YLry1gN5FlzXxLi3/8c/Aj8ZVmyrnZBDuzZwP1n8qwb+LcmJ6ZxCvC7Y+aNaxm6knUwvsN\n",
              "RaRl/SptFvmfNpF4FFIHk5xmQ2xjUrr0Ywwmj7TZIfCTXMJPciapdw2NcBmcyf5ISniX4Cdogtsz\n",
              "ivKtxp9IFsqU0brse2Q2xsHGJKMVvGFcPag4j9Xe9lkGHTMe2dEWv77BrHa6j7jT1dfkNEHcdozg\n",
              "wphFwCD/PisSMKtInrJ+THLhuN7PuUex+Lg9C3viptzFPgzgiOYN+wRl0tPZN1fz7imDCnps8bM1\n",
              "KnH/8hZKfKFEn6rkaWztP3DFKRCcp2SvPsjeNwkGiO5cCeOM2SyFEuay6tE6Z+hcoynun+wscF0g\n",
              "R+kqop2TWYYvRC19ltfW8Uq6fA7MApnsQRCIP2QIgEEENzePO7d7yyPeBa//Ap6DomZtB1AJveRN\n",
              "NgrZy+WpPzag6MlYiLQaJgiHWOzhp39SNbik+AgtdVwgUHztLwpQ8REfCt5D9oIrQXuaz/gaL5zk\n",
              "VktlvuarrL2AYPtGUtWLAoWbbtbfe8bL5+iHUXgVPr0kzwJs23GScKfbC+rbVb+tpqWYQM4KDnCm\n",
              "hksGEwK38NdrZ3doosNoknCP1HH/bucK2sdxeueGXK8F5oamcdUGLtVrokBeaqKqLJaNi9nIQTu+\n",
              "/oQs3HMPzPdeqf5xzicsS+Q25KgQtXAy4zBH0d+H4tW7GJHKhyqVXAahulxmCHvOUzZB/+c4n2w2\n",
              "+3tNhW3RkmYiHly0tTORebKTWEkSwxaIinO2pyrEVW9mExJwv+W9RY6JiIvRzkZlmsfpcgf+1WnC\n",
              "rs0nPyrd89CfsJEOqpWQqXS616JEQshYKLWjF8wU/e8lSg7z9VodRgFsUdgouBQIW6FjrNSL/8fM\n",
              "kOmI9HRgXfYgL3uuQnkuU3NehhxPrSC7/IVerrQfvBLYHmv18MmH/0zbi0ZTb7g5gcCwmKcbBNth\n",
              "lF4LFhS4qeLtYEVgb4CsY7SJbvQclmed7wmxBcpBlssxEdLgVquZUEqD59eJ3Vhi6ftnyn0X3CJk\n",
              "z9DFNxdMC/pGwHRMdO3rLcy+Fo7QxFEwr+cRfoBY69YUE/+gbArPx5a0Lw94x2qKWlHYJxOqw03Y\n",
              "84hDvfEzIrJK9OZcxnsFsKfDfqxyD4DSgkmtIzjqYYHOrBh4M6j9qFpCNrIU64PhPmiI6tN16STC\n",
              "kKsFIk/Q4KMRaWBDWdmog5mEQTiu0o7qxl6f9S7APzc+dEr3PHVRezFSSnZ07whPi0GLQ4A2+DgO\n",
              "45h1t0hk2z9BrpVd6IYoKjgPkurtqSKr69lIFa6YAyQViwcSswq7cdDZfNFFet0yy4lqc02fx6gz\n",
              "rdSmlT+6W3xK7FI0vkVWv3Qg3JMo69FzdZYYCbjtlHm2RW4RnI0uDOJTfNpMc6wiPklM5v9vWRDp\n",
              "3kL+q8Ajt3HJOpNfWJbeGkvXi810L9MaHhfz/l0jqgChkQl59q2Zt+g9Wi75y5o+Dkqr4aLVoK9j\n",
              "+x6gcMNYWAdEIoZSWqzioulj4g9zTrp5sV4X99+rMXK4AAmt8ixcnCKaYxZe8IPfIbK3twIZKy8C\n",
              "cT5OETkTdiFWwJWbDTeSxGuwdRB0RxwmQtcQAqpQ2QoTt/FDY01y6sMyia4gwafNC1yS/9nEQAvs\n",
              "HBmdIDUm0kWCUol9PFtSipNR/f7JL0rvkliqnttEpvLWu/MwIBYqbem+cQBvKVelaGUiiayTm0yL\n",
              "iB+mzz+CIQ4cYj44aZLpa+88wZ2Eac2qxJDSeQ280T6EPYWI8zaSc9F/0N8NP9oo23WjAog3mSb4\n",
              "nqx/5lTaHzLRrQ54A8vTmq9p+h8STncL2SIvrZU0jclGd6ev39BVde/X/fdCvdqpWH5KWCfsb4BD\n",
              "jhea4Fs25eyJIBlfZ4b97yVyzcJ5flgifKEhjnzzPCtTeLDiyNMpREeXxw2Nks88gH50lbgO1oGA\n",
              "Bu36RXAyTkXahc2Q5PQoYGVvLwnzGLbElnhDND7FuxkIW/9BeEQDs4BiaFbzCiGNP1Ob2QXmS1Qc\n",
              "vDRY/Mp/m4wt8QJHcQ0fnsNdbChv7Ji24gzLPolcopWu0EOLyxdAh2Ltv2GnEQEtMkyg4RQC4i9W\n",
              "OYTYCpnp8wKSnYgMSlSHQb9Dm7Mx+XGuaJIyxa+jV4jJsqtIKgkNTxfp3oCsiNe3VNOpzzay/2+a\n",
              "PWdbFVffe1bvnRwRZeWmxwqlDhB9PN9ntrukw7LO9qQKj3Xsl0tKKXe50+sVy82mYM+po1jqfPyN\n",
              "P+lMk+H7hHyMiB5pxrcVwqW4B7u+qW3Ax/tK104rWLeUXDHhKuhOQTy7CaysXCnHYdBLLAQZjZQe\n",
              "0HPMwg/KnrIXKjXYYNyy79ZOxycuZHPisWv91ZmmU54utyEc4ce1dFKraSes/114onZDKWskDYyu\n",
              "jVmdEyqhNWNMuVjRn4zWDGzYac6GadA7uXKlMsiupw6xfsd8++s8eXZOEjvfotct41j8XM2oZ+gM\n",
              "oOQi2uZCPvkcFmyohFsHHnP9LcMMh7q8kYsLUG8zPuH6DNS061kNj3Ie2/i3qY5tZJsYfqsomQwQ\n",
              "yCSc6YZRha7Q1nr1/O9Ef8luAlcPM7FDTjf9ObilDO9ANqwu6tg96Omt/7qxSZl1BAZ6BU/6NE25\n",
              "/7VGnRfaeSVTTIj9yQzC490UN4wHWsb07Q2kvHE9T8iDvvJ8/VhkVCvyJWg6G5mTutFMBkMhNqnI\n",
              "4QHGf9X+QBrffAo8HYOrrym0aayfvEqKtpCuKF3K4iPyxVQCtspdNsi8cPL4hc+qmjk/0yDeeLgH\n",
              "qtTQeHj1myB8EpPHudRMmLFkWcYlWO9FTSk+rppE54+MoUBL3K448TMQl91Lh0MZREnviTUvzS29\n",
              "OgPvAGj0ty3/z/vHRdltTPLfFEEUnIwD1L9El6fDgVNJlcp68idNOm3AAAAETEGeQniCnwAG5oHi\n",
              "6BaAB94V1ldhsVgyLI0PUvkC1hBHwaijtEX0GUKoC3ayUbhJf6gzlZ9mQ8IQC8dWeVg97ItP00QB\n",
              "tGDn6r9kWjGqnlBz5wIEu/CajJCj7Z5ALnr4PCVO/3CEYkUSPY4vF9Ml5ev/u9SN7g8WZqRrCcXU\n",
              "LP2y610/fPs4ru0RUSCUGBRMA9eMm0TW8QWtlf94SLXaYezxXwQhTmJYXX0/fXqr0UUaq7WAkFaO\n",
              "bCOyxC9QZntgDp8kdr6nioxS7shIdrXjgUJsoxEawTN6IdcWsM/hH3Yn15X7EelPaBjV/FZXoEBe\n",
              "5bPDC3miAZOhJ2onPota2E/pHkOLZANi5GeaXMCJDlA6tHXUa+28zneUBVfXtn/XaT6fEumR7ymi\n",
              "JJ4R9q66n9UYItSQHQKZ8rmlhxgDVsZ+4ZudWbGJkUe3EQx4kAvFqxMPoxXAhJucQFvkzP2DAwLa\n",
              "VhJLpRHfKFE2de1jsI7GHi1/BuoY9SXMgIh00kO6Xtv6ZjuLinwwJY9cIKVvw3lk5NdtYEP0YRuw\n",
              "YYu2DIGF0KaH/fs54tiemkV4eIlWflhJY/30rA5vYsMv/FZY5BtvPodTNcCZ9k5Je/Nc5Yv9Nm5Y\n",
              "Hpz0nUTCvsMd+4/gQukj3EikA/U9A4lnGiDk2O6wYcx/N1atWzH5fMOfOc+a8M3gC3AvqLo6MmJs\n",
              "wAkvpHaZiJGOvuupgLHjktzRQFwO+UFhrX1S+eIXVL0pAmrfO/KKs+UrGgcJ8sfjFEEm/cWgbpr9\n",
              "CVNwOgd4FLXholf//gJIH8kIiMghkD7p4zVN9E4IVAsINUCMzChULEXEHrVy4V3Ch14gymdx6mWd\n",
              "ODFuGyXoSNlGGpQA8V8Lvxyyv0veY1XyoeAy27ozsg+sy/rQb8VmYE//SIiDUSQsUdzvkMHRW5PJ\n",
              "c6CERXVsV8B3mFrdcCYjTn5AWNBKupqWOK9Kw4XsqNELgNCAQG9Yot+qk7zwR82V2DnzM4OvbgBB\n",
              "cE6rv8y2jdhIbCQe8igAJ9kuymW/LCht+VstJMPgCQAsDbYiTPELerdVNtW7SYhRHOzKa8jKcxHk\n",
              "ROpDX88NJSVO+kb/hAW2RpUSUN1LhcuOYpNQ0egBu4Sl9yc5Kf3NXVhCO30ppJEYvhLTUG0W7PG5\n",
              "vJBIxXEvRLJAEH1XMtDn+Iq2pFr9UfH2hk7nnMmq1gUFNi2mJPJ6AdhYIpRjpEgUMMT1nHivkCuz\n",
              "Q3qgg/mPnFtwOK3c9zUHgJUcbsJjVbCvo4I74xYmXNjE69ROI5vOnPZdq+y3nIfJBScZs7GD/+x8\n",
              "pkxeSvDdsXsCv/TgHliqFTPprZPIG617i+CJn/ethH8QOV7q8csDXQHMzV1sNelFbAGEmtyxxBN8\n",
              "+WIh+bWFIQGTeu5nYm3w8b87VS2CXUPvP2hcpb4Ft8xiE1V8fN5fEIxepKzdRTL4c7wcI/E8BbuH\n",
              "+ZByOAz5AAAEyQGeYXRBLwASMUkS6AC6t4ZjXxl+ykeSrCdbBv70ecMxaHohsjyjLNRIyYbIn6Pz\n",
              "d2Gps6mCrG1kJo2HvETQSn8b6iQvqfmFeDbJWl78Habp+GeuPdQmg3QjFegFAv/tk9YOhs6KoCjB\n",
              "ZzpxxhPtXeRljn+jeQlgeVgF+2I98RySVv42qWJv/qeE9nuwEO89ro54uMOrOuDWUQY+vVSiMW+e\n",
              "C00y7uHuI2/O8hQZsfp9/qh/In7qiZSInx1rpGtwpZyDJ1w8r17HJJTD7Qe7pUGrLNSVUCKjqJil\n",
              "oTJBfAAzknEZ3LIdi2qcrXrRNqNjJCzgRnS2sfLCLliOnGo8UkQteZnmX0aoMqgJRDhFTy53SwJr\n",
              "kf+9WMPHJsmwZvQ6NXPcHtO/KgytaNJDDjO5ATwJe6A0CEG/GQIXiccYNpuSgtfKLhSframtjaiO\n",
              "uMf+J2YJFau59/W+2T8UeTAgW6kCiG6w07K76r0XTGrwUyc1a7EWUnhL7Dx4EjhvNy6so6vaolGT\n",
              "l/o9GGg/2XhwZonKyKI66GXPPBWAxBM/yUeyfF1hZzAzaQudHtpnrUtPEd/yNhWnQjtC2pNbXcqy\n",
              "hdls/nAr2606BXmkxzYEHtvocY3hS2kbvlClgOf0jom2dpkkRIc9KS/h4L65cYQlo7H+XqyeX/vv\n",
              "J3phu6jrOuVa1pMTQKLNUQ3m7hvs8MH4ZQbtr+BRrUrVwH8BpnCuDH/LOR9MdCoDIXNprh6q/9J+\n",
              "oIzdUVH16GjIWvuPlxpKvVvZmUq0jfv4h//7rKHkWYOVySYDDAuhDB/xsEKCnW8doCS4O+f5CsRa\n",
              "Sv5JYtu8Yj3urjibsO9qaN9KUKo+11olzD+A3G+Ge2I/Ge7OnHh4uRlZzXvlsFNsGIjpg8TY8weA\n",
              "M4/QQUTc797FiJkBUrk6YrIjisAZ1d3iFo7PWthb+FcOLGZ4qJZZIYefjtqJZ6c5aG/eoVvto2NL\n",
              "OPW+5RZ0Te18m/19BxQeoNuWW64LaIhFLQO2ZGHhTARIA9gaKzgABU6rLmncwvUozLcxm/vpYfdr\n",
              "gFDRQ6TWk4HLqQ/W7XNLyH3vJ2eWXppxwtClLaLIBTMi5hJMbAMLh2KQTjBax7ijX6SFjqye45LJ\n",
              "d4pFcv3mrqZ+FMjhD2SJ8WOE9z2BhWzv0e2IVnwHqJawwUpo7h70SQAEJ7f80Cti5A9I7U/LPjRR\n",
              "+MUgdSNfPrA6SXWNVzwW1r7WwReJbWOULRKPNtpcHfEWG+2Z0LNltea/HRRUC3751lajDg1c8ppA\n",
              "ebkzO6xUKEu4/1Wwl1TaFbyX7SrD/2rPPRUrBmSgvpgM2zNPoO+u5vEiIk9zM/rgAGlN0t85fsHr\n",
              "iffnYbMkiaOHEjkEIUZCW8s6xomr7sLByfM/9brR2UmDawXex1ImQgl8G4EUlRcbHkdXR+6HKfl3\n",
              "/WnfqF9ZDak3YWtI8w2oni5kyPDox6ggdZDUjbp4NYnbnc0Dft8TY8WlXGcIDCrY9WegJUPWVaEb\n",
              "6UXSXAQJOnU2X9GfaQGCnXjdHQhbOMmmqmJdmUrdIxIc9R/oo1YW5YbTUHPyMUm5gDpTGS3DQhID\n",
              "E4JpvRTlZAlM6L5UaulqJgQM26CXEO++5tl9cOc+w8N+BDrgOmAAAALqAZ5jakEvABIvGWgUFABd\n",
              "UAfdyK+yWptXIxQ4HIKyFYOayOGEgsrPk0sP/cFtTuoXVgN3YY5WoiryPv6/f3QgHkPLmZoPvOKA\n",
              "oPV5zG02fwcGOHdon4m0IIRinzzbIsphrq0WM/oRF7+ZVJTAiQcdhkbHtA0hwc7snvk3uDcKAhvm\n",
              "jR1f/icOmZ4m2PJ3w+4kF+z68m1SkZOo7IUfbalMwlAKcdTfzEnetSDDkoJW5tdguqEALg5idvGi\n",
              "yN9VQxQgbZ9WxHrEsvfs+cvH65cSnk9TsIP5n/2CGk2ASKpE+Iq1p/0cZyR45FznKf3yZk1zGbY2\n",
              "KMUjcTv954Ki2YNp0MIpnDdk9V9wTLLa/V7P7Q2n/bbnl45k4mAAMbcei08OhjZhOhav/lBBCiUX\n",
              "ariCnfyoo8tDHLlKUUzY57nbOZShDcORLhgQTNBNoDjY94wrMbfxBCJaOX5A3T8eLHEzo08Am3N6\n",
              "1QUHh2sNqqurCL1ZaR2jUDO0s1tvymDwHNWMQUcp28u9pkkni3asF3BLuxR5DCGQ6DJfkyYXvE3p\n",
              "BI6y8mLYuGlCAeDmMmGPt2Cb312hW/RdRFMgEgd1OWOfFCinEkFNCxUOhCgjy9ayiRObA8Odf1FP\n",
              "h/+S7+fxXfkTmW0bQtC74MREyEihr3+oHhcHqXWxvitm1VYRm12+hpyCBhhXlfMv6z5xFKbik/wZ\n",
              "qTjFeAgJcXH/Pd2JzIeVoBvg81E7z61p+gC9O3NJ6C9p5ITTorJjqEDCnxYjnGbYEV6kDDalwo5/\n",
              "f0vQe0NvhP4EZTWqj8VgExfZrIi2jl/9nKs0kAZ7Hq3f4dCkuwyotz4nAx8Cu1tTAZHraepeDkKn\n",
              "xiSE/6bizaiNK8i8VOQC/zhhxtNzklbsHTpuMmz7TyMdG1jVMFYKxdQSRxQh+WU5+FDT8aZB8M5e\n",
              "/RgZnCfJ0XAZrDChuSQs8mC5do0bcG8HfQQPLWRzLOeZvvobDb+uW0UschTgAqcAAAaCQZpoSahB\n",
              "aJlMCC3//talUAfw9qWwABHASgGNAB/1TqONZEW3Zt4FUUxQ4Kj6kq2qBw+CZCxvr2PoG07YtmCK\n",
              "8dfs5N/PeK8JvjPJaBo53p7izBo6zpZuGit8e4c8uV5mlgnRI1AAtp1BEtcKFrnZbCgBhCxrge7M\n",
              "ZGTmNfkDGLElOzLfxU2JMabTajPD1B54YIqzh/JNf6iXq6XC74ist0g3VIAPjwubgyO2MlyuPyNz\n",
              "e9Ks0eEGCdvZOtKnarsWNjtLw+y2DS8m0vUbA0OJUwLvJkZ/Hxfryz9w7Ub1rySL8UcKD/Xmc58E\n",
              "mVmOneK7YaV24Bs1e56EAkqgVA0Uv+mQ6MYwIBmAMh0l5ZWV7PQI+5SYR6jNNiFW/7LyKdTcQfxd\n",
              "/o5x9vDv0O/EipavVP1CwA6NQ1ohdAtQPPpCdOt2wKH5UEAArkdBAAM1A/5YpY4mojlU85KLndwc\n",
              "zg49SGoH+5edOwDAwo5KpUDZ4dJj4BXLYeJPdXKkCx5pBrY7xXoEjZ/JEtrSwHnqeKb2Mb0Hk9fp\n",
              "JxmtNAsiGNWQ27l1nrDoUZN3yTABcWUXJObNlolbAqnxXaaiph/7EHW26PcIsFSrvz65Lvos8L8l\n",
              "xSpiHyx7Bke1olJ0jcdymOi90eRRLBch/5VoraIVFL0iiwJ8usicteDopNOIFpSdxBkut88YZW0B\n",
              "yNwmqd8mErkoAMU01At+g5RPeiEB6NUC3mshZJY49V2e+bjpQCIuyrWnQBbCQx1AwFiJeK4wSZd/\n",
              "RIGTO6gael79I12FNzrZiAFXsYAJProznk1T+wQF4IhnzGBsvjN9Xt0dc/R2SlMT/GzW9iSM4Agi\n",
              "ZyXd4AcjBu2cVWyHPAwdAty6nHT30Yirnstm9OwAITxGj5OdVGZfjU25NsrhnXyuVBEalr3yyd+R\n",
              "uGUT5Jhw/Dr2TkT60tnGISjJB3sU7P63WsvcgU4jpvSAQfphIaUr+xBHOt/EuOx6atFiqXEmxFA6\n",
              "TVoBLehJsP1mEgtzSMWNLFYt1SL9ZnX9S6cQy7J3SBsi6xZWClv948VmO61Pv9TGyIBjafU9fehT\n",
              "ynlRNzUuROSyqMiZnIS2oS8XmLRlxBTLlBJ8YcmQ0GDnKy0D+g1Nofe4h0RCOjtPB7szw74qA5DW\n",
              "zRAfnn4CcTLnzP0fWp+Gbp5pNJ0HKVq9mPyDbEAAt18XyUwoLP1dTnZYHciaSwc+0cKX+oB1ijSd\n",
              "i8J8eJJylewPVDR+G+UX56iEUWgljKiWFclj4KOu0xSm8sY86dvBe4LYtMEynwHJinx+yXlVkc61\n",
              "cvRDHhlP1uMGTr8L56MzqQNxV4T+/MTiqd+VEBbpoqT/UcOR/1uKOhjLHXjBs2oUXB6OPrAfWodC\n",
              "iH5NevkGTxj5QBFV8VERxDRZBPIN4KO8IYxRwIQOvi5XpANliJ1t6Fyx9NklN138hcI4UZTQ0WCY\n",
              "w29wHiJsXdymi3jWPLqxgh4HqexzJMdMdUoviwVy3c6vEBtGyzgC0hpmwyIp41XFyJgoKUh816fq\n",
              "cYTXdzX2gM9VQy+Vp+CYm0GoQUJRkoDq/B/uDFV9L52fiSIibfBCpGgdVsj/4ZrNinHUPPJxwxq9\n",
              "sYPIqHzi95r8gIdLgl7MSKg6ayGkUaFxz1R/GyZW3AwzXu1wjV9FY9f3kcBgQCg7iTWrOcDV+nxL\n",
              "s5B2KcV/a3L1cPb/drQjyNC0lE5duyHOfsqEZfBVVean7gpnnZ8EV6EkiYgg5vXFqef57MAt/Vwu\n",
              "YM/gAPISiaMF01WY6myBxdd/WDnrDIcPrSc6CYDhaI0ou7AF/xJWfLNbAKqykRrxQaNnPWFrQ4om\n",
              "PbsFvUjO3dyN04D+f+/RbGohSAdSIuALN++k7SPvPWzG9c/VfVlgLoFy46DkFaK2TrGX+OjOaoeg\n",
              "KwwpZSBUbc9rTi186XuakDqB1gSJ5hr8PtH5qg3pbwOELGs6HtB29E3MOpVRujvBgzDdVIlQOJ3o\n",
              "P64liuX9JxAWfJ3W0unOPSroJrC6MjsN7zsJZJLrWiWBgmYGVV2/kv4Fblt6kzzY4JnTFWWmoKQO\n",
              "D7z8RYOjMItzywxRGHP3Vd9dj5GvRAo7KmbBEkRHfZWNRhe/F2TSA+pHHzVct6YfrNEzrHmusQNJ\n",
              "vxEpMOfOMCZeNb3VMN6xs3chgdi7r9CILI4xwz5sxt41mUKZqTNRbVhGV9F+Tm/ZtJkEc0t7Go8w\n",
              "mdqGTaAPSQAABHhBnoZFESwU/wAGov2qAAIdYROK1wXOyXOtWoorTvx3lvFfp/otCHTt5CibWVKU\n",
              "yk5wa8qfwmewFs6VC+uCE4+n6wE3bQPy5rzuESs3VczHnjqVwdMpPh5vLLSNirjemrA5tSc5C02w\n",
              "Ox944ekYye1YIqiqBi1bDKNQxBTFK2Kx1LpV2XXnhEKGPGhMgmZ3KCZiM3/7OzgjVgZOlnH91rZq\n",
              "XyzBJsbiaX7yiCqtYT9sLEJryarvZ131NxISMIZHWz4FBtML6SLff1gMoLv6Z+35V0N3aliWECJ/\n",
              "QcFdPGsWJ75oPVERrh3iBh9UE53ODbHpa2Bmbv5WCSdwHmobKQtoxBy7t/6OHkKBTICJXAipNKvt\n",
              "Y/Sa8j/zXhZW+qEx5VK7YJ7R/0DRJiwyBZPX9gmr1qx0U/1gQwzrt3hS8G7tMA4rBmASKD4na8Gq\n",
              "9oGCvAop8SnEHV+54mIDV5/MI0JbwdAEDHcRNHBN8d6YBAJ6FZvl3JO1QGCocU70juuDioPCQ/ZV\n",
              "ScdwVA2TwdzXo//bCDKr2s92KMGHQDC/gG3KaXPcPfZwthZoTsrYoVjXhKAQoMjexgPM+9MJxiH7\n",
              "GWnvOhwUSD+Yad33CSfsciQz84077eR4zS4akTjG1Whv8swkKBzWoSRXE9qRh2FXPy26+xnEcQO7\n",
              "cFskzq/l/wEkhbBkQ9pr3q2jfVJuCEAz4MzvaaibK7Mr30qr0CGp8bUUZTA8lGOqVQ2MDAIEkYin\n",
              "xz55mduEBRutNbajPcRCPJJOmbVUqEdP+H8YZBH5uAAOsXQ0wj0+ecMdQe55yQoVGcpH5TbtOgQV\n",
              "+vWXg8BlWqhTkjk6Y9q+1z2Yx9UWmhhWX8LKKZuQ3QK9K+etKh5SFcp/jVGpYq2ZI9OSY+FfiwhN\n",
              "jyP9Fe08jNETsCG+Vi0xpF3mPfVYbTc18QsNcjuUMXsvqIREAXrSPtIkTwd3UoHyZvjZa9VdRPEt\n",
              "4dk9k4WC6T5aXCNmmmy6FthECtdtF2Hhc/yTbe8KPwPVjagMItjaO8vh20JKF/i7NiKFV8xZiye6\n",
              "napZcu+HdSVapCQeOeOPrRS5R/oDues7Y7HCBOI+x5W/zfOdBMaxTXTOQDqyGuAGb+kFd0SU7sQJ\n",
              "xWWKa8inOG3TLoThWpImMAmdMfdqgzsOBjR//yUJuCdaV5QIg0uo2/MCWLoHfQ6r24siqqkjac/c\n",
              "54GUi17fMej/77NeFo/KCwZQXPOg8xyDyzdsHfJrnesvLRBk8S3qSJSI0dZvbu3QCHY0CTy6QYXL\n",
              "Wy+qooGivDqO5o+4D2bS6PAlFZCD7b3FGvLBwHzitsU+GEipBWiuVL3co85OAGJoyS/Ly/N84EWj\n",
              "aRf0/t/xbptzu2eFkxfn/OUw7MLB9qyYFaiSyfvT61lZk1LXz7IFSpulOG6jhvZYNggHPFK+m7MG\n",
              "fHBuJc0EGIXhyw2saZb/bFfcIhFgvWiBKUkbOqWk5oU0Ery0rNOe/FLK+oHZyE0HrCbYN9BMKxud\n",
              "klCsX2KaWB/Jq3mAwAh5AAAB6QGepXRBLwASLG9uHcAH9bnCzAK00XC5AIgRnZpJQBknKpPDNOvW\n",
              "n3cpV7dpd6XQovz+qG0BG+UF9TzhQyHfFYOXtA7e1i0831gPCT3mov5j76NTJCSUhubyp97ahZ8k\n",
              "KGnTN5HyeCwWfnfGST2HhixKtJR5TZ236yQlgEbjWv/xsz/zEv+W970dGHGWKe4hjHDVCKPddkKu\n",
              "qwV4fUOyJQ70uWYsg3T0RRsql7OtLbzHg/3ZVuuAdvm2tAJasSX7xpthlh0gNKn7w6Xs/8vYwLfx\n",
              "wFmr4vQ8mzMc1nnWALbOBQLXLubknNAS6J18gQ1Hs1P/cdxZ4WbFGBVKgErUg4wXm7rM+/cVSMMO\n",
              "qL1+gBcysPy5Ophltp/3K/686ziqfhbORbb36lc5fL+q/+hXUBqBseia5k3VFCvmM9VSCnrpad0i\n",
              "ueXebYH6xqbJl09IIN/CkdLl7GtiEr/noiP7+/lF9QyvAtgcU0qRwkHMoizDg0DugNwVkCazY20U\n",
              "svGE95PPFpcMwe5Bh1prqZ9mkv2v2TwCV0TOGs1igBYC+0AVkFbEbMQUt2pO/pkuOiprp8PxOXz0\n",
              "CMrTISiGsxWhDkj1Ckaom1g3RjXF3/q/FVNK6iavrp230QuvMKIsXN5xt2h+8irg3kALiQAAAesB\n",
              "nqdqQS8AEi8ZozXACVY9PnYv1KA4BsVq7LphEBB0cIpKNGBx+vVmfP+bqUmpLvoyg+iwO1bIRXgq\n",
              "4ImIcCLmNx05MuEcqC69gYznziMJHXw1wdsKGDfpzOes6VE5r39CIDio17UH/THKBheA/P72qTPB\n",
              "o02djw9K9oyPJNLgKLhIzuSiugYTUPfVFPEhLv6JuMaLfX+r0XZVosj8pmmQ4T0hroWA/D89q+rX\n",
              "1atdrQkv1txEsgKtTX+wEmOn49awe2H8Pdc1dq2tSnwLwYXlSnTvwk4It1HOygIsHzTLxEjl7JwY\n",
              "gh7yMtZErM2jHx7EO8wN8/thKFwZH1UtyqrfGeg5rEiEGIGJ6cdthEz4mVYuZuj3RIuWWMn+g2X9\n",
              "62rgHIq6zEZ9FLaKdtpLMwOrcJBHq3EZt3FSf4WJOfVNXfvLvDa9iW4xdc3ipNpzKiwum+/9WlUM\n",
              "SpIdnW1KRM6FIIZB66qavUZYp0SCXNLKANkTDFAEtWZrx6yQGrMHNqr3uV84oYIQxLOu2buWpdT5\n",
              "3FiNLaKSvcGLbyaynHV2s0pp8i1ftmqN1pXkOVpfLlOkSf1pk92B82rYBVz2nPEBq/P2/w0JfBno\n",
              "VTcx+nxHou8MVzvC0b8RmxCrLocYq5plpwmwLogRzEwIOAAAB5pBmqpJqEFsmUwUTBf//tqmWAtV\n",
              "uoSpGvXmS+vXx7CaOoAf4ABrHuujekvcCQI0qygzTEqr3p2HGgziolEFfrWbWGVGBKW0qBBrIdZw\n",
              "rbm2QNgzNIbrKsqQzaBD2Z8i7GZK7geUDEFKA86YmA/41Mu0r50Ya08GeaCf1MJdTugBGN8YdO0U\n",
              "nSydL7eH1jIKCIarPambmnzonSBoI2uegBfup03tJPqgDwmN6NLXFi0ik1zewINmHonP2JUbAZ90\n",
              "/6M4Mh9oyFCYrPeZtt6anXqq7SaI+lP7IcE5/vE1asalotzwO6QIgIxEjJA5KsJ6Eeumcg3hGeXP\n",
              "ZCM4jnEiQRo1G4/TlYqA6gs45Vopi3WhEObe7nPKuhKnuAWaQKYSw3AFnrKMpcUmlpW8Kv7qYWNb\n",
              "SzhYvopBOXU+9wDDpkaq1xMiik3suhANY+eL7uIWQQIatBYefdCgCwaAY5/MB5doU7AybPdgbe0Z\n",
              "DIIpzxYYPoh9Q2TSD5aG7ZRQ5T2OGcmO7uNSsEgI7D4PlrlBcI2bioXqLPy+iED2kbV0MG1qTXqa\n",
              "MSz5NkIKzrN542BegOydyDv+LtydSGFeOcFuxG0PLwWgvjFOgDPLFrpKIjjehLtJB8vIoek/8u6j\n",
              "DF8cXdgeqJdU1SysKtcykB6LV1pNAzCqfYPafzu4VDRKjLQ/7W6OwfL2fOyChd/yheaJ1ADsRPQq\n",
              "OsGu2Mmr61zFlINBZag4DF/r3Z96GWlY8ktHeoDqF471ZY5hX/UrhPdFMl0HKknN9W1s2C7Tcwe4\n",
              "7Jyx1ALFTohyI5UbjqJRY/H/nH5btuNzIuVPCswnUhKBgUSbGqcFuN/1nwiZUZQtBSmRwz3EjgbO\n",
              "6Lg/0HH1mDZ2ZB6EFVad0mCl26WlDkWIzpnCQ47vDITWTHEviRcS5fOmLhvqdZcDUAusr4AmdpiR\n",
              "hvyJiTCq5WBgeyWJK327UQoxbAtWpL/4N0ks5ssSjM5Wz7TuIdwgtABTEi3glw6bRjjMK6WjVuwQ\n",
              "5iblpEjiVYRLLQQEnt0y/H0tCFLnF9mPNA7hpa7C48WAkUZc7ea4exHz9ia6SAKXgxkT4JCoWyTS\n",
              "yBI6N0lJro2DSzD9c1bpTogUNVU9DSf6+Ia/uKZeIZyh8VcdjG+rBBmOerr+1znfaNn6sWFVXRit\n",
              "jWEL0fFliUIoIJcWX9w8Y4x+Cr+4fxoSXDfw+xJFzbE6MZXHGrqD+k7hOpTNF0dO+ToT17jnglYe\n",
              "282MAa6FSQVM6jSaxgTMPLHmrb16pwIVKiow28H86ELJg4xVXEqncwJjeOnTf9Vay5tiKAFXWnCA\n",
              "fBZB3Fgcg4gevFbIDIsEC1dNMZiP1JvjCCXqHxYJyRbbSJO8NKO78m8KOupJEU72XKbqviRZC9yh\n",
              "N8Z2ohmBbNGmWwLRWv7/GOUANiAuZS1KcvhhUzhFVR5Jfqa7kjtA63fm1Qx5a8WSWJbX1hOHd8hS\n",
              "b/3zZE+RaXzvIm2oXIcysdVgANVmycam5aseHqrz5m31/MACEpRjoePZ7YBweXuNNWB9GY4oypRe\n",
              "KuXgnZoOzAtBsK2luqNeqatKp2/Yy49K75b10kLuYThvMCR7olTdPK4cWN/hk6luwjilSBr2+0l0\n",
              "Fwklk0wwctiBWYiyNK9yh5RufJKna78pQ337yGawQZpk2wsvWXUC13VPoGWSovmu6omtrcdtHY2f\n",
              "7Vg+mSFuejYo2uHUCvcQ3MUhCzEIdFd0/5a1z95qseBdoHiqEPP65d+AqgLdWNeMrlNE1OyJel19\n",
              "bl1H+nl+Nn9gno1lm8I1wqV7D4JLSBunq1su98FGKbbkiibH2cRmI11lMYYDdy2hBN5raTTqEBWX\n",
              "KjPROp87SRwg++epdwrAtqCy4xxsOzg/Y6a5qS1cVWiZl6bfiNSht19Rtc/58X9XuBLB2c8X243q\n",
              "fwSPkIyvu17019ebIzYNY2fg+nOMBy3dHAbFHE93mOC0J7SXPmUmeUMg5h+VDYYOXpKZd9eqJRJM\n",
              "EiOa+HmOHqwpSsPv3KabR2+YMZ/ctxxl5xFcSEONilvMEaUlPT7QqECxBqof47Nu/khMGmAH69CI\n",
              "OkleuOYtRmx78SVEoOsBAVsufWb//N7m4jMYKrLDNNuQxbzwc9culIE03exjkwWA80PMmlCR7Vbf\n",
              "oex2suCls+4jvShS5qoO1YVbqK7kLJ3U3T0EQdSNQCg304++Rm1cdB9A2p2UXjDMxGK3gccE8Qrw\n",
              "RSTdOy5Z7qwgSe3y966Llk5jlP9P9h+3HP1CwaeYKD+4YIDgcSf4ANVaJ2jXMrwVQkWli5YPqx3Y\n",
              "5/izvyZeC3doJC5hbOjltwzWiRAN/0Wg2efYUxVNvsAGh5BBSYeyKT4aXq9HII579c+tw3D2d4XN\n",
              "mZIUhESftuzfWbcfrd0hASl9V9eB0mDtifhExvoOgEbzsYydq+/PfrzfDgI+yJO79jMmPhGtCM77\n",
              "O3JjVmEpU/x2PJlltaOtI97JVDcR/kNEIDx9XLgQqDwZf8MLanwK/Ku4COfbpJS9/evsDBwXF1E6\n",
              "RV6/sM3CeZA+8YHTrb9XiGCYC2pEa3Y53txdPt6I92u0P4w+Y5H+RsssO4AMqAAAAe0BnslqQS8A\n",
              "FWGB065pU0idyTwAWwG4h/4SXnw0P1KWK7QHQPIqoZvrGZEsabpxqECYCMA026lAAZSU8787xDk+\n",
              "rT8CX6/a97ROvfRpNoGbv7CPAjMKDJ4i8VUgZGA1+30AuXVOwCI8SCQEIzge/5wtR7fu8EOKJlMi\n",
              "ELu1aMpKS+59O9IFOnwgeK8zO0iV2FQeG148l3En39k6DvrNhtRVgDu0++L6renPjAVgCoH9B/CM\n",
              "YxdEY8AiWA4b41Z4TePpypFpU7LlBwHCB6iG5ag7OS+NMod1tEEtgGvb2Yhbre2HHLRMkG9lwKyF\n",
              "6/DpjUGxy2TXHwLUOmDjROwy8bO/Yd4IGTdK4g4p53DQ5Fgs5/fsNIboXfwvP62K9oCRC2HIefX+\n",
              "qj+C2BXn/mV4p04BHiy5+T9BFuipswbRY5Mr+RYmZ2/CV4y2yKVQYol07A8XMs8SAHY4eKb6NARX\n",
              "tAJVqCHmFN0tghkqPThcqmOOk/H33E0ltOZ+mPx6C25R+mvj6c2PoPocenyTVhMgsz+S2CH4ZVVe\n",
              "G1qrNWjoIExa24EoUqDPDCt1I6LQP+kc0gGE+4aAUXxbTP0nqRIe9JBBlNXLKqzYknrvqWRtKeBa\n",
              "F2RFWTtN9h55CLjSJN2MLVkVfyLBNFCf0CZ6AArZAAAB3EGazknhClJlMCC///7aplgHVfH+gVL7\n",
              "ZPQAcXlZDQpvz59gG4XoyhVpH/doaAsI7qrmPkpEKgDa9CN07g1p/b7/mno+Y9UaB8xonSKFne3v\n",
              "X5TBgR/Qy/mKT/WgHF56/md0h1TCw7DpMDWdkBsSuvz//RuYvtv3putiRWywk2GQV8jFoMFiYmf7\n",
              "ayqgSYpyAVbPNBUvree1/fCvd6LRsR+UpjV7iBtSyKvKS/5jkdyrGQVRqsRfpeJc25jOpnQ+KBgS\n",
              "pKsZ+FDCSQpY1lsNJhqJtSBcTxzZer7m9iD+OWPJkAOw3+aDU8jEdOZi1JUe/DgRSGZT5oTBtY3P\n",
              "OiveQtIoLeQ0iiSMtFcIcmDNrCF1zzunBtpegCuW3ppdnu/47wMWvXy8lGx2McaoG4sWTl7wICzM\n",
              "T0vusSE+RRQU0BXVHvHfHOJVXh6uMf2ZN594YOEmgsI5I84uaOqRdoC/n05iSFqu2N0C9Q1Wi4yT\n",
              "an6SNLdiEHiyhsYFw+/PO8nv7ka0FuRhdMlcWhJ6ESGlKMYJOaQBO1yoEHufYEm6hFzY7gXFHdbY\n",
              "nZ398BPPqOsgd2kXS4q82bhzNW/R+t8dzDGVOymFjGv40ea0zAmmRLzihHPqG3/7tAe8AO6AAAAA\n",
              "y0Ge7EU0TBT/AAZJ0+RCSmAAmN/p5iAks3nFoIWjVd3Tz+38C9LTafeltQnyFPP4ZA8foMppalvN\n",
              "KYEPtbsFItpclKWPrHI1GBy2EscX5O16iFh9ZNEDh7J+ivcneRKN1rqAWOaaFzeCtqal7qfb9tmV\n",
              "WryzuCMFaLD8Ic12We6LIEvPdDjSbte/JaDId5spv0PVvo9PXbZyzfbDADjTJqzSCCXnkJaErmBx\n",
              "uLhSr+sOEK27gUaKlFJPcib0RT3bMCRric/C6DdwAFtAAAAAdAGfC3RBLwARlOsAJLPCFCmwnkya\n",
              "cL8u14I0ENGcuG9dL8LkjiApNcmSaJbYQGHbcvOb75E1A954gPy5f4VJlOXNwH3y5sHAHq7llJm0\n",
              "9duFXzUx8Lo+obKGnVhX9wiHe2U+vnXf+Qjl4C9uyMEhzYW9AALjAAAAzgGfDWpBLwARQYpn67u8\n",
              "xwAlWQ1qRLyXtybKcX6lA2DeNgpf3mX3iqazx1vWuGfp7MXKF8Cko/dP9g9tDo6j3KyD8sv7RzAP\n",
              "jdXwqy0KoXyuq5yndJ8YU8GmrGBFqda1kGXt7PozzyOrSudSjcBuqd8Oa3EfqgboneMuxFA0RPXb\n",
              "ub/poJslzbDpZg62fRkZC3Yo/OkfYKUwohN/VjDBLMDCMV94WbckXg4oiIAbb968UdUU7+QKBc7f\n",
              "chdUgF/iwScfiTcpm+KAaSs+KAEnAAACJkGbEkmoQWiZTAgt//7WpVAHVfH+hqtLfCgA1jQvWPMp\n",
              "UoLUJNiPRp+rmZQupdr3Mu4Bu4cbV//DioPzl1iMJhts1WmqFxupZgHqofw22MfosLdvP5i+2YZK\n",
              "dZlBj8XnitaunExJ5/X6hkT80+Gd8hyA9VR4w7gxjgXs+KhTDajZ46km8qAU+rtRwn1ZACJ3o8lG\n",
              "wfPLtnzSc5BkjkfcMd3UCfTwl/lx89tkmJTfQFAc2BVU1zUnzKB80xvi9bn0uSUXunEkeTPvIayu\n",
              "JXzAiE9vPR5IAn5Acvbb86WMWZNiYxrPnPtI68/EsJpm3F5dyfyX7/JF2BqtTY/GSoMvwrnrFXEB\n",
              "colUaFf2z24aatydSuYsOV5h7W0YhnoPQh/N9nHD40H3fB5lPNgAXhLRMBNk1KZT7aAeREdmfo36\n",
              "4lpsfXghDiHtq9WswgesjqaKMTI+poj1o/oxY8RkvXp00ODfH7dW3iIgbXr84BW8WBBNnFZeZpYD\n",
              "hcOhM7YyGWk4N/zmzsFkrHyIxyYTQw8i77gSMaNlzyoMxJO8x6mh5XEMYoogyJuMt6Py0pdtVccy\n",
              "Cc8y9kmShbrQeRLLgG/Q/+3DYhlfWA9rI0nngOTCn3FyBq35MTr1xSPksY5vFbAW9YrUY+JxOT0j\n",
              "XrZOWKPW5r0EVoB5sj1XzmyWffjM+iAS7D1p4biOzb0LD4qRYuPWRhiLn8WCFVkqVaOSdfQzuBFJ\n",
              "APCANSEAAAMuQZ8wRREsFP8ABmWwUpgAaxiJxYSHrAgzBRYAQ0cf1mnUncTKFWI0Ju17ni+tLQSr\n",
              "vhs7ysgoyjEqfZeo2V16HWmi/L0wwphAol8/bf8KhrKwVx9AyRG/kBTrfPJ1bMna6dFYl8qb7/wh\n",
              "ZynwRX0aiLUvOJoGpqImFaprU3PHEF7lwp3tq2yTjShFOR0rTUeSli17wXuTBUbMw82Y1F1NBpzD\n",
              "EFcca1PcStbnEXz+LIXdxANhTt0c/svOMtrL9jKlooklANTF9a820+xmvhcoGdqbHJRS/2NsVwAt\n",
              "lAC8KSDhCRx/koWdtDhftdbCY2ZgRt+vbl/iMY26el3CLzUgf951ikQDvFt4qcuBacs9CtOCzYzw\n",
              "V55NcVmHH0KWWI8A1ilET+lYtYCsDvHiEj6zqKZ8t8vnsmhN7D2+m6suqfRDKqB4HJYKFj1JhMKM\n",
              "EvvEPvFPtKS9M/HXFY9+fp92KSZZCwqvvF1abgSBNHwciUkgTuBg5pSW8so/GjFIDqHBcxQrtYdW\n",
              "+MYsh3FsEzLHPkbk6yFAJYJdIRkFMOLKYTM9Aq5qroh/xSa8mYu/MCXGsJBxli6p4TIfKvzBtmco\n",
              "dWSkTvL9FJ94xjg3BxTsFltwJSzbH/TkvOk5qzJn0wxGTkAbL14wC7k6iyg08x467zT6nO89qW5N\n",
              "8XurP0FnVGH4vcQvg3yDl4ZyNxFbi2v/pdaAPQ65DlyQ20AAd5iKBrDXLnBCcFeW879mBPleDDjp\n",
              "tVUXSQiTzwUs54C5+UlM/z0Ec8Q69/+Ccq0hAnMhACRWxOLjistimFttfkAi9yCJMdOex0B+1py0\n",
              "x6dmNt1V0ge0ybQhogAKqi7CdvBd2+KTvI66XenWKNGFZl/4ONHh/lZWBshidx5akhF5S31llHCY\n",
              "XPiUlCuRz8h/f9Rk4sHfYaSTFHBG6QsONnph2j4m1i7jKgEnYd79ICyRf9jexigZs5XHLQVifzmP\n",
              "b4ZSH7nMEdVjhodDxcwtwmXQ5pI2BnAEg10EHihfNSPo4yq+w4BvaKnHw3Z4Iy7zZQS2VbkxqVVJ\n",
              "GYpIRgB/7oQlAKJ8hxtIZn/wdjeTXUABLwAAAKEBn090QS8AEUWSOo2AEqxFbasSobImNdanPA+T\n",
              "fApCDc/G2vJEnL5mKeY4Sh/s3I+Vzcn4k/85C8VcjXXp2xejYJEHQcV320tjTr0jeF3e0bUw/1t6\n",
              "6paypweiH+f7xzSMxcBxnkBV5VPHmpKD/RAe2oWdlA5PyGB610nq167mENQgL/0GuxrP9LHq0GjG\n",
              "nhVtfznHNLv+Vej0UrNP1MgBHwAAAS0Bn1FqQS8AEVdVtk7V9OAAEzPbQj/mOWCGp+CDqybanPNm\n",
              "iAnsoxDoM1/62Lz6IyP7rbt5gafvWICHw+Uto04Zr6wjXdYu/Rg3EmGpY/kEDpu0rW+mwL3KkohF\n",
              "PCBQKE9osG8FICUDg5ubdiy/ao0ZEE7o6ukP0oRIAom903w1P2s8JRD/vT8zBljdJ6wjaUYUowiH\n",
              "FwChz3UZSaCV926Q+NuhAEFPdts4VikTqNBPtQFpMwUJb8Spf4nSX8Daa8iF9drXHIxAQ4QiQpAm\n",
              "4eUomYK5RnUiLbOrUevr6fxSlSjIJW/bqDUukD4FWqh9K6oVyzII7el+M4vEw0gHx9JNCg5zyQoY\n",
              "5+SHCTZhBpvqpTghKxBwHjfYZxaJZMYyZFrOrL+bx3AxAnOn+AFxAAAEuEGbVkmoQWyZTAgt//7W\n",
              "pVAH15MoADc9L4KM6c9nzQdnSIpLAj7wuFmmP3EDQQ7fh88ePqvRlRZSB7i+8GXnytBdIerwXke7\n",
              "Xh2bcXsDra3mXt+PRvZ3/kXPB8LEX0LT6WJn138eL1ik+XZuE6OxKPP+VGivzBzenn3enrIJMqLY\n",
              "4ZypF/9bLzhZo3mKCrbxwMhWcbtV6pzwEG9Oz5ZfgiRVX0t1+YrB5Lyl1kORUtP6KOPD1AN31nky\n",
              "wxgIFDK0/7od/sa1kVWlchi+Cs1mazOPwzKCb3Aj+M/wJT0x7K5ynpSC7MJoEFX9QoIdWLdrRstI\n",
              "UW8E8nZr54uxbOANrv3kMZAKY72FjOBya4Tp7K0CSHKnYDHDTIKfkYYV/U3QM1ain9au7ZYIHnsR\n",
              "x0LLTw+AfuthviAAMF2akA2VBmsZjDpNxA/ALKQy9QqMnxW6/7E63iXBvJ8HkyUbGMB4+sOY3Jjp\n",
              "E0tPBt0aQngVMX2gAL8JV9+bdiC1xZ93vJmwWE/dEme8CKDpsqr5gSkCLvG/QujbYvL7c6Egmr4W\n",
              "WnrP/PDe6AUTXJpE6q9byUZSYs5dTGC0jy/43eghE+tq3B9sgMcFF/OAX3E44Fs8YtdU6bX/fp6V\n",
              "+IhvSUOHy00QybnXKauHUoBmXCV18i4Tx9ow8Duacqg4KT4wV2CnCD7FsXu5tnyxLUEiGbToiSqC\n",
              "EwenLxl1/5xHCj0yx6xDEQFxTExENCaApz2QYHD7ILM20MXSSXrU5jt9dqUD/6M/2IRon1JFFT3j\n",
              "TyopedOvuKiSNnMnFV/cUB38r1tjwz8Ef4XJZoCTqJZ3UH8kZE9BuSX1vJ0X7jrp0kQM6eKkX7Go\n",
              "EQcPhfAInrN5Fm6w7woOURnaibV4JYQxfjnJYqrvOZjDS1WXeIspTaEU/8XQIZFye0DIbBoTpNlP\n",
              "AMdWP8GVmq5eoI2pVwRBekZFKGG80zsMx2lWC5Q3Zxsf75IYqINIlPV5b3j7K5JnvSaTqcuZRHFL\n",
              "omKteRUd9er8ehLqa7bzi5EsPyszckS2tUc/psRNh8cOJmm7lo0DbiVgWgB6B3hv6+qrI4kITVfQ\n",
              "aZH9VcCzaD/tmIFBPpKAlpq64momU8NbE3QqyfS758WiUEQRJNs0erIzKjB67QXcXzdp56WJL/89\n",
              "xTj8HFbyXYfKIaWM+7vFw3onrenShIF2jNEWf2ruYP5xfX/+JR03xpeW8BCHWMTQTWWBfZCMaF8k\n",
              "SeSUSagkoDASeuQP8B3VyGnadIP8dD4A8QP3U/z9L2VhQrLzr6edB8pK/LwhECXS25dLqi79Vgeb\n",
              "TN7PqTAPphDUKIhmj5EyHjqQOwys1yCQrluynuOQrqRRNhaWErz9xkdI/epRMYbWuTQM1qrkToFO\n",
              "6LtJll2k8ZtUgdB0f0L9aN2oWcA+93Leat1vSJ0WJB6UDnD2Lt/81yjUKCYPag2nh+2wty9V/Av+\n",
              "f1vSrfNi42drSCiDskeqxMcI+rYjPDruxVILE/AoC/o/jj/VCau/YCjScWmZCAH+vlzh0kNndxZU\n",
              "rjNJNEsjSzWo68bRoxIg12tJ4B5L1kAo6rMfMo/NeLAwHik1RbOkLfwb3q/zMHZSh2Q8GCygAAAC\n",
              "DUGfdEUVLBT/AAaigVnFUwkAAh1IA1Aq5lSepUTtXwV7WYrc3giKA3p4QtBvE8WAlG6KQqxa/8YC\n",
              "v20PVZomCwTB156WH7Ptlh/+1efJN/LKqV+INWc/6E4ZvrUv/cvvKtGqTBORu59S6i7IwKZJ9nhG\n",
              "B8gbePfvA3U9tZCVxoA1v+A2dVEsAOZXZGpGpMTGYgqq6W4SsGmix4t++ZiX9a59/CXjq98kst+V\n",
              "XxgBT6QwyH8Hx4ezaPqi1gByx7765jMXKim6Ba7FKtQH+g/COuQMdb7SQrt9AiCUMB3W89rY3cgu\n",
              "2DCawC4Wj4ePDWQJGUYPJIdhA9a8j4Xr8Fyv/3OI+T0rh7Q3vV3hpkdyBspafGbHWzLh/YIOq1Qm\n",
              "01j7I94+1ysveADLQOqDHWG+SOaXXFKUQHuniYql2GYktemkQ50H+mTpvleVzNSkE9xy5H5VsOQW\n",
              "NZ0ygmNyV1LznHAzDbai4RXQuOQHVkqvp/nrxX3tDi9SEY48yIqQBXVBPMYpidwirNLolv1UOaTr\n",
              "nDzCq0r/tYA4xES5l0tYXBeLVberbmbXrr/8ZF9VpbjAMJtB5x3F3XZLmRvgtwmS59Jx0YRbLhpg\n",
              "NjmQLXdA76XKQSAEpcq3dqdmlo+DG5vIdf65gANgZKYy1lEnF54f4DB1zGmjvII6snARbySEX9lf\n",
              "IFLoTd+oh+PCXgAOmAAAA5QBn5N0QS8AEjUpN6bpgAWy+KiIIbw15TLRQL9JQc/sOgigZkRqt+lB\n",
              "jvl9rLGzPIyQQmHqhMmzMotbmklbdIVwQWYtGKau2PXCT6YVSLbU3lESEYjDJS8Hk9SOnZiR4LhU\n",
              "vguUfBUmlh2yq7qa6QjweFSpfierifVq0S/6K9spg90kRMxwcywfR+1o5fBfLiLudbaXCqXbKA85\n",
              "ZsbuSsYw6uA5ZXJIeJwq/nHwlMOWeE4SXEipBpxvTfcIwyLdHK5xPkMvSdUWjekZipYJ1zc/MPlT\n",
              "XaLOGsgBjV2HzWDVwhY+3iJGOSKqlCL7txX8X0ODzTaXUTKT5AhYhTqbbuLQt7wprBPDFVx/xaIc\n",
              "se1U/rFLC+lGIYE6CCnWgZhegi0htQXis9GPeX+nNTm4L31w8r6R5TTJ8thkCk1Vss3jh9xqxYAL\n",
              "Gqd2gNIDqQrmg5kYAuaxlvcvjchJjNMN39j0Z9TRHfKak3NtI//Wl+kVzD1+pGKD3EdgqOeXLfqj\n",
              "THG9E45Hma7908MehotJJ10V+Eu4vVTCvT+dhHuO+FwnEQMnRGLW7dxmCV0dP3WLH4Tql71lQjwj\n",
              "y73aWgiPqKvHb+QN5Cm+80w7RlHoc18oBaItn4rbys5olcG9H4vwAfuW8jzUSTTljYchPM0QZIcF\n",
              "jzs8dgeivebPBRCcNnw7fecjmxvFsweiimoUax4tUpGZ1paiRSV1rtw5M5JyFQs1582L3TdtoX3c\n",
              "HuiuxWwxa7snYV9Dtvl7amb622XSI1F+bcyKclS7edRYN9ZpYyd0i2rn9rMQAAIeNWegh2071tiR\n",
              "ENe+jA+7lIsFmYkJz4IDb83jUAsbo72+AnmMZkLvrQgZc7UpP+vBIK3crRKdvBywZXQGwjrCn6Q7\n",
              "V1OpWu5qeby9hUScWQnjBuYmg2anQLd4jfkCP3t1QlwZ8xSSmUZ8ucSnkaUZ/2v28o5bDVgtSzkt\n",
              "8dkVZzM0x03sf583fhnm2VVhswN/36KF9nvSieMtVrnHLS0zdsuNJ4CuLxJPNBYEnPXn0R00Z7Q/\n",
              "lhmSTpEt7cvfmhwcpgKVpB+VTTd6C7vBKqd8ztt9NzFvZS4Yjd/nNj95GFWC/xGsoEevI2fnKrw4\n",
              "rXh6ryF2W6ondORNYgCnvD1Rmagw7WjIiEIDkULCDyAOPZ+VtvZhXRA2izVS69A8yW2UVeJmflIt\n",
              "YUGUeZmvENJ4JbD+WRYC3r6AAAypAAABzgGflWpBLwARg5uagcAJLTilDHHUtXIunWLAVhT1/k1e\n",
              "UG22p7xJlAcK56qEFN5fBjyKYlRJ/tSfrHDYppVy+XYe2odoT+HClNJS2ZQgrpcapHo8dXkD1OC6\n",
              "ysRP+0TuEpC+ox4Z0Syn0hzAo3Yelo89u+pvRohU3FLj3elZIJ0Bxu8/sBwgkhpaJSDgUlyIO4vv\n",
              "f3xYfsLCK9wJD/WR8BugHhecfCh5bCnLfvUuEp+UXrplDDT7TEomTtxNHPzD7NTcmE/pIBAcVOny\n",
              "7xq4LBQPDkNjKCUUvX1T14ZoSx77IBHg21Powjo3Qy+6L2mH5Ll6GuTCNqn9hPDiP9dpAjYCCbzS\n",
              "89XybGXsMaSjLQZUmYxOYZZlqtfy1rlIvk4711MjHedNS/YEBAkUCRTGPHfb4SdU2OAEPhkBzbqx\n",
              "dfsdsvwh2kikSKwhJJj6E4jSVRc4A38gQFyYqDOMJKNKkfO499SjNPmemfZNm+1TCfnRL6IwFjC9\n",
              "GG/S/8bTTxjx6pCAV+L59MDFECjYYUEslWUc908qeSNeX1DNRyLaZMCi83c83+zMjbNKP6zBRUpo\n",
              "n70AlQQ2hgHAk9OucWT0PHrD4jZ0Tqd0Ga5EwBAN6AAAA8tBm5pJqEFsmUwIK//+1qVQB0feP0gA\n",
              "1jNoA8yejvd6KOoY5FD58YAOYzZzOL2nergHdwsKh0ztNkPm5Nr+rfF3H7kotKXwfBXG9OtH6Hr4\n",
              "p7LRHpyl0F1je/xGjveHIoEP3gG6dMITLpdWnSJonIavoeZwGO5dCfPelJx60KOCLIvdD8Idav/t\n",
              "UBy4glFjaqbgrJ6pSjihjJw0ZdM4R2yQRHO+wIi3l5c9vY1ONqR+XN/j1lCsa1A9M/rnbrxErDtT\n",
              "mq6LZWuTE1SAjEK51tbfjgq+8eenOBSt3T2GS6JSKtObjXM+UofM8mjMLkLIucjR5J2GC5Y5njFl\n",
              "7BcabTgTcK7Wr40CLSLKfuZpK01vMcYvOJSNCMNE9DlaEW1/cJMsyHKU7GUbB2Jja13IukhYn/1T\n",
              "NuacpgUl/b2lFHumb1DoWD2JZYHarxFyrbu8xJIvlJej2QjpR5yY7KueIS2eacZ4whaKVMOF/5lB\n",
              "HXkcNg6Kn9TlkihFXHU5+6qTMlGsKyGp/+pijqCqGSXRjgNiBiybu32gyzRmkwHT+lx/SGCkXlmA\n",
              "1LKfnXX4Fqp/HmbTYt2d9UyPDatb0jS0x8/PRAsHNJWInMdvmZg7HCnL8GmeBr6qoqP40mOMiE/Q\n",
              "RlH1D9TjWxMR3oBgyKFuonW2WBSJ89qD8gVOjdoTvhaCLBnJbDFzzoN8pa5RMNa2L6g/pVMgYls7\n",
              "g0nPU+BO+eoL1md2lYKvvvmAaQ7u1OgxvZM4oOmQNBRuKpA230K8PVAl1rdRucqPTNNt4keQt2Ir\n",
              "51kFoBZYCzm9Egt/hQ6FiCrtH+TjN5wJ/UXyH5Ub/j84BMFOWpZq8gRMbf4Jwg8hC0ZXQ/T1ct9Q\n",
              "uzDVO47p8ls4y0LNrh2Ey0mzH8Yy4j9uVfirAATHQ5bC1m6NVGfiruTlUknZzdseV5+8EOmD7aqg\n",
              "rgpaf2JTTfDIY2ip6fPDwSj2vqUJWQteizBgIT7z5lOkLm7XvDAOeVVRoCEV75Nx6Fr8dguUH+kd\n",
              "KUStLxQzl25AWPVf4a4/ea8tVs6Q4ss+aI3wUStGAKJObNAc4aJ2m0TGCfZKn+FqPGHV7Zm0osMW\n",
              "p8unXr3f+WLVMsj1vNUJcaateTRmlPKkJdd3jkMlK/ldhPe5aIv5bNNCRdXmNezKI4REdfi2lSnE\n",
              "m+7Kcs/sFcFoj5xzN5mIv0yvGL0UNtGsdp1d3jTX65MuSQJWs+PSgo30aogvHlnHXv5BA65PUdst\n",
              "SovMCWdIxyV72HduEzPo7S0P9ljXWxJhr39QJs/lvtIy4ACDgQAAAIZBn7hFFSwU/wAGaryAD1Mx\n",
              "QGopqM6BRe9x444NEOs7sOXz+StZYY4u2fR4SXCo64Y8pl3Lqld1wimzOvMypU/I18VktvFe5VkX\n",
              "AKjYbtRDM7Bxh1m+uYBzJo01Nlko790HmqhXB1n/3tqdAO5NzTs9l1vX386JNSnbBmN72kHZx9zV\n",
              "PhgB/wAAAI8Bn9d0QS8AEUE0wnUzwAAWzCiKRLy7SsKIwwtE07cpJiNGiZ4WMGr87JZmY6O/MEKl\n",
              "KS95arxvEkB1VvFUOke1fvfS7bURRMtmDwNghoCWtILgQgAE4HTjS9x4Gxb/0lWCsFJbTml86gHq\n",
              "2KlvGnjY3+Pw+RIv07/ubQpMLnTVLQp9GpdMEzxhXpYt6/ABZQAAAI8Bn9lqQS8AEYJBSLsAJLTk\n",
              "gsKtRL+q1ZWsYhZ2hZxUQpML19bb7B49JFEsCwqEZH/Oqrl7+q2t7TBdXL1Fc+I3vZ+AK69FHw4a\n",
              "5CkInOSFE+Tqy5VHd8GfKDpi17Bm12t1ZdMs7WGEJI694Ytq4Fbl7ZFZqBa3T9/72qkoFuIwzzeZ\n",
              "i7qpnaCUAeF5xIBJwQAAAIpBm9xJqEFsmUwUTBT//taMsA5l/5rAA8jbYZqVeB9F33doXE3JXNDc\n",
              "fC+8jXvmqzsBXa6Yzu93P63OhoLe2km7QsGGv/6DlaWdU/vpw273JB4yHqafRkXCQpotJjH6mlOy\n",
              "7csa+8W+R+uOmqENJCXblLa1kuFtnV6a04mK9/yAAAAOROtSqAAAKGAAAACDAZ/7akEvABGDp0IG\n",
              "0oAJpyVFPM1+JiUFirHm22F4vGk4aQ7ajMVYv+qlYD2iXOfVQ768gKCUs+toZgV9lBHwxNEGzw/a\n",
              "oeZODGJuvePGdiixB4IRIZFvDQ0c/JH5jOlYg0sCrF6yucGF3etaM27x/l/6WLD9qjTuUTKQD46K\n",
              "bAAADLkAAAJrQZv9SeEKUmUwIJf//rUqgDmsWaACc1UOjwaUBDqeywShT4P8jTKrge9ePLjuB0lQ\n",
              "PNBj0GxQHTdEYHsprKwRqTN4FPQjM/hH100Uc/VQx93MK1i6NgDvSf25+bC8psTZcW87ZHp5h32j\n",
              "cwpCtA8TF480FVzaSgicx8EbULC+Uu434NQEBWLYlkOfscIvxKpEPqpNpzqdUpg2x8wjn8KBVblK\n",
              "XUEd8eryU4H27Ndt4Tj4PXLXtZv72CJSCcE2y8JP5U4PtxgiEuq9ZzXsA0eK6at/HgNrGstfB4JP\n",
              "1JZ2XXfRxenDDnlxZLWsaJhc4vs+YoLbCp+7fVN3aRYafLpUIa73MCWZiKc06YQw1MHsmT2EWdzC\n",
              "62oIbu+NALMes8/IdFsiAZch3hkVAf+PTDs2TFOR2rmeuVcoHdFeLHgtJ8NimYFkx5snBzwiN+rT\n",
              "VPMOPslzp8eiUPZEoFTcix2/NQqwLjcbktLheD/G+/YjhzaArF9fx2eRkOF8coQRLOWFqBubwuPY\n",
              "rOi/oPf//GTPb5B5Y5v75Kk/YhzKFLv2PWgmmBuy+HHxSqYp7aTtn/LAU9i02GlI7kCFY6nuV6P3\n",
              "bzapmq6ypvys1uSmHFyeEwy+RAl0Sp7hiBCmR42X3yHlfZ78w2aK1glVPvLIYolkjRhTD6BGEooN\n",
              "9RQ/S9OTJ0AJQFr6YtHwxYqagABY+LqbTFUChB5XdQ60QhCbb+96t9xpiIqh28xGhNg/RIGx4z2q\n",
              "LxRHCqLx9ZfglaOO9hziC3stWfX53ZbPMDtyvb1hgQyX0ALv/3md55FBW9LKY+H1fGV69alUAAAL\n",
              "OQAABJdtb292AAAAbG12aGQAAAAAAAAAAAAAAAAAAAPoAAA6mAABAAABAAAAAAAAAAAAAAAAAQAA\n",
              "AAAAAAAAAAAAAAAAAAEAAAAAAAAAAAAAAAAAAEAAAAAAAAAAAAAAAAAAAAAAAAAAAAAAAAAAAAAA\n",
              "AAACAAADwXRyYWsAAABcdGtoZAAAAAMAAAAAAAAAAAAAAAEAAAAAAAA6mAAAAAAAAAAAAAAAAAAA\n",
              "AAAAAQAAAAAAAAAAAAAAAAAAAAEAAAAAAAAAAAAAAAAAAEAAAAACQAAAAWgAAAAAACRlZHRzAAAA\n",
              "HGVsc3QAAAAAAAAAAQAAOpgAAEAAAAEAAAAAAzltZGlhAAAAIG1kaGQAAAAAAAAAAAAAAAAAAEAA\n",
              "AAPAAFXEAAAAAAAtaGRscgAAAAAAAAAAdmlkZQAAAAAAAAAAAAAAAFZpZGVvSGFuZGxlcgAAAALk\n",
              "bWluZgAAABR2bWhkAAAAAQAAAAAAAAAAAAAAJGRpbmYAAAAcZHJlZgAAAAAAAAABAAAADHVybCAA\n",
              "AAABAAACpHN0YmwAAAC0c3RzZAAAAAAAAAABAAAApGF2YzEAAAAAAAAAAQAAAAAAAAAAAAAAAAAA\n",
              "AAACQAFoAEgAAABIAAAAAAAAAAEAAAAAAAAAAAAAAAAAAAAAAAAAAAAAAAAAAAAAAAAAAAAY//8A\n",
              "AAAyYXZjQwFkABb/4QAZZ2QAFqzZQJAv+WEAAAMAAQAAAwAEDxYtlgEABmjr48siwAAAABx1dWlk\n",
              "a2hA8l8kT8W6OaUbzwMj8wAAAAAAAAAYc3R0cwAAAAAAAAABAAAAHgAAIAAAAAAUc3RzcwAAAAAA\n",
              "AAABAAAAAQAAAQBjdHRzAAAAAAAAAB4AAAABAABAAAAAAAEAAKAAAAAAAQAAQAAAAAABAAAAAAAA\n",
              "AAEAACAAAAAAAQAAoAAAAAABAABAAAAAAAEAAAAAAAAAAQAAIAAAAAABAABgAAAAAAEAACAAAAAA\n",
              "AQAAoAAAAAABAABAAAAAAAEAAAAAAAAAAQAAIAAAAAABAACgAAAAAAEAAEAAAAAAAQAAAAAAAAAB\n",
              "AAAgAAAAAAEAAKAAAAAAAQAAQAAAAAABAAAAAAAAAAEAACAAAAAAAQAAoAAAAAABAABAAAAAAAEA\n",
              "AAAAAAAAAQAAIAAAAAABAABgAAAAAAEAACAAAAAAAQAAQAAAAAAcc3RzYwAAAAAAAAABAAAAAQAA\n",
              "AB4AAAABAAAAjHN0c3oAAAAAAAAAAAAAAB4AAIi1AAAJywAABFAAAATNAAAC7gAABoYAAAR8AAAB\n",
              "7QAAAe8AAAeeAAAB8QAAAeAAAADPAAAAeAAAANIAAAIqAAADMgAAAKUAAAExAAAEvAAAAhEAAAOY\n",
              "AAAB0gAAA88AAACKAAAAkwAAAJMAAACOAAAAhwAAAm8AAAAUc3RjbwAAAAAAAAABAAAALAAAAGJ1\n",
              "ZHRhAAAAWm1ldGEAAAAAAAAAIWhkbHIAAAAAAAAAAG1kaXJhcHBsAAAAAAAAAAAAAAAALWlsc3QA\n",
              "AAAlqXRvbwAAAB1kYXRhAAAAAQAAAABMYXZmNTcuODMuMTAw\n",
              "\">\n",
              "  Your browser does not support the video tag.\n",
              "</video>"
            ]
          },
          "metadata": {},
          "execution_count": 25
        }
      ]
    },
    {
      "cell_type": "markdown",
      "source": [
        "We can see that during the first 10 or 20 iterations, our model converges to the expected solution. Based on this, we can add an **early_stop** parameter, to indicate to our algorithm that if cost function does not improve in a next iteration, it stopped to run. \n",
        "\n",
        "If plot does not show up, restart runtime and run all."
      ],
      "metadata": {
        "id": "Tmu1IxATXWe_"
      },
      "id": "Tmu1IxATXWe_"
    },
    {
      "cell_type": "markdown",
      "source": [
        "# **References**\n",
        "\n",
        "* **Gopinath Rebala, Ajay Ravi & Sanjay Churiwala**. 2019. An Introduction to Machine Learning. Springer Cham.\n",
        "\n",
        "* Principal Component Analysis from Scratch in Python. https://www.askpython.com/python/examples/principal-component-analysis\n",
        "\n",
        "* Definitive Guide to K-Means Clustering with Scikit-Learn. https://stackabuse.com/k-means-clustering-with-scikit-learn/"
      ],
      "metadata": {
        "id": "hLfyJj2MfaTg"
      },
      "id": "hLfyJj2MfaTg"
    }
  ],
  "metadata": {
    "kernelspec": {
      "display_name": "Python 3 (ipykernel)",
      "language": "python",
      "name": "python3"
    },
    "language_info": {
      "codemirror_mode": {
        "name": "ipython",
        "version": 3
      },
      "file_extension": ".py",
      "mimetype": "text/x-python",
      "name": "python",
      "nbconvert_exporter": "python",
      "pygments_lexer": "ipython3",
      "version": "3.8.10"
    },
    "colab": {
      "provenance": [],
      "collapsed_sections": [],
      "include_colab_link": true
    }
  },
  "nbformat": 4,
  "nbformat_minor": 5
}